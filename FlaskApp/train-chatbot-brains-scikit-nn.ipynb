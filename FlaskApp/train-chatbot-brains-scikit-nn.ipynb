{
 "cells": [
  {
   "cell_type": "code",
   "execution_count": 1,
   "metadata": {},
   "outputs": [],
   "source": [
    "import nltk\n",
    "from nltk.stem.lancaster import LancasterStemmer\n",
    "stemmer = LancasterStemmer()\n",
    "\n",
    "from sklearn.neural_network import MLPClassifier\n",
    "\n",
    "from operator import itemgetter\n",
    "import pandas as pd\n",
    "import numpy as np\n",
    "import random\n",
    "import json"
   ]
  },
  {
   "cell_type": "code",
   "execution_count": 2,
   "metadata": {},
   "outputs": [],
   "source": [
    "# TRAINING DATA\n",
    "with open('intents.json') as json_data:\n",
    "    intents = json.load(json_data)"
   ]
  },
  {
   "cell_type": "code",
   "execution_count": 3,
   "metadata": {},
   "outputs": [
    {
     "name": "stdout",
     "output_type": "stream",
     "text": [
      "62 documents\n",
      "15 classes ['check_ahu', 'check_all_hvac', 'check_boiler_plant', 'check_chiller_plant', 'check_energy', 'check_future_weather', 'check_how_it_should_all_work', 'check_power', 'check_runtime', 'check_zone_temps', 'goodbye', 'greeting', 'options', 'thanks', 'what_to_do']\n",
      "152 unique stemmed words [\"'s\", ',', 'a', 'ahu', 'air', 'al', 'alarm', 'algorithm', 'an', 'and', 'any', 'anyon', 'ar', 'area', 'at', 'awesom', 'bad', 'be', 'been', 'big', 'boil', 'box', 'build', 'bye', 'cal', 'can', 'cent', 'chat', 'chil', 'cold', 'consum', 'control', 'cool', 'could', 'damp', 'day', 'did', 'discharg', 'do', 'doe', 'doing', 'down', 'driv', 'duc', 'dud', 'econom', 'elect', 'energy', 'equip', 'fan', 'fir', 'for', 'fre', 'freez', 'frequ', 'from', 'front', 'fuel', 'get', 'going', 'good', 'goodby', 'handl', 'has', 'hello', 'help', 'hi', 'hot', 'hour', 'how', 'hvac', 'i', 'ilc', 'in', 'intellig', 'is', 'kw', 'kwh', 'lat', 'leav', 'lik', 'load', 'log', 'look', 'mak', 'many', 'me', 'mix', 'mod', 'morn', 'mov', 'my', 'next', 'nic', 'no', 'occup', 'oh', 'ok', 'on', 'optim', 'or', 'our', 'out', 'plant', 'pow', 'press', 'problem', 'provid', 'reh', 'return', 'rooftop', 'rtu', 'run', 'runtim', 'see', 'setpoint', 'should', 'spac', 'spik', 'start', 'stat', 'steam', 'supply', 'suppos', 'system', 'temp', 'thank', 'that', 'the', 'ther', 'thi', 'til', 'tim', 'to', 'today', 'unit', 'up', 'us', 'vary', 'vav', 'vfd', 'warm', 'wat', 'we', 'weath', 'what', 'who', 'with', 'work', 'wtf', 'you', 'zon']\n"
     ]
    }
   ],
   "source": [
    "words = []\n",
    "classes = []\n",
    "documents = []\n",
    "ignore_words = ['?','!']\n",
    "\n",
    "for intent in intents['intents']:\n",
    "    for pattern in intent['patterns']:\n",
    "        # tokenize each word in the sentence\n",
    "        w = nltk.word_tokenize(pattern)\n",
    "        # add to our words list\n",
    "        words.extend(w)\n",
    "        # add to documents in our corpus\n",
    "        documents.append((w, intent['tag']))\n",
    "        # add to our classes list\n",
    "        if intent['tag'] not in classes:\n",
    "            classes.append(intent['tag'])\n",
    "\n",
    "# stem and lower each word and remove duplicates\n",
    "words = [stemmer.stem(w.lower()) for w in words if w not in ignore_words]\n",
    "words = sorted(list(set(words)))\n",
    "\n",
    "# sort classes\n",
    "classes = sorted(list(set(classes)))\n",
    "\n",
    "# documents = combination between patterns and intents\n",
    "print(len(documents), \"documents\")\n",
    "\n",
    "# classes = intents\n",
    "print (len(classes), \"classes\", classes)\n",
    "\n",
    "# words = all words, vocabulary\n",
    "print (len(words), \"unique stemmed words\", words)"
   ]
  },
  {
   "cell_type": "code",
   "execution_count": 4,
   "metadata": {},
   "outputs": [],
   "source": [
    "# create our training data\n",
    "training = []\n",
    "# create an empty array for our output\n",
    "output_empty = [0] * len(classes)\n",
    "\n",
    "# training set, bag of words for each sentence\n",
    "for doc in documents:\n",
    "    \n",
    "    # initialize our bag of words\n",
    "    bag = []\n",
    "    \n",
    "    # list of tokenized words for the pattern\n",
    "    pattern_words = doc[0]\n",
    "    \n",
    "    # stem each word - create base word, in attempt to represent related words\n",
    "    pattern_words = [stemmer.stem(word.lower()) for word in pattern_words]\n",
    "    \n",
    "    # create our bag of words array with 1, if word match found in current pattern\n",
    "    for w in words:\n",
    "        bag.append(1) if w in pattern_words else bag.append(0)\n",
    "    \n",
    "    # output is a '0' for each tag and '1' for current tag (for each pattern)\n",
    "    output_row = list(output_empty)\n",
    "    output_row[classes.index(doc[1])] = 1\n",
    "    \n",
    "    training.append([bag, output_row])"
   ]
  },
  {
   "cell_type": "code",
   "execution_count": 5,
   "metadata": {},
   "outputs": [
    {
     "name": "stderr",
     "output_type": "stream",
     "text": [
      "<ipython-input-5-175f8a2b5529>:3: VisibleDeprecationWarning: Creating an ndarray from ragged nested sequences (which is a list-or-tuple of lists-or-tuples-or ndarrays with different lengths or shapes) is deprecated. If you meant to do this, you must specify 'dtype=object' when creating the ndarray\n",
      "  training = np.array(training)\n"
     ]
    }
   ],
   "source": [
    "# shuffle our features and turn into np.array\n",
    "random.shuffle(training)\n",
    "training = np.array(training)"
   ]
  },
  {
   "cell_type": "code",
   "execution_count": 6,
   "metadata": {},
   "outputs": [
    {
     "data": {
      "text/plain": [
       "numpy.ndarray"
      ]
     },
     "execution_count": 6,
     "metadata": {},
     "output_type": "execute_result"
    }
   ],
   "source": [
    "type(training)"
   ]
  },
  {
   "cell_type": "code",
   "execution_count": 7,
   "metadata": {},
   "outputs": [
    {
     "data": {
      "text/plain": [
       "(62, 2)"
      ]
     },
     "execution_count": 7,
     "metadata": {},
     "output_type": "execute_result"
    }
   ],
   "source": [
    "training.shape"
   ]
  },
  {
   "cell_type": "code",
   "execution_count": 8,
   "metadata": {},
   "outputs": [
    {
     "data": {
      "text/plain": [
       "[[0, 0, 1, 0, 0, 0, 0, 0, 0, 0, 0, 0, 0, 0, 0],\n",
       " [0, 0, 0, 0, 0, 0, 0, 0, 0, 0, 1, 0, 0, 0, 0],\n",
       " [1, 0, 0, 0, 0, 0, 0, 0, 0, 0, 0, 0, 0, 0, 0],\n",
       " [0, 0, 0, 1, 0, 0, 0, 0, 0, 0, 0, 0, 0, 0, 0],\n",
       " [0, 1, 0, 0, 0, 0, 0, 0, 0, 0, 0, 0, 0, 0, 0],\n",
       " [0, 0, 0, 0, 0, 0, 0, 0, 0, 0, 0, 1, 0, 0, 0],\n",
       " [0, 0, 0, 0, 0, 0, 0, 0, 0, 0, 0, 0, 0, 0, 1],\n",
       " [0, 0, 0, 0, 1, 0, 0, 0, 0, 0, 0, 0, 0, 0, 0],\n",
       " [0, 0, 0, 0, 0, 0, 0, 1, 0, 0, 0, 0, 0, 0, 0],\n",
       " [0, 0, 0, 0, 0, 0, 0, 0, 0, 0, 0, 0, 0, 1, 0],\n",
       " [0, 0, 0, 0, 0, 0, 0, 0, 0, 0, 0, 0, 1, 0, 0],\n",
       " [0, 1, 0, 0, 0, 0, 0, 0, 0, 0, 0, 0, 0, 0, 0],\n",
       " [1, 0, 0, 0, 0, 0, 0, 0, 0, 0, 0, 0, 0, 0, 0],\n",
       " [0, 0, 0, 0, 1, 0, 0, 0, 0, 0, 0, 0, 0, 0, 0],\n",
       " [0, 0, 0, 0, 0, 0, 0, 0, 0, 0, 0, 0, 0, 1, 0],\n",
       " [0, 0, 0, 0, 0, 0, 0, 0, 0, 0, 0, 0, 0, 1, 0],\n",
       " [0, 0, 1, 0, 0, 0, 0, 0, 0, 0, 0, 0, 0, 0, 0],\n",
       " [0, 0, 0, 0, 0, 0, 0, 0, 0, 0, 0, 0, 0, 0, 1],\n",
       " [0, 0, 0, 1, 0, 0, 0, 0, 0, 0, 0, 0, 0, 0, 0],\n",
       " [0, 0, 0, 0, 0, 0, 0, 0, 0, 0, 0, 0, 0, 0, 1],\n",
       " [0, 0, 0, 0, 0, 0, 0, 0, 0, 0, 0, 1, 0, 0, 0],\n",
       " [1, 0, 0, 0, 0, 0, 0, 0, 0, 0, 0, 0, 0, 0, 0],\n",
       " [0, 0, 1, 0, 0, 0, 0, 0, 0, 0, 0, 0, 0, 0, 0],\n",
       " [0, 0, 0, 0, 0, 0, 0, 0, 0, 1, 0, 0, 0, 0, 0],\n",
       " [0, 0, 0, 0, 0, 0, 0, 0, 1, 0, 0, 0, 0, 0, 0],\n",
       " [0, 0, 0, 0, 0, 0, 0, 0, 0, 0, 0, 0, 0, 0, 1],\n",
       " [0, 0, 0, 0, 0, 1, 0, 0, 0, 0, 0, 0, 0, 0, 0],\n",
       " [0, 0, 0, 0, 0, 0, 0, 0, 0, 1, 0, 0, 0, 0, 0],\n",
       " [0, 0, 0, 0, 0, 0, 0, 0, 0, 0, 1, 0, 0, 0, 0],\n",
       " [1, 0, 0, 0, 0, 0, 0, 0, 0, 0, 0, 0, 0, 0, 0],\n",
       " [0, 0, 0, 0, 0, 0, 1, 0, 0, 0, 0, 0, 0, 0, 0],\n",
       " [0, 0, 0, 1, 0, 0, 0, 0, 0, 0, 0, 0, 0, 0, 0],\n",
       " [1, 0, 0, 0, 0, 0, 0, 0, 0, 0, 0, 0, 0, 0, 0],\n",
       " [0, 0, 0, 0, 0, 0, 0, 0, 0, 0, 0, 1, 0, 0, 0],\n",
       " [0, 0, 0, 0, 1, 0, 0, 0, 0, 0, 0, 0, 0, 0, 0],\n",
       " [0, 0, 0, 0, 0, 0, 0, 0, 0, 0, 0, 0, 1, 0, 0],\n",
       " [0, 0, 0, 0, 0, 0, 0, 0, 0, 1, 0, 0, 0, 0, 0],\n",
       " [0, 0, 0, 0, 0, 0, 1, 0, 0, 0, 0, 0, 0, 0, 0],\n",
       " [0, 0, 0, 0, 0, 0, 1, 0, 0, 0, 0, 0, 0, 0, 0],\n",
       " [0, 0, 0, 0, 0, 0, 0, 0, 0, 1, 0, 0, 0, 0, 0],\n",
       " [0, 0, 0, 0, 0, 0, 0, 0, 0, 0, 0, 0, 1, 0, 0],\n",
       " [0, 0, 0, 0, 0, 0, 0, 0, 0, 0, 0, 1, 0, 0, 0],\n",
       " [1, 0, 0, 0, 0, 0, 0, 0, 0, 0, 0, 0, 0, 0, 0],\n",
       " [0, 0, 0, 0, 0, 0, 0, 0, 0, 0, 0, 0, 0, 0, 1],\n",
       " [0, 0, 0, 0, 0, 0, 0, 0, 1, 0, 0, 0, 0, 0, 0],\n",
       " [0, 0, 0, 0, 0, 0, 0, 0, 0, 0, 0, 0, 0, 1, 0],\n",
       " [0, 0, 0, 0, 0, 0, 0, 1, 0, 0, 0, 0, 0, 0, 0],\n",
       " [0, 0, 0, 0, 0, 1, 0, 0, 0, 0, 0, 0, 0, 0, 0],\n",
       " [1, 0, 0, 0, 0, 0, 0, 0, 0, 0, 0, 0, 0, 0, 0],\n",
       " [0, 0, 0, 0, 0, 0, 0, 0, 0, 0, 0, 1, 0, 0, 0],\n",
       " [0, 0, 0, 0, 0, 0, 0, 0, 0, 0, 1, 0, 0, 0, 0],\n",
       " [0, 0, 0, 0, 0, 0, 0, 0, 0, 0, 0, 0, 0, 1, 0],\n",
       " [0, 1, 0, 0, 0, 0, 0, 0, 0, 0, 0, 0, 0, 0, 0],\n",
       " [0, 1, 0, 0, 0, 0, 0, 0, 0, 0, 0, 0, 0, 0, 0],\n",
       " [0, 0, 0, 0, 0, 0, 0, 0, 1, 0, 0, 0, 0, 0, 0],\n",
       " [0, 0, 0, 0, 0, 0, 0, 0, 0, 0, 1, 0, 0, 0, 0],\n",
       " [0, 0, 0, 0, 0, 0, 0, 0, 0, 1, 0, 0, 0, 0, 0],\n",
       " [0, 0, 0, 0, 0, 0, 0, 0, 0, 1, 0, 0, 0, 0, 0],\n",
       " [1, 0, 0, 0, 0, 0, 0, 0, 0, 0, 0, 0, 0, 0, 0],\n",
       " [0, 0, 0, 0, 0, 0, 0, 1, 0, 0, 0, 0, 0, 0, 0],\n",
       " [0, 0, 0, 0, 0, 0, 0, 0, 0, 0, 0, 0, 1, 0, 0],\n",
       " [0, 0, 0, 0, 0, 0, 0, 0, 0, 0, 1, 0, 0, 0, 0]]"
      ]
     },
     "execution_count": 8,
     "metadata": {},
     "output_type": "execute_result"
    }
   ],
   "source": [
    "# create train and test lists. X - patterns, Y - intents\n",
    "train_x = list(training[:,0])\n",
    "train_y = list(training[:,1])\n",
    "\n",
    "train_y"
   ]
  },
  {
   "cell_type": "code",
   "execution_count": 9,
   "metadata": {},
   "outputs": [],
   "source": [
    "model = MLPClassifier(learning_rate_init=0.0001,max_iter=9000,shuffle=True).fit(train_x, train_y)"
   ]
  },
  {
   "cell_type": "code",
   "execution_count": 10,
   "metadata": {},
   "outputs": [],
   "source": [
    "def clean_up_sentence(sentence):\n",
    "    # tokenize the pattern - split words into array\n",
    "    sentence_words = nltk.word_tokenize(sentence)\n",
    "    # stem each word - create short form for word\n",
    "    sentence_words = [stemmer.stem(word.lower()) for word in sentence_words]\n",
    "    return sentence_words\n",
    "\n",
    "\n",
    "# return bag of words array: 0 or 1 for each word in the bag that exists in the sentence\n",
    "def bow(sentence, words, show_details=True):\n",
    "    # tokenize the pattern\n",
    "    sentence_words = clean_up_sentence(sentence)\n",
    "    # bag of words - matrix of N words, vocabulary matrix\n",
    "    bag = [0]*len(words)  \n",
    "    for s in sentence_words:\n",
    "        for i,w in enumerate(words):\n",
    "            if w == s: \n",
    "                # assign 1 if current word is in the vocabulary position\n",
    "                bag[i] = 1\n",
    "                if show_details:\n",
    "                    print (\"found in bag: %s\" % w)\n",
    "    return(np.array(bag))\n",
    "    \n",
    "\n",
    "def classify_local(sentence):\n",
    "    \n",
    "    # generate probabilities from the model\n",
    "    input_data = pd.DataFrame([bow(sentence, words)], dtype=float, index=['input']) \n",
    "    results = model.predict_proba(input_data)[0]\n",
    "    \n",
    "    results =  np.round(results,4).tolist()\n",
    "   \n",
    "    probs_and_classes = list(zip(classes, results))\n",
    "    print(probs_and_classes)\n",
    "    \n",
    "    best_result = max(probs_and_classes,key=itemgetter(1))[0]\n",
    "    \n",
    "    # return tuple of intent and probability\n",
    "    return best_result"
   ]
  },
  {
   "cell_type": "code",
   "execution_count": 11,
   "metadata": {},
   "outputs": [
    {
     "name": "stdout",
     "output_type": "stream",
     "text": [
      "found in bag: hvac\n",
      "found in bag: is\n",
      "found in bag: a\n",
      "found in bag: system\n",
      "found in bag: in\n",
      "found in bag: a\n",
      "found in bag: build\n",
      "found in bag: i\n",
      "[0 0 1 0 0 0 0 0 0 0 0 0 0 0 0 0 0 0 0 0 0 0 1 0 0 0 0 0 0 0 0 0 0 0 0 0 0\n",
      " 0 0 0 0 0 0 0 0 0 0 0 0 0 0 0 0 0 0 0 0 0 0 0 0 0 0 0 0 0 0 0 0 0 1 1 0 1\n",
      " 0 1 0 0 0 0 0 0 0 0 0 0 0 0 0 0 0 0 0 0 0 0 0 0 0 0 0 0 0 0 0 0 0 0 0 0 0\n",
      " 0 0 0 0 0 0 0 0 0 0 0 0 0 1 0 0 0 0 0 0 0 0 0 0 0 0 0 0 0 0 0 0 0 0 0 0 0\n",
      " 0 0 0 0]\n",
      "['check_ahu', 'check_all_hvac', 'check_boiler_plant', 'check_chiller_plant', 'check_energy', 'check_future_weather', 'check_how_it_should_all_work', 'check_power', 'check_runtime', 'check_zone_temps', 'goodbye', 'greeting', 'options', 'thanks', 'what_to_do']\n",
      "[[8.20028933e-02 3.40126109e-01 1.49842245e-03 2.21061366e-03\n",
      "  2.94568563e-04 2.68699738e-02 4.37162924e-03 4.93687158e-03\n",
      "  1.42255322e-04 1.95997607e-04 3.30380115e-03 7.44389020e-04\n",
      "  6.32546786e-04 2.31719432e-03 2.19119028e-02]]\n"
     ]
    }
   ],
   "source": [
    "p = bow(\"HVAC is a mechanical system in a building I think\", words)\n",
    "\n",
    "print(p)\n",
    "print(classes)\n",
    "\n",
    "inputvar = pd.DataFrame([p], dtype=float, index=['input'])\n",
    "print(model.predict_proba(inputvar))"
   ]
  },
  {
   "cell_type": "code",
   "execution_count": 12,
   "metadata": {},
   "outputs": [
    {
     "name": "stdout",
     "output_type": "stream",
     "text": [
      "found in bag: hello\n",
      "found in bag: ,\n",
      "found in bag: good\n",
      "found in bag: day\n",
      "[('check_ahu', 0.0002), ('check_all_hvac', 0.0005), ('check_boiler_plant', 0.0001), ('check_chiller_plant', 0.0001), ('check_energy', 0.0005), ('check_future_weather', 0.0001), ('check_how_it_should_all_work', 0.0001), ('check_power', 0.0001), ('check_runtime', 0.0003), ('check_zone_temps', 0.0004), ('goodbye', 0.0042), ('greeting', 0.9827), ('options', 0.0004), ('thanks', 0.0073), ('what_to_do', 0.0004)]\n"
     ]
    },
    {
     "data": {
      "text/plain": [
       "'greeting'"
      ]
     },
     "execution_count": 12,
     "metadata": {},
     "output_type": "execute_result"
    }
   ],
   "source": [
    "classify_local('Hello, good day!')"
   ]
  },
  {
   "cell_type": "code",
   "execution_count": 13,
   "metadata": {},
   "outputs": [
    {
     "name": "stdout",
     "output_type": "stream",
     "text": [
      "found in bag: how\n",
      "found in bag: you\n",
      "found in bag: can\n",
      "found in bag: me\n",
      "[('check_ahu', 0.0016), ('check_all_hvac', 0.0043), ('check_boiler_plant', 0.0017), ('check_chiller_plant', 0.0019), ('check_energy', 0.0011), ('check_future_weather', 0.0012), ('check_how_it_should_all_work', 0.0009), ('check_power', 0.0022), ('check_runtime', 0.0039), ('check_zone_temps', 0.0016), ('goodbye', 0.0092), ('greeting', 0.0728), ('options', 0.9047), ('thanks', 0.0341), ('what_to_do', 0.0007)]\n"
     ]
    },
    {
     "data": {
      "text/plain": [
       "'options'"
      ]
     },
     "execution_count": 13,
     "metadata": {},
     "output_type": "execute_result"
    }
   ],
   "source": [
    "classify_local('How you can assist me?')"
   ]
  },
  {
   "cell_type": "code",
   "execution_count": 14,
   "metadata": {},
   "outputs": [
    {
     "name": "stdout",
     "output_type": "stream",
     "text": [
      "found in bag: what\n",
      "found in bag: is\n",
      "found in bag: my\n",
      "found in bag: system\n",
      "found in bag: doing\n",
      "[('check_ahu', 0.0452), ('check_all_hvac', 0.6985), ('check_boiler_plant', 0.0038), ('check_chiller_plant', 0.0008), ('check_energy', 0.0009), ('check_future_weather', 0.0032), ('check_how_it_should_all_work', 0.0056), ('check_power', 0.0004), ('check_runtime', 0.0003), ('check_zone_temps', 0.0015), ('goodbye', 0.0049), ('greeting', 0.0025), ('options', 0.0037), ('thanks', 0.0036), ('what_to_do', 0.0032)]\n"
     ]
    },
    {
     "data": {
      "text/plain": [
       "'check_all_hvac'"
      ]
     },
     "execution_count": 14,
     "metadata": {},
     "output_type": "execute_result"
    }
   ],
   "source": [
    "classify_local('what is my mechanical system doing?')"
   ]
  },
  {
   "cell_type": "code",
   "execution_count": 15,
   "metadata": {},
   "outputs": [
    {
     "name": "stdout",
     "output_type": "stream",
     "text": [
      "found in bag: ar\n",
      "found in bag: at\n",
      "found in bag: al\n",
      "[('check_ahu', 0.0089), ('check_all_hvac', 0.0053), ('check_boiler_plant', 0.0058), ('check_chiller_plant', 0.4073), ('check_energy', 0.003), ('check_future_weather', 0.0108), ('check_how_it_should_all_work', 0.0067), ('check_power', 0.0095), ('check_runtime', 0.0236), ('check_zone_temps', 0.0805), ('goodbye', 0.0246), ('greeting', 0.1111), ('options', 0.0142), ('thanks', 0.0115), ('what_to_do', 0.0297)]\n"
     ]
    },
    {
     "data": {
      "text/plain": [
       "'check_chiller_plant'"
      ]
     },
     "execution_count": 15,
     "metadata": {},
     "output_type": "execute_result"
    }
   ],
   "source": [
    "classify_local('are people complaining at all?')"
   ]
  },
  {
   "cell_type": "code",
   "execution_count": 16,
   "metadata": {},
   "outputs": [
    {
     "name": "stdout",
     "output_type": "stream",
     "text": [
      "found in bag: how\n",
      "found in bag: is\n",
      "found in bag: the\n",
      "found in bag: hvac\n",
      "found in bag: run\n",
      "[('check_ahu', 0.0066), ('check_all_hvac', 0.7446), ('check_boiler_plant', 0.002), ('check_chiller_plant', 0.0009), ('check_energy', 0.0007), ('check_future_weather', 0.0018), ('check_how_it_should_all_work', 0.0137), ('check_power', 0.0012), ('check_runtime', 0.0006), ('check_zone_temps', 0.0022), ('goodbye', 0.0047), ('greeting', 0.0089), ('options', 0.002), ('thanks', 0.0016), ('what_to_do', 0.0019)]\n"
     ]
    },
    {
     "data": {
      "text/plain": [
       "'check_all_hvac'"
      ]
     },
     "execution_count": 16,
     "metadata": {},
     "output_type": "execute_result"
    }
   ],
   "source": [
    "classify_local('how is the HVAC running?')"
   ]
  },
  {
   "cell_type": "code",
   "execution_count": 17,
   "metadata": {},
   "outputs": [
    {
     "name": "stdout",
     "output_type": "stream",
     "text": [
      "found in bag: has\n",
      "found in bag: the\n",
      "found in bag: pow\n",
      "found in bag: us\n",
      "found in bag: for\n",
      "found in bag: the\n",
      "found in bag: build\n",
      "found in bag: been\n",
      "found in bag: bad\n",
      "[('check_ahu', 0.001), ('check_all_hvac', 0.0016), ('check_boiler_plant', 0.0003), ('check_chiller_plant', 0.0003), ('check_energy', 0.0077), ('check_future_weather', 0.0009), ('check_how_it_should_all_work', 0.0006), ('check_power', 0.2763), ('check_runtime', 0.0012), ('check_zone_temps', 0.0002), ('goodbye', 0.0004), ('greeting', 0.0004), ('options', 0.0001), ('thanks', 0.0034), ('what_to_do', 0.0521)]\n"
     ]
    },
    {
     "data": {
      "text/plain": [
       "'check_power'"
      ]
     },
     "execution_count": 17,
     "metadata": {},
     "output_type": "execute_result"
    }
   ],
   "source": [
    "classify_local('has the power use for the building been bad?')"
   ]
  },
  {
   "cell_type": "code",
   "execution_count": 18,
   "metadata": {},
   "outputs": [
    {
     "name": "stdout",
     "output_type": "stream",
     "text": [
      "found in bag: ar\n",
      "found in bag: we\n",
      "found in bag: get\n",
      "found in bag: any\n",
      "found in bag: fre\n",
      "found in bag: cool\n",
      "found in bag: or\n",
      "found in bag: us\n",
      "found in bag: cool\n",
      "[('check_ahu', 0.0606), ('check_all_hvac', 0.0019), ('check_boiler_plant', 0.0006), ('check_chiller_plant', 0.1508), ('check_energy', 0.0006), ('check_future_weather', 0.0042), ('check_how_it_should_all_work', 0.0003), ('check_power', 0.0003), ('check_runtime', 0.0002), ('check_zone_temps', 0.0009), ('goodbye', 0.0006), ('greeting', 0.0016), ('options', 0.0015), ('thanks', 0.0003), ('what_to_do', 0.0011)]\n"
     ]
    },
    {
     "data": {
      "text/plain": [
       "'check_chiller_plant'"
      ]
     },
     "execution_count": 18,
     "metadata": {},
     "output_type": "execute_result"
    }
   ],
   "source": [
    "classify_local('are we getting any free cooling or using mechanical cooling?')"
   ]
  },
  {
   "cell_type": "code",
   "execution_count": 19,
   "metadata": {},
   "outputs": [
    {
     "name": "stdout",
     "output_type": "stream",
     "text": [
      "found in bag: doe\n",
      "found in bag: that\n",
      "found in bag: lik\n",
      "found in bag: work\n",
      "[('check_ahu', 0.0766), ('check_all_hvac', 0.003), ('check_boiler_plant', 0.0036), ('check_chiller_plant', 0.0067), ('check_energy', 0.0019), ('check_future_weather', 0.0055), ('check_how_it_should_all_work', 0.0022), ('check_power', 0.016), ('check_runtime', 0.0062), ('check_zone_temps', 0.0019), ('goodbye', 0.0125), ('greeting', 0.0085), ('options', 0.0016), ('thanks', 0.0412), ('what_to_do', 0.2071)]\n"
     ]
    },
    {
     "data": {
      "text/plain": [
       "'what_to_do'"
      ]
     },
     "execution_count": 19,
     "metadata": {},
     "output_type": "execute_result"
    }
   ],
   "source": [
    "classify_local('does that seem like its working correctly?')"
   ]
  },
  {
   "cell_type": "code",
   "execution_count": 20,
   "metadata": {},
   "outputs": [
    {
     "name": "stdout",
     "output_type": "stream",
     "text": [
      "found in bag: ar\n",
      "found in bag: any\n",
      "found in bag: the\n",
      "found in bag: vav\n",
      "found in bag: box\n",
      "found in bag: mov\n",
      "found in bag: air\n",
      "[('check_ahu', 0.0235), ('check_all_hvac', 0.0183), ('check_boiler_plant', 0.0034), ('check_chiller_plant', 0.0039), ('check_energy', 0.0003), ('check_future_weather', 0.0027), ('check_how_it_should_all_work', 0.0012), ('check_power', 0.0006), ('check_runtime', 0.0009), ('check_zone_temps', 0.626), ('goodbye', 0.0036), ('greeting', 0.0083), ('options', 0.0014), ('thanks', 0.0019), ('what_to_do', 0.0008)]\n"
     ]
    },
    {
     "data": {
      "text/plain": [
       "'check_zone_temps'"
      ]
     },
     "execution_count": 20,
     "metadata": {},
     "output_type": "execute_result"
    }
   ],
   "source": [
    "classify_local('are any of the vav boxes not moving air?')"
   ]
  },
  {
   "cell_type": "code",
   "execution_count": 21,
   "metadata": {},
   "outputs": [
    {
     "name": "stdout",
     "output_type": "stream",
     "text": [
      "found in bag: what\n",
      "found in bag: ar\n",
      "found in bag: the\n",
      "found in bag: discharg\n",
      "found in bag: temp\n",
      "found in bag: look\n",
      "found in bag: lik\n",
      "found in bag: on\n",
      "found in bag: the\n",
      "found in bag: reh\n",
      "found in bag: vav\n",
      "found in bag: box\n",
      "[('check_ahu', 0.0042), ('check_all_hvac', 0.0), ('check_boiler_plant', 0.0009), ('check_chiller_plant', 0.0002), ('check_energy', 0.0), ('check_future_weather', 0.0), ('check_how_it_should_all_work', 0.0), ('check_power', 0.0), ('check_runtime', 0.0), ('check_zone_temps', 0.8524), ('goodbye', 0.0), ('greeting', 0.0001), ('options', 0.0), ('thanks', 0.0), ('what_to_do', 0.0001)]\n"
     ]
    },
    {
     "data": {
      "text/plain": [
       "'check_zone_temps'"
      ]
     },
     "execution_count": 21,
     "metadata": {},
     "output_type": "execute_result"
    }
   ],
   "source": [
    "classify_local('what are the discharge temps looking like on the reheat vav box coils?')"
   ]
  },
  {
   "cell_type": "code",
   "execution_count": 22,
   "metadata": {},
   "outputs": [
    {
     "name": "stdout",
     "output_type": "stream",
     "text": [
      "found in bag: how\n",
      "found in bag: is\n",
      "found in bag: energy\n",
      "found in bag: us\n",
      "found in bag: been\n",
      "found in bag: day\n",
      "[('check_ahu', 0.0008), ('check_all_hvac', 0.0166), ('check_boiler_plant', 0.0012), ('check_chiller_plant', 0.0002), ('check_energy', 0.0778), ('check_future_weather', 0.0004), ('check_how_it_should_all_work', 0.0005), ('check_power', 0.001), ('check_runtime', 0.0015), ('check_zone_temps', 0.0011), ('goodbye', 0.002), ('greeting', 0.5334), ('options', 0.0013), ('thanks', 0.0032), ('what_to_do', 0.0007)]\n"
     ]
    },
    {
     "data": {
      "text/plain": [
       "'greeting'"
      ]
     },
     "execution_count": 22,
     "metadata": {},
     "output_type": "execute_result"
    }
   ],
   "source": [
    "classify_local('How is your energy use been past 10 days?')"
   ]
  },
  {
   "cell_type": "code",
   "execution_count": 23,
   "metadata": {},
   "outputs": [
    {
     "name": "stdout",
     "output_type": "stream",
     "text": [
      "found in bag: energy\n",
      "[('check_ahu', 0.069), ('check_all_hvac', 0.1048), ('check_boiler_plant', 0.0942), ('check_chiller_plant', 0.0658), ('check_energy', 0.3473), ('check_future_weather', 0.0691), ('check_how_it_should_all_work', 0.0992), ('check_power', 0.0788), ('check_runtime', 0.084), ('check_zone_temps', 0.0936), ('goodbye', 0.2137), ('greeting', 0.2042), ('options', 0.0927), ('thanks', 0.197), ('what_to_do', 0.1453)]\n"
     ]
    },
    {
     "data": {
      "text/plain": [
       "'check_energy'"
      ]
     },
     "execution_count": 23,
     "metadata": {},
     "output_type": "execute_result"
    }
   ],
   "source": [
    "classify_local('energy')"
   ]
  },
  {
   "cell_type": "code",
   "execution_count": 24,
   "metadata": {},
   "outputs": [
    {
     "name": "stdout",
     "output_type": "stream",
     "text": [
      "found in bag: pow\n",
      "[('check_ahu', 0.093), ('check_all_hvac', 0.0489), ('check_boiler_plant', 0.0309), ('check_chiller_plant', 0.0849), ('check_energy', 0.0396), ('check_future_weather', 0.0972), ('check_how_it_should_all_work', 0.1014), ('check_power', 0.7337), ('check_runtime', 0.0764), ('check_zone_temps', 0.1041), ('goodbye', 0.1197), ('greeting', 0.1205), ('options', 0.1116), ('thanks', 0.1173), ('what_to_do', 0.1171)]\n"
     ]
    },
    {
     "data": {
      "text/plain": [
       "'check_power'"
      ]
     },
     "execution_count": 24,
     "metadata": {},
     "output_type": "execute_result"
    }
   ],
   "source": [
    "classify_local('power')"
   ]
  },
  {
   "cell_type": "code",
   "execution_count": 25,
   "metadata": {},
   "outputs": [
    {
     "name": "stdout",
     "output_type": "stream",
     "text": [
      "found in bag: boil\n",
      "[('check_ahu', 0.0482), ('check_all_hvac', 0.0642), ('check_boiler_plant', 0.7589), ('check_chiller_plant', 0.0473), ('check_energy', 0.0532), ('check_future_weather', 0.0457), ('check_how_it_should_all_work', 0.0282), ('check_power', 0.0314), ('check_runtime', 0.0449), ('check_zone_temps', 0.0636), ('goodbye', 0.2298), ('greeting', 0.0899), ('options', 0.0499), ('thanks', 0.1073), ('what_to_do', 0.1151)]\n"
     ]
    },
    {
     "data": {
      "text/plain": [
       "'check_boiler_plant'"
      ]
     },
     "execution_count": 25,
     "metadata": {},
     "output_type": "execute_result"
    }
   ],
   "source": [
    "classify_local('boiler')"
   ]
  },
  {
   "cell_type": "code",
   "execution_count": 26,
   "metadata": {},
   "outputs": [
    {
     "name": "stdout",
     "output_type": "stream",
     "text": [
      "found in bag: chil\n",
      "[('check_ahu', 0.092), ('check_all_hvac', 0.0516), ('check_boiler_plant', 0.0302), ('check_chiller_plant', 0.6513), ('check_energy', 0.0246), ('check_future_weather', 0.0725), ('check_how_it_should_all_work', 0.033), ('check_power', 0.0831), ('check_runtime', 0.0559), ('check_zone_temps', 0.0632), ('goodbye', 0.0865), ('greeting', 0.1275), ('options', 0.0804), ('thanks', 0.0496), ('what_to_do', 0.17)]\n"
     ]
    },
    {
     "data": {
      "text/plain": [
       "'check_chiller_plant'"
      ]
     },
     "execution_count": 26,
     "metadata": {},
     "output_type": "execute_result"
    }
   ],
   "source": [
    "classify_local('chiller')"
   ]
  },
  {
   "cell_type": "code",
   "execution_count": 27,
   "metadata": {},
   "outputs": [
    {
     "name": "stdout",
     "output_type": "stream",
     "text": [
      "found in bag: vav\n",
      "found in bag: box\n",
      "[('check_ahu', 0.0148), ('check_all_hvac', 0.0203), ('check_boiler_plant', 0.0244), ('check_chiller_plant', 0.0291), ('check_energy', 0.0077), ('check_future_weather', 0.0186), ('check_how_it_should_all_work', 0.0222), ('check_power', 0.0129), ('check_runtime', 0.0189), ('check_zone_temps', 0.7831), ('goodbye', 0.0654), ('greeting', 0.0623), ('options', 0.0184), ('thanks', 0.0443), ('what_to_do', 0.0485)]\n"
     ]
    },
    {
     "data": {
      "text/plain": [
       "'check_zone_temps'"
      ]
     },
     "execution_count": 27,
     "metadata": {},
     "output_type": "execute_result"
    }
   ],
   "source": [
    "classify_local('vav boxes')"
   ]
  },
  {
   "cell_type": "code",
   "execution_count": 28,
   "metadata": {},
   "outputs": [
    {
     "name": "stdout",
     "output_type": "stream",
     "text": [
      "found in bag: zon\n",
      "found in bag: temp\n",
      "[('check_ahu', 0.0205), ('check_all_hvac', 0.024), ('check_boiler_plant', 0.0586), ('check_chiller_plant', 0.034), ('check_energy', 0.0052), ('check_future_weather', 0.0157), ('check_how_it_should_all_work', 0.0251), ('check_power', 0.0187), ('check_runtime', 0.0199), ('check_zone_temps', 0.9151), ('goodbye', 0.063), ('greeting', 0.0389), ('options', 0.0243), ('thanks', 0.0294), ('what_to_do', 0.048)]\n"
     ]
    },
    {
     "data": {
      "text/plain": [
       "'check_zone_temps'"
      ]
     },
     "execution_count": 28,
     "metadata": {},
     "output_type": "execute_result"
    }
   ],
   "source": [
    "classify_local('zone temps')"
   ]
  },
  {
   "cell_type": "code",
   "execution_count": null,
   "metadata": {},
   "outputs": [],
   "source": []
  },
  {
   "cell_type": "code",
   "execution_count": null,
   "metadata": {},
   "outputs": [],
   "source": []
  },
  {
   "cell_type": "code",
   "execution_count": null,
   "metadata": {},
   "outputs": [],
   "source": []
  },
  {
   "cell_type": "code",
   "execution_count": null,
   "metadata": {},
   "outputs": [],
   "source": []
  },
  {
   "cell_type": "code",
   "execution_count": null,
   "metadata": {},
   "outputs": [],
   "source": []
  }
 ],
 "metadata": {
  "kernelspec": {
   "display_name": "Python 3",
   "language": "python",
   "name": "python3"
  },
  "language_info": {
   "codemirror_mode": {
    "name": "ipython",
    "version": 3
   },
   "file_extension": ".py",
   "mimetype": "text/x-python",
   "name": "python",
   "nbconvert_exporter": "python",
   "pygments_lexer": "ipython3",
   "version": "3.8.5"
  }
 },
 "nbformat": 4,
 "nbformat_minor": 4
}
