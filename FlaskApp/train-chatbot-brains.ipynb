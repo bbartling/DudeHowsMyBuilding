{
 "cells": [
  {
   "cell_type": "code",
   "execution_count": 1,
   "metadata": {},
   "outputs": [],
   "source": [
    "# things we need for NLP\n",
    "import nltk\n",
    "from nltk.stem.lancaster import LancasterStemmer\n",
    "stemmer = LancasterStemmer()\n",
    "\n",
    "# things we need for Tensorflow\n",
    "import numpy as np\n",
    "from tensorflow.keras.models import Sequential\n",
    "from tensorflow.keras.layers import Dense, Activation, Dropout\n",
    "from tensorflow.keras.optimizers import SGD\n",
    "import pandas as pd\n",
    "import pickle\n",
    "import random"
   ]
  },
  {
   "cell_type": "code",
   "execution_count": null,
   "metadata": {},
   "outputs": [],
   "source": []
  },
  {
   "cell_type": "code",
   "execution_count": 2,
   "metadata": {},
   "outputs": [
    {
     "name": "stdout",
     "output_type": "stream",
     "text": [
      "62 documents\n",
      "15 classes ['check_ahu', 'check_all_hvac', 'check_boiler_plant', 'check_chiller_plant', 'check_energy', 'check_future_weather', 'check_how_it_should_all_work', 'check_power', 'check_runtime', 'check_zone_temps', 'goodbye', 'greeting', 'options', 'thanks', 'what_to_do']\n",
      "152 unique stemmed words [\"'s\", ',', 'a', 'ahu', 'air', 'al', 'alarm', 'algorithm', 'an', 'and', 'any', 'anyon', 'ar', 'area', 'at', 'awesom', 'bad', 'be', 'been', 'big', 'boil', 'box', 'build', 'bye', 'cal', 'can', 'cent', 'chat', 'chil', 'cold', 'consum', 'control', 'cool', 'could', 'damp', 'day', 'did', 'discharg', 'do', 'doe', 'doing', 'down', 'driv', 'duc', 'dud', 'econom', 'elect', 'energy', 'equip', 'fan', 'fir', 'for', 'fre', 'freez', 'frequ', 'from', 'front', 'fuel', 'get', 'going', 'good', 'goodby', 'handl', 'has', 'hello', 'help', 'hi', 'hot', 'hour', 'how', 'hvac', 'i', 'ilc', 'in', 'intellig', 'is', 'kw', 'kwh', 'lat', 'leav', 'lik', 'load', 'log', 'look', 'mak', 'many', 'me', 'mix', 'mod', 'morn', 'mov', 'my', 'next', 'nic', 'no', 'occup', 'oh', 'ok', 'on', 'optim', 'or', 'our', 'out', 'plant', 'pow', 'press', 'problem', 'provid', 'reh', 'return', 'rooftop', 'rtu', 'run', 'runtim', 'see', 'setpoint', 'should', 'spac', 'spik', 'start', 'stat', 'steam', 'supply', 'suppos', 'system', 'temp', 'thank', 'that', 'the', 'ther', 'thi', 'til', 'tim', 'to', 'today', 'unit', 'up', 'us', 'vary', 'vav', 'vfd', 'warm', 'wat', 'we', 'weath', 'what', 'who', 'with', 'work', 'wtf', 'you', 'zon']\n"
     ]
    }
   ],
   "source": [
    "# import our chat-bot intents file\n",
    "import json\n",
    "\n",
    "with open('intents.json') as json_data:\n",
    "    intents = json.load(json_data)\n",
    "\n",
    "words = []\n",
    "classes = []\n",
    "documents = []\n",
    "ignore_words = ['?','!']\n",
    "\n",
    "\n",
    "for intent in intents['intents']:\n",
    "    for pattern in intent['patterns']:\n",
    "        # tokenize each word in the sentence\n",
    "        w = nltk.word_tokenize(pattern)\n",
    "        # add to our words list\n",
    "        words.extend(w)\n",
    "        # add to documents in our corpus\n",
    "        documents.append((w, intent['tag']))\n",
    "        # add to our classes list\n",
    "        if intent['tag'] not in classes:\n",
    "            classes.append(intent['tag'])\n",
    "\n",
    "# stem and lower each word and remove duplicates\n",
    "words = [stemmer.stem(w.lower()) for w in words if w not in ignore_words]\n",
    "words = sorted(list(set(words)))\n",
    "\n",
    "# sort classes\n",
    "classes = sorted(list(set(classes)))\n",
    "\n",
    "# documents = combination between patterns and intents\n",
    "print(len(documents), \"documents\")\n",
    "\n",
    "# classes = intents\n",
    "print (len(classes), \"classes\", classes)\n",
    "\n",
    "# words = all words, vocabulary\n",
    "print (len(words), \"unique stemmed words\", words)"
   ]
  },
  {
   "cell_type": "code",
   "execution_count": null,
   "metadata": {},
   "outputs": [],
   "source": []
  },
  {
   "cell_type": "code",
   "execution_count": null,
   "metadata": {},
   "outputs": [],
   "source": []
  },
  {
   "cell_type": "code",
   "execution_count": 3,
   "metadata": {},
   "outputs": [
    {
     "name": "stderr",
     "output_type": "stream",
     "text": [
      "<ipython-input-3-72b6ba6ac079>:30: VisibleDeprecationWarning: Creating an ndarray from ragged nested sequences (which is a list-or-tuple of lists-or-tuples-or ndarrays with different lengths or shapes) is deprecated. If you meant to do this, you must specify 'dtype=object' when creating the ndarray\n",
      "  training = np.array(training)\n"
     ]
    }
   ],
   "source": [
    "# create our training data\n",
    "training = []\n",
    "# create an empty array for our output\n",
    "output_empty = [0] * len(classes)\n",
    "\n",
    "# training set, bag of words for each sentence\n",
    "for doc in documents:\n",
    "    \n",
    "    # initialize our bag of words\n",
    "    bag = []\n",
    "    \n",
    "    # list of tokenized words for the pattern\n",
    "    pattern_words = doc[0]\n",
    "    \n",
    "    # stem each word - create base word, in attempt to represent related words\n",
    "    pattern_words = [stemmer.stem(word.lower()) for word in pattern_words]\n",
    "    \n",
    "    # create our bag of words array with 1, if word match found in current pattern\n",
    "    for w in words:\n",
    "        bag.append(1) if w in pattern_words else bag.append(0)\n",
    "    \n",
    "    # output is a '0' for each tag and '1' for current tag (for each pattern)\n",
    "    output_row = list(output_empty)\n",
    "    output_row[classes.index(doc[1])] = 1\n",
    "    \n",
    "    training.append([bag, output_row])\n",
    "\n",
    "# shuffle our features and turn into np.array\n",
    "random.shuffle(training)\n",
    "training = np.array(training)\n",
    "\n",
    "# create train and test lists. X - patterns, Y - intents\n",
    "train_x = list(training[:,0])\n",
    "train_y = list(training[:,1])"
   ]
  },
  {
   "cell_type": "code",
   "execution_count": 4,
   "metadata": {},
   "outputs": [],
   "source": [
    "# Create model - 3 layers. First layer 128 neurons, second layer 64 neurons and 3rd output layer contains number of neurons\n",
    "# equal to number of intents to predict output intent with softmax\n",
    "modelo = Sequential()\n",
    "modelo.add(Dense(128, input_shape=(len(train_x[0]),), activation='relu'))\n",
    "modelo.add(Dropout(0.5))\n",
    "modelo.add(Dense(64, activation='relu'))\n",
    "modelo.add(Dropout(0.5))\n",
    "modelo.add(Dense(len(train_y[0]), activation='softmax'))"
   ]
  },
  {
   "cell_type": "code",
   "execution_count": 5,
   "metadata": {},
   "outputs": [],
   "source": [
    "# Compile model. Stochastic gradient descent with Nesterov accelerated gradient gives good results for this model\n",
    "sgd = SGD(lr=0.01, decay=1e-6, momentum=0.9, nesterov=True)\n",
    "modelo.compile(loss='categorical_crossentropy', optimizer=sgd, metrics=['accuracy'])"
   ]
  },
  {
   "cell_type": "code",
   "execution_count": 6,
   "metadata": {},
   "outputs": [
    {
     "name": "stdout",
     "output_type": "stream",
     "text": [
      "Epoch 1/200\n",
      "13/13 [==============================] - 1s 1ms/step - loss: 2.7421 - accuracy: 0.0627\n",
      "Epoch 2/200\n",
      "13/13 [==============================] - 0s 1ms/step - loss: 2.6882 - accuracy: 0.0764\n",
      "Epoch 3/200\n",
      "13/13 [==============================] - 0s 1ms/step - loss: 2.5404 - accuracy: 0.0452\n",
      "Epoch 4/200\n",
      "13/13 [==============================] - 0s 1ms/step - loss: 2.5400 - accuracy: 0.2623\n",
      "Epoch 5/200\n",
      "13/13 [==============================] - 0s 1ms/step - loss: 2.2656 - accuracy: 0.2672\n",
      "Epoch 6/200\n",
      "13/13 [==============================] - 0s 1ms/step - loss: 2.2712 - accuracy: 0.1881\n",
      "Epoch 7/200\n",
      "13/13 [==============================] - 0s 1ms/step - loss: 2.1704 - accuracy: 0.3247\n",
      "Epoch 8/200\n",
      "13/13 [==============================] - 0s 1ms/step - loss: 2.0292 - accuracy: 0.3464\n",
      "Epoch 9/200\n",
      "13/13 [==============================] - 0s 1ms/step - loss: 1.8743 - accuracy: 0.5132\n",
      "Epoch 10/200\n",
      "13/13 [==============================] - 0s 1ms/step - loss: 1.7641 - accuracy: 0.6318\n",
      "Epoch 11/200\n",
      "13/13 [==============================] - 0s 1ms/step - loss: 1.4394 - accuracy: 0.5788\n",
      "Epoch 12/200\n",
      "13/13 [==============================] - 0s 1ms/step - loss: 1.6019 - accuracy: 0.4852\n",
      "Epoch 13/200\n",
      "13/13 [==============================] - 0s 1ms/step - loss: 1.4306 - accuracy: 0.4862\n",
      "Epoch 14/200\n",
      "13/13 [==============================] - 0s 1ms/step - loss: 1.2756 - accuracy: 0.6471\n",
      "Epoch 15/200\n",
      "13/13 [==============================] - 0s 1ms/step - loss: 0.9991 - accuracy: 0.7473\n",
      "Epoch 16/200\n",
      "13/13 [==============================] - 0s 2ms/step - loss: 0.9613 - accuracy: 0.8040\n",
      "Epoch 17/200\n",
      "13/13 [==============================] - 0s 1ms/step - loss: 0.9022 - accuracy: 0.7314\n",
      "Epoch 18/200\n",
      "13/13 [==============================] - 0s 1ms/step - loss: 0.9950 - accuracy: 0.7126\n",
      "Epoch 19/200\n",
      "13/13 [==============================] - 0s 1ms/step - loss: 1.0018 - accuracy: 0.5888\n",
      "Epoch 20/200\n",
      "13/13 [==============================] - 0s 2ms/step - loss: 0.7337 - accuracy: 0.7854\n",
      "Epoch 21/200\n",
      "13/13 [==============================] - 0s 1ms/step - loss: 0.8129 - accuracy: 0.7499\n",
      "Epoch 22/200\n",
      "13/13 [==============================] - 0s 2ms/step - loss: 0.7196 - accuracy: 0.8052\n",
      "Epoch 23/200\n",
      "13/13 [==============================] - 0s 1ms/step - loss: 0.7166 - accuracy: 0.7847\n",
      "Epoch 24/200\n",
      "13/13 [==============================] - 0s 1ms/step - loss: 0.6891 - accuracy: 0.7486\n",
      "Epoch 25/200\n",
      "13/13 [==============================] - 0s 1ms/step - loss: 0.5233 - accuracy: 0.8747\n",
      "Epoch 26/200\n",
      "13/13 [==============================] - 0s 1ms/step - loss: 0.5951 - accuracy: 0.7962\n",
      "Epoch 27/200\n",
      "13/13 [==============================] - 0s 1ms/step - loss: 0.6069 - accuracy: 0.8304\n",
      "Epoch 28/200\n",
      "13/13 [==============================] - 0s 1ms/step - loss: 0.2972 - accuracy: 0.9140\n",
      "Epoch 29/200\n",
      "13/13 [==============================] - 0s 1ms/step - loss: 0.5963 - accuracy: 0.8205\n",
      "Epoch 30/200\n",
      "13/13 [==============================] - 0s 2ms/step - loss: 0.2664 - accuracy: 0.8914\n",
      "Epoch 31/200\n",
      "13/13 [==============================] - 0s 2ms/step - loss: 0.3810 - accuracy: 0.8784\n",
      "Epoch 32/200\n",
      "13/13 [==============================] - 0s 1ms/step - loss: 0.3648 - accuracy: 0.8390\n",
      "Epoch 33/200\n",
      "13/13 [==============================] - 0s 1ms/step - loss: 0.4354 - accuracy: 0.9088\n",
      "Epoch 34/200\n",
      "13/13 [==============================] - 0s 2ms/step - loss: 0.4604 - accuracy: 0.8776\n",
      "Epoch 35/200\n",
      "13/13 [==============================] - 0s 1ms/step - loss: 0.2900 - accuracy: 0.9062\n",
      "Epoch 36/200\n",
      "13/13 [==============================] - 0s 1ms/step - loss: 0.2865 - accuracy: 0.9075\n",
      "Epoch 37/200\n",
      "13/13 [==============================] - 0s 2ms/step - loss: 0.3292 - accuracy: 0.9322\n",
      "Epoch 38/200\n",
      "13/13 [==============================] - 0s 2ms/step - loss: 0.2816 - accuracy: 0.9334\n",
      "Epoch 39/200\n",
      "13/13 [==============================] - 0s 2ms/step - loss: 0.3052 - accuracy: 0.9289\n",
      "Epoch 40/200\n",
      "13/13 [==============================] - 0s 1ms/step - loss: 0.3736 - accuracy: 0.9486\n",
      "Epoch 41/200\n",
      "13/13 [==============================] - 0s 1ms/step - loss: 0.2211 - accuracy: 0.9796\n",
      "Epoch 42/200\n",
      "13/13 [==============================] - 0s 3ms/step - loss: 0.4277 - accuracy: 0.8685\n",
      "Epoch 43/200\n",
      "13/13 [==============================] - 0s 2ms/step - loss: 0.2528 - accuracy: 0.9372\n",
      "Epoch 44/200\n",
      "13/13 [==============================] - 0s 2ms/step - loss: 0.3313 - accuracy: 0.9029\n",
      "Epoch 45/200\n",
      "13/13 [==============================] - 0s 2ms/step - loss: 0.2530 - accuracy: 0.9465\n",
      "Epoch 46/200\n",
      "13/13 [==============================] - 0s 1ms/step - loss: 0.2194 - accuracy: 0.9952\n",
      "Epoch 47/200\n",
      "13/13 [==============================] - 0s 1ms/step - loss: 0.3989 - accuracy: 0.8579\n",
      "Epoch 48/200\n",
      "13/13 [==============================] - 0s 1ms/step - loss: 0.1655 - accuracy: 0.9422\n",
      "Epoch 49/200\n",
      "13/13 [==============================] - 0s 1ms/step - loss: 0.2591 - accuracy: 0.8860\n",
      "Epoch 50/200\n",
      "13/13 [==============================] - 0s 1ms/step - loss: 0.1260 - accuracy: 0.9796\n",
      "Epoch 51/200\n",
      "13/13 [==============================] - 0s 2ms/step - loss: 0.1682 - accuracy: 0.9545\n",
      "Epoch 52/200\n",
      "13/13 [==============================] - 0s 2ms/step - loss: 0.1738 - accuracy: 0.9530\n",
      "Epoch 53/200\n",
      "13/13 [==============================] - 0s 2ms/step - loss: 0.1593 - accuracy: 0.9642\n",
      "Epoch 54/200\n",
      "13/13 [==============================] - 0s 2ms/step - loss: 0.2165 - accuracy: 0.9329\n",
      "Epoch 55/200\n",
      "13/13 [==============================] - 0s 3ms/step - loss: 0.2558 - accuracy: 0.9318\n",
      "Epoch 56/200\n",
      "13/13 [==============================] - 0s 2ms/step - loss: 0.1802 - accuracy: 0.9571\n",
      "Epoch 57/200\n",
      "13/13 [==============================] - 0s 2ms/step - loss: 0.2073 - accuracy: 0.9517\n",
      "Epoch 58/200\n",
      "13/13 [==============================] - 0s 2ms/step - loss: 0.1199 - accuracy: 0.9767\n",
      "Epoch 59/200\n",
      "13/13 [==============================] - 0s 2ms/step - loss: 0.2581 - accuracy: 0.9113\n",
      "Epoch 60/200\n",
      "13/13 [==============================] - 0s 2ms/step - loss: 0.1112 - accuracy: 0.9748\n",
      "Epoch 61/200\n",
      "13/13 [==============================] - 0s 2ms/step - loss: 0.1213 - accuracy: 1.0000\n",
      "Epoch 62/200\n",
      "13/13 [==============================] - 0s 2ms/step - loss: 0.1129 - accuracy: 0.9788\n",
      "Epoch 63/200\n",
      "13/13 [==============================] - 0s 1ms/step - loss: 0.1477 - accuracy: 0.9952\n",
      "Epoch 64/200\n",
      "13/13 [==============================] - 0s 2ms/step - loss: 0.0965 - accuracy: 0.9965\n",
      "Epoch 65/200\n",
      "13/13 [==============================] - 0s 2ms/step - loss: 0.1125 - accuracy: 0.9652\n",
      "Epoch 66/200\n",
      "13/13 [==============================] - 0s 2ms/step - loss: 0.1379 - accuracy: 0.9608\n",
      "Epoch 67/200\n",
      "13/13 [==============================] - 0s 2ms/step - loss: 0.1745 - accuracy: 0.9327\n",
      "Epoch 68/200\n",
      "13/13 [==============================] - 0s 2ms/step - loss: 0.0947 - accuracy: 0.9904\n",
      "Epoch 69/200\n",
      "13/13 [==============================] - 0s 2ms/step - loss: 0.1118 - accuracy: 0.9922\n",
      "Epoch 70/200\n",
      "13/13 [==============================] - 0s 2ms/step - loss: 0.1846 - accuracy: 0.9172\n",
      "Epoch 71/200\n",
      "13/13 [==============================] - 0s 2ms/step - loss: 0.1876 - accuracy: 0.9239\n",
      "Epoch 72/200\n",
      "13/13 [==============================] - 0s 2ms/step - loss: 0.0745 - accuracy: 1.0000\n",
      "Epoch 73/200\n",
      "13/13 [==============================] - 0s 2ms/step - loss: 0.0963 - accuracy: 1.0000\n",
      "Epoch 74/200\n",
      "13/13 [==============================] - 0s 2ms/step - loss: 0.0681 - accuracy: 0.9938\n",
      "Epoch 75/200\n",
      "13/13 [==============================] - 0s 1ms/step - loss: 0.1759 - accuracy: 0.9398\n",
      "Epoch 76/200\n",
      "13/13 [==============================] - 0s 2ms/step - loss: 0.0737 - accuracy: 1.0000\n",
      "Epoch 77/200\n",
      "13/13 [==============================] - 0s 2ms/step - loss: 0.1104 - accuracy: 0.9796\n",
      "Epoch 78/200\n",
      "13/13 [==============================] - 0s 2ms/step - loss: 0.0626 - accuracy: 0.9922\n",
      "Epoch 79/200\n",
      "13/13 [==============================] - 0s 2ms/step - loss: 0.1256 - accuracy: 0.9831\n",
      "Epoch 80/200\n",
      "13/13 [==============================] - 0s 2ms/step - loss: 0.1403 - accuracy: 0.9783\n",
      "Epoch 81/200\n",
      "13/13 [==============================] - 0s 2ms/step - loss: 0.0583 - accuracy: 0.9860\n",
      "Epoch 82/200\n",
      "13/13 [==============================] - 0s 2ms/step - loss: 0.1993 - accuracy: 0.9451\n",
      "Epoch 83/200\n",
      "13/13 [==============================] - 0s 2ms/step - loss: 0.0950 - accuracy: 1.0000\n",
      "Epoch 84/200\n",
      "13/13 [==============================] - 0s 2ms/step - loss: 0.0669 - accuracy: 1.0000\n",
      "Epoch 85/200\n",
      "13/13 [==============================] - 0s 2ms/step - loss: 0.1388 - accuracy: 0.9177\n",
      "Epoch 86/200\n",
      "13/13 [==============================] - 0s 2ms/step - loss: 0.0971 - accuracy: 0.9642\n",
      "Epoch 87/200\n",
      "13/13 [==============================] - 0s 2ms/step - loss: 0.1065 - accuracy: 0.9860\n",
      "Epoch 88/200\n",
      "13/13 [==============================] - 0s 2ms/step - loss: 0.0517 - accuracy: 0.9922\n",
      "Epoch 89/200\n",
      "13/13 [==============================] - 0s 2ms/step - loss: 0.1979 - accuracy: 0.8742\n",
      "Epoch 90/200\n",
      "13/13 [==============================] - 0s 2ms/step - loss: 0.0654 - accuracy: 0.9691\n",
      "Epoch 91/200\n",
      "13/13 [==============================] - 0s 2ms/step - loss: 0.0566 - accuracy: 0.9952\n",
      "Epoch 92/200\n",
      "13/13 [==============================] - 0s 2ms/step - loss: 0.0709 - accuracy: 0.9796\n",
      "Epoch 93/200\n",
      "13/13 [==============================] - 0s 2ms/step - loss: 0.0920 - accuracy: 0.9700\n",
      "Epoch 94/200\n",
      "13/13 [==============================] - 0s 2ms/step - loss: 0.0515 - accuracy: 0.9890\n",
      "Epoch 95/200\n",
      "13/13 [==============================] - 0s 2ms/step - loss: 0.0568 - accuracy: 0.9904\n",
      "Epoch 96/200\n",
      "13/13 [==============================] - 0s 2ms/step - loss: 0.0375 - accuracy: 1.0000\n",
      "Epoch 97/200\n",
      "13/13 [==============================] - 0s 2ms/step - loss: 0.0434 - accuracy: 1.0000\n",
      "Epoch 98/200\n",
      "13/13 [==============================] - 0s 2ms/step - loss: 0.2361 - accuracy: 0.9534\n",
      "Epoch 99/200\n",
      "13/13 [==============================] - 0s 2ms/step - loss: 0.0444 - accuracy: 0.9887\n",
      "Epoch 100/200\n",
      "13/13 [==============================] - 0s 2ms/step - loss: 0.1869 - accuracy: 0.9389\n",
      "Epoch 101/200\n",
      "13/13 [==============================] - 0s 2ms/step - loss: 0.0370 - accuracy: 0.9938\n",
      "Epoch 102/200\n",
      "13/13 [==============================] - 0s 2ms/step - loss: 0.1051 - accuracy: 0.9717\n",
      "Epoch 103/200\n",
      "13/13 [==============================] - 0s 2ms/step - loss: 0.0752 - accuracy: 0.9904\n",
      "Epoch 104/200\n",
      "13/13 [==============================] - 0s 2ms/step - loss: 0.0919 - accuracy: 0.9748\n",
      "Epoch 105/200\n",
      "13/13 [==============================] - 0s 2ms/step - loss: 0.0203 - accuracy: 1.0000\n",
      "Epoch 106/200\n",
      "13/13 [==============================] - 0s 2ms/step - loss: 0.0344 - accuracy: 1.0000\n",
      "Epoch 107/200\n",
      "13/13 [==============================] - 0s 2ms/step - loss: 0.0710 - accuracy: 0.9652\n",
      "Epoch 108/200\n",
      "13/13 [==============================] - 0s 2ms/step - loss: 0.1220 - accuracy: 0.9534\n",
      "Epoch 109/200\n",
      "13/13 [==============================] - 0s 2ms/step - loss: 0.1838 - accuracy: 0.9471\n",
      "Epoch 110/200\n",
      "13/13 [==============================] - 0s 2ms/step - loss: 0.0634 - accuracy: 0.9938\n",
      "Epoch 111/200\n",
      "13/13 [==============================] - 0s 2ms/step - loss: 0.1062 - accuracy: 0.9679\n",
      "Epoch 112/200\n",
      "13/13 [==============================] - 0s 2ms/step - loss: 0.0881 - accuracy: 0.9748\n",
      "Epoch 113/200\n",
      "13/13 [==============================] - 0s 2ms/step - loss: 0.0176 - accuracy: 1.0000\n",
      "Epoch 114/200\n",
      "13/13 [==============================] - 0s 2ms/step - loss: 0.0880 - accuracy: 0.9676\n",
      "Epoch 115/200\n",
      "13/13 [==============================] - 0s 2ms/step - loss: 0.0562 - accuracy: 0.9860\n",
      "Epoch 116/200\n",
      "13/13 [==============================] - 0s 2ms/step - loss: 0.0512 - accuracy: 0.9796\n",
      "Epoch 117/200\n",
      "13/13 [==============================] - 0s 2ms/step - loss: 0.0332 - accuracy: 0.9938\n",
      "Epoch 118/200\n",
      "13/13 [==============================] - 0s 2ms/step - loss: 0.0296 - accuracy: 0.9796\n",
      "Epoch 119/200\n",
      "13/13 [==============================] - 0s 2ms/step - loss: 0.0546 - accuracy: 1.0000\n",
      "Epoch 120/200\n",
      "13/13 [==============================] - 0s 2ms/step - loss: 0.0178 - accuracy: 1.0000\n",
      "Epoch 121/200\n",
      "13/13 [==============================] - 0s 2ms/step - loss: 0.0154 - accuracy: 0.9977\n",
      "Epoch 122/200\n",
      "13/13 [==============================] - 0s 2ms/step - loss: 0.0629 - accuracy: 0.9713\n",
      "Epoch 123/200\n",
      "13/13 [==============================] - 0s 2ms/step - loss: 0.0618 - accuracy: 0.9965\n",
      "Epoch 124/200\n",
      "13/13 [==============================] - 0s 2ms/step - loss: 0.1451 - accuracy: 0.9608\n",
      "Epoch 125/200\n",
      "13/13 [==============================] - 0s 2ms/step - loss: 0.0949 - accuracy: 0.9713\n",
      "Epoch 126/200\n",
      "13/13 [==============================] - 0s 2ms/step - loss: 0.0351 - accuracy: 1.0000\n",
      "Epoch 127/200\n",
      "13/13 [==============================] - 0s 2ms/step - loss: 0.0375 - accuracy: 0.9929\n",
      "Epoch 128/200\n",
      "13/13 [==============================] - 0s 2ms/step - loss: 0.0515 - accuracy: 0.9890\n",
      "Epoch 129/200\n",
      "13/13 [==============================] - 0s 2ms/step - loss: 0.0717 - accuracy: 0.9788\n",
      "Epoch 130/200\n",
      "13/13 [==============================] - 0s 2ms/step - loss: 0.0403 - accuracy: 0.9938\n",
      "Epoch 131/200\n",
      "13/13 [==============================] - 0s 1ms/step - loss: 0.0488 - accuracy: 1.0000\n",
      "Epoch 132/200\n",
      "13/13 [==============================] - 0s 1ms/step - loss: 0.0670 - accuracy: 0.9904\n",
      "Epoch 133/200\n",
      "13/13 [==============================] - 0s 1ms/step - loss: 0.1683 - accuracy: 0.9456\n",
      "Epoch 134/200\n",
      "13/13 [==============================] - 0s 1ms/step - loss: 0.0317 - accuracy: 1.0000\n",
      "Epoch 135/200\n",
      "13/13 [==============================] - 0s 2ms/step - loss: 0.1630 - accuracy: 0.9356\n",
      "Epoch 136/200\n",
      "13/13 [==============================] - 0s 1ms/step - loss: 0.0233 - accuracy: 0.9861\n",
      "Epoch 137/200\n",
      "13/13 [==============================] - 0s 2ms/step - loss: 0.1906 - accuracy: 0.9456\n",
      "Epoch 138/200\n",
      "13/13 [==============================] - 0s 2ms/step - loss: 0.0533 - accuracy: 0.9831\n",
      "Epoch 139/200\n",
      "13/13 [==============================] - 0s 1ms/step - loss: 0.0168 - accuracy: 1.0000\n",
      "Epoch 140/200\n",
      "13/13 [==============================] - 0s 2ms/step - loss: 0.0909 - accuracy: 0.9938\n",
      "Epoch 141/200\n",
      "13/13 [==============================] - 0s 2ms/step - loss: 0.0343 - accuracy: 0.9977\n",
      "Epoch 142/200\n",
      "13/13 [==============================] - 0s 1ms/step - loss: 0.0435 - accuracy: 0.9922\n",
      "Epoch 143/200\n",
      "13/13 [==============================] - 0s 1ms/step - loss: 0.0601 - accuracy: 0.9808\n",
      "Epoch 144/200\n",
      "13/13 [==============================] - 0s 1ms/step - loss: 0.0582 - accuracy: 0.9720\n",
      "Epoch 145/200\n",
      "13/13 [==============================] - 0s 1ms/step - loss: 0.1459 - accuracy: 0.9534\n",
      "Epoch 146/200\n",
      "13/13 [==============================] - 0s 2ms/step - loss: 0.0478 - accuracy: 0.9831\n",
      "Epoch 147/200\n",
      "13/13 [==============================] - 0s 1ms/step - loss: 0.0392 - accuracy: 1.0000\n",
      "Epoch 148/200\n",
      "13/13 [==============================] - 0s 1ms/step - loss: 0.0580 - accuracy: 1.0000\n",
      "Epoch 149/200\n",
      "13/13 [==============================] - 0s 1ms/step - loss: 0.0748 - accuracy: 1.0000\n",
      "Epoch 150/200\n",
      "13/13 [==============================] - 0s 1ms/step - loss: 0.1260 - accuracy: 0.9831\n",
      "Epoch 151/200\n",
      "13/13 [==============================] - 0s 1ms/step - loss: 0.1059 - accuracy: 0.9670\n",
      "Epoch 152/200\n",
      "13/13 [==============================] - 0s 1ms/step - loss: 0.0434 - accuracy: 1.0000\n",
      "Epoch 153/200\n",
      "13/13 [==============================] - 0s 1ms/step - loss: 0.0070 - accuracy: 1.0000\n",
      "Epoch 154/200\n",
      "13/13 [==============================] - 0s 1ms/step - loss: 0.0131 - accuracy: 1.0000\n",
      "Epoch 155/200\n",
      "13/13 [==============================] - 0s 1ms/step - loss: 0.0672 - accuracy: 0.9676\n",
      "Epoch 156/200\n",
      "13/13 [==============================] - 0s 1ms/step - loss: 0.0422 - accuracy: 0.9692\n",
      "Epoch 157/200\n",
      "13/13 [==============================] - 0s 1ms/step - loss: 0.0764 - accuracy: 0.9796\n",
      "Epoch 158/200\n",
      "13/13 [==============================] - 0s 1ms/step - loss: 0.0218 - accuracy: 1.0000\n",
      "Epoch 159/200\n",
      "13/13 [==============================] - 0s 1ms/step - loss: 0.0342 - accuracy: 1.0000\n",
      "Epoch 160/200\n",
      "13/13 [==============================] - 0s 1ms/step - loss: 0.0332 - accuracy: 1.0000\n",
      "Epoch 161/200\n",
      "13/13 [==============================] - 0s 1ms/step - loss: 0.0290 - accuracy: 1.0000\n",
      "Epoch 162/200\n",
      "13/13 [==============================] - 0s 1ms/step - loss: 0.0535 - accuracy: 0.9904\n",
      "Epoch 163/200\n",
      "13/13 [==============================] - 0s 1ms/step - loss: 0.0983 - accuracy: 0.9534\n",
      "Epoch 164/200\n",
      "13/13 [==============================] - 0s 1ms/step - loss: 0.0251 - accuracy: 1.0000\n",
      "Epoch 165/200\n",
      "13/13 [==============================] - 0s 1ms/step - loss: 0.0288 - accuracy: 1.0000\n",
      "Epoch 166/200\n",
      "13/13 [==============================] - 0s 1ms/step - loss: 0.1028 - accuracy: 0.9591\n",
      "Epoch 167/200\n",
      "13/13 [==============================] - 0s 1ms/step - loss: 0.1015 - accuracy: 0.9860\n",
      "Epoch 168/200\n",
      "13/13 [==============================] - 0s 1ms/step - loss: 0.0296 - accuracy: 1.0000\n",
      "Epoch 169/200\n",
      "13/13 [==============================] - 0s 1ms/step - loss: 0.0593 - accuracy: 0.9748\n",
      "Epoch 170/200\n",
      "13/13 [==============================] - 0s 2ms/step - loss: 0.0246 - accuracy: 0.9884\n",
      "Epoch 171/200\n",
      "13/13 [==============================] - 0s 1ms/step - loss: 0.0077 - accuracy: 1.0000\n",
      "Epoch 172/200\n",
      "13/13 [==============================] - 0s 1ms/step - loss: 0.0886 - accuracy: 0.9676\n",
      "Epoch 173/200\n",
      "13/13 [==============================] - 0s 1ms/step - loss: 0.0422 - accuracy: 1.0000\n",
      "Epoch 174/200\n",
      "13/13 [==============================] - 0s 1ms/step - loss: 0.0877 - accuracy: 0.9965\n",
      "Epoch 175/200\n",
      "13/13 [==============================] - 0s 1ms/step - loss: 0.0874 - accuracy: 0.9614\n",
      "Epoch 176/200\n",
      "13/13 [==============================] - 0s 1ms/step - loss: 0.0350 - accuracy: 1.0000\n",
      "Epoch 177/200\n",
      "13/13 [==============================] - 0s 1ms/step - loss: 0.0401 - accuracy: 0.9812\n",
      "Epoch 178/200\n",
      "13/13 [==============================] - 0s 1ms/step - loss: 0.0344 - accuracy: 0.9796\n",
      "Epoch 179/200\n",
      "13/13 [==============================] - 0s 1ms/step - loss: 0.0296 - accuracy: 1.0000\n",
      "Epoch 180/200\n",
      "13/13 [==============================] - 0s 1ms/step - loss: 0.0913 - accuracy: 1.0000\n",
      "Epoch 181/200\n",
      "13/13 [==============================] - 0s 1ms/step - loss: 0.0168 - accuracy: 1.0000\n",
      "Epoch 182/200\n",
      "13/13 [==============================] - 0s 1ms/step - loss: 0.0161 - accuracy: 1.0000\n",
      "Epoch 183/200\n",
      "13/13 [==============================] - 0s 1ms/step - loss: 0.0207 - accuracy: 1.0000\n",
      "Epoch 184/200\n",
      "13/13 [==============================] - 0s 1ms/step - loss: 0.0433 - accuracy: 0.9700\n",
      "Epoch 185/200\n",
      "13/13 [==============================] - 0s 1ms/step - loss: 0.0483 - accuracy: 0.9796\n",
      "Epoch 186/200\n",
      "13/13 [==============================] - 0s 1ms/step - loss: 0.0521 - accuracy: 1.0000\n",
      "Epoch 187/200\n",
      "13/13 [==============================] - 0s 1ms/step - loss: 0.0154 - accuracy: 1.0000\n",
      "Epoch 188/200\n",
      "13/13 [==============================] - 0s 1ms/step - loss: 0.0673 - accuracy: 1.0000\n",
      "Epoch 189/200\n",
      "13/13 [==============================] - 0s 1ms/step - loss: 0.0124 - accuracy: 1.0000\n",
      "Epoch 190/200\n",
      "13/13 [==============================] - 0s 1ms/step - loss: 0.0131 - accuracy: 1.0000\n",
      "Epoch 191/200\n",
      "13/13 [==============================] - 0s 1ms/step - loss: 0.0280 - accuracy: 0.9952\n",
      "Epoch 192/200\n",
      "13/13 [==============================] - 0s 1ms/step - loss: 0.0180 - accuracy: 1.0000\n",
      "Epoch 193/200\n",
      "13/13 [==============================] - 0s 1ms/step - loss: 0.0164 - accuracy: 0.9904\n",
      "Epoch 194/200\n",
      "13/13 [==============================] - 0s 1ms/step - loss: 0.0762 - accuracy: 0.9560\n",
      "Epoch 195/200\n",
      "13/13 [==============================] - 0s 1ms/step - loss: 0.0207 - accuracy: 1.0000\n",
      "Epoch 196/200\n",
      "13/13 [==============================] - 0s 1ms/step - loss: 0.0353 - accuracy: 1.0000\n",
      "Epoch 197/200\n",
      "13/13 [==============================] - 0s 1ms/step - loss: 0.0474 - accuracy: 0.9812\n",
      "Epoch 198/200\n",
      "13/13 [==============================] - 0s 1ms/step - loss: 0.0275 - accuracy: 0.9860\n",
      "Epoch 199/200\n",
      "13/13 [==============================] - 0s 1ms/step - loss: 0.0167 - accuracy: 1.0000\n",
      "Epoch 200/200\n",
      "13/13 [==============================] - 0s 1ms/step - loss: 0.0333 - accuracy: 0.9977\n"
     ]
    },
    {
     "data": {
      "text/plain": [
       "<tensorflow.python.keras.callbacks.History at 0x1cefe566d60>"
      ]
     },
     "execution_count": 6,
     "metadata": {},
     "output_type": "execute_result"
    }
   ],
   "source": [
    "# Fit the model\n",
    "modelo.fit(np.array(train_x), np.array(train_y), epochs=200, batch_size=5, verbose=1)"
   ]
  },
  {
   "cell_type": "code",
   "execution_count": 7,
   "metadata": {},
   "outputs": [
    {
     "name": "stdout",
     "output_type": "stream",
     "text": [
      "INFO:tensorflow:Assets written to: saved_model/chatbot-brains-model\\assets\n"
     ]
    }
   ],
   "source": [
    "modelo.save('saved_model/chatbot-brains-model')"
   ]
  },
  {
   "cell_type": "code",
   "execution_count": 8,
   "metadata": {},
   "outputs": [],
   "source": [
    "import tensorflow as tf\n",
    "\n",
    "loaded_model = tf.keras.models.load_model('saved_model/chatbot-brains-model')"
   ]
  },
  {
   "cell_type": "code",
   "execution_count": 23,
   "metadata": {},
   "outputs": [],
   "source": [
    "\n",
    "\n",
    "def clean_up_sentence(sentence):\n",
    "    # tokenize the pattern - split words into array\n",
    "    sentence_words = nltk.word_tokenize(sentence)\n",
    "    # stem each word - create short form for word\n",
    "    sentence_words = [stemmer.stem(word.lower()) for word in sentence_words]\n",
    "    return sentence_words\n",
    "\n",
    "\n",
    "# return bag of words array: 0 or 1 for each word in the bag that exists in the sentence\n",
    "def bow(sentence, words, show_details=True):\n",
    "    # tokenize the pattern\n",
    "    sentence_words = clean_up_sentence(sentence)\n",
    "    # bag of words - matrix of N words, vocabulary matrix\n",
    "    bag = [0]*len(words)  \n",
    "    for s in sentence_words:\n",
    "        for i,w in enumerate(words):\n",
    "            if w == s: \n",
    "                # assign 1 if current word is in the vocabulary position\n",
    "                bag[i] = 1\n",
    "                if show_details:\n",
    "                    print (\"found in bag: %s\" % w)\n",
    "    return(np.array(bag))\n",
    "    \n",
    "\n",
    "def classify_local(sentence):\n",
    "    ERROR_THRESHOLD = 0.25\n",
    "    \n",
    "    # generate probabilities from the model\n",
    "    input_data = pd.DataFrame([bow(sentence, words)], dtype=float, index=['input'])\n",
    "    print(\"input_data: \",input_data)    \n",
    "    \n",
    "    results = loaded_model.predict([input_data])[0]\n",
    "    print(\"results: \",results)\n",
    "    \n",
    "    # filter out predictions below a threshold, and provide intent index\n",
    "    results = [[i,r] for i,r in enumerate(results) if r>ERROR_THRESHOLD]\n",
    "    # sort by strength of probability\n",
    "    results.sort(key=lambda x: x[1], reverse=True)\n",
    "    return_list = []\n",
    "    for r in results:\n",
    "        return_list.append((classes[r[0]], str(r[1])))\n",
    "    # return tuple of intent and probability\n",
    "    \n",
    "    return return_list"
   ]
  },
  {
   "cell_type": "code",
   "execution_count": 24,
   "metadata": {},
   "outputs": [
    {
     "name": "stdout",
     "output_type": "stream",
     "text": [
      "found in bag: hvac\n",
      "found in bag: is\n",
      "found in bag: a\n",
      "found in bag: system\n",
      "found in bag: in\n",
      "found in bag: a\n",
      "found in bag: build\n",
      "found in bag: i\n",
      "[0 0 1 0 0 0 0 0 0 0 0 0 0 0 0 0 0 0 0 0 0 0 1 0 0 0 0 0 0 0 0 0 0 0 0 0 0\n",
      " 0 0 0 0 0 0 0 0 0 0 0 0 0 0 0 0 0 0 0 0 0 0 0 0 0 0 0 0 0 0 0 0 0 1 1 0 1\n",
      " 0 1 0 0 0 0 0 0 0 0 0 0 0 0 0 0 0 0 0 0 0 0 0 0 0 0 0 0 0 0 0 0 0 0 0 0 0\n",
      " 0 0 0 0 0 0 0 0 0 0 0 0 0 1 0 0 0 0 0 0 0 0 0 0 0 0 0 0 0 0 0 0 0 0 0 0 0\n",
      " 0 0 0 0]\n",
      "['check_ahu', 'check_all_hvac', 'check_boiler_plant', 'check_chiller_plant', 'check_energy', 'check_future_weather', 'check_how_it_should_all_work', 'check_power', 'check_runtime', 'check_zone_temps', 'goodbye', 'greeting', 'options', 'thanks', 'what_to_do']\n"
     ]
    }
   ],
   "source": [
    "p = bow(\"HVAC is a mechanical system in a building I think\", words)\n",
    "\n",
    "print(p)\n",
    "print(classes)"
   ]
  },
  {
   "cell_type": "code",
   "execution_count": 25,
   "metadata": {},
   "outputs": [
    {
     "name": "stdout",
     "output_type": "stream",
     "text": [
      "[[1.1322701e-05 9.9361801e-01 8.0619511e-06 8.2069064e-06 2.0572115e-07\n",
      "  3.2828422e-04 8.5624952e-06 9.8246906e-05 1.6101414e-07 2.8381590e-05\n",
      "  5.3282026e-08 5.8736335e-03 4.2884068e-07 2.3620801e-07 1.6230424e-05]]\n"
     ]
    }
   ],
   "source": [
    "inputvar = pd.DataFrame([p], dtype=float, index=['input'])\n",
    "\n",
    "print(loaded_model.predict(inputvar))"
   ]
  },
  {
   "cell_type": "code",
   "execution_count": null,
   "metadata": {},
   "outputs": [],
   "source": []
  },
  {
   "cell_type": "code",
   "execution_count": 26,
   "metadata": {},
   "outputs": [
    {
     "name": "stdout",
     "output_type": "stream",
     "text": [
      "found in bag: hello\n",
      "found in bag: ,\n",
      "found in bag: good\n",
      "found in bag: day\n",
      "input_data:         0    1    2    3    4    5    6    7    8    9    ...  142  143  144  \\\n",
      "input  0.0  1.0  0.0  0.0  0.0  0.0  0.0  0.0  0.0  0.0  ...  0.0  0.0  0.0   \n",
      "\n",
      "       145  146  147  148  149  150  151  \n",
      "input  0.0  0.0  0.0  0.0  0.0  0.0  0.0  \n",
      "\n",
      "[1 rows x 152 columns]\n",
      "results:  [1.0775472e-08 7.1436011e-07 1.8245773e-08 6.6444663e-09 2.4269323e-07\n",
      " 4.6301629e-08 7.7450437e-09 2.9416057e-07 9.4652530e-10 3.9009430e-07\n",
      " 4.6648879e-07 9.9999774e-01 5.1868105e-09 3.1666946e-08 1.2124188e-07]\n"
     ]
    },
    {
     "data": {
      "text/plain": [
       "[('greeting', '0.99999774')]"
      ]
     },
     "execution_count": 26,
     "metadata": {},
     "output_type": "execute_result"
    }
   ],
   "source": [
    "classify_local('Hello, good day!')"
   ]
  },
  {
   "cell_type": "code",
   "execution_count": 27,
   "metadata": {},
   "outputs": [
    {
     "name": "stdout",
     "output_type": "stream",
     "text": [
      "found in bag: how\n",
      "found in bag: you\n",
      "found in bag: can\n",
      "found in bag: me\n",
      "input_data:         0    1    2    3    4    5    6    7    8    9    ...  142  143  144  \\\n",
      "input  0.0  0.0  0.0  0.0  0.0  0.0  0.0  0.0  0.0  0.0  ...  0.0  0.0  0.0   \n",
      "\n",
      "       145  146  147  148  149  150  151  \n",
      "input  0.0  0.0  0.0  0.0  0.0  1.0  0.0  \n",
      "\n",
      "[1 rows x 152 columns]\n",
      "results:  [2.5807581e-06 1.1231040e-07 1.4518911e-06 1.6180411e-07 1.6185706e-05\n",
      " 6.0758157e-07 2.8099514e-06 6.0054802e-08 3.3847434e-07 6.4008042e-08\n",
      " 9.3690994e-07 2.6670832e-05 9.9991560e-01 9.4236593e-06 2.2989174e-05]\n"
     ]
    },
    {
     "data": {
      "text/plain": [
       "[('options', '0.9999156')]"
      ]
     },
     "execution_count": 27,
     "metadata": {},
     "output_type": "execute_result"
    }
   ],
   "source": [
    "classify_local('How you can assist me?')"
   ]
  },
  {
   "cell_type": "code",
   "execution_count": 28,
   "metadata": {},
   "outputs": [
    {
     "name": "stdout",
     "output_type": "stream",
     "text": [
      "found in bag: what\n",
      "found in bag: is\n",
      "found in bag: my\n",
      "found in bag: system\n",
      "found in bag: doing\n",
      "input_data:         0    1    2    3    4    5    6    7    8    9    ...  142  143  144  \\\n",
      "input  0.0  0.0  0.0  0.0  0.0  0.0  0.0  0.0  0.0  0.0  ...  0.0  0.0  0.0   \n",
      "\n",
      "       145  146  147  148  149  150  151  \n",
      "input  1.0  0.0  0.0  0.0  0.0  0.0  0.0  \n",
      "\n",
      "[1 rows x 152 columns]\n",
      "results:  [3.8264729e-03 9.8003024e-01 4.0412619e-04 3.2501433e-05 2.9829444e-06\n",
      " 6.4478409e-05 1.6475302e-04 6.5852637e-06 5.0503822e-06 3.5897447e-04\n",
      " 2.8713421e-07 1.4949327e-02 8.0070844e-05 8.1764529e-06 6.6172419e-05]\n"
     ]
    },
    {
     "data": {
      "text/plain": [
       "[('check_all_hvac', '0.98003024')]"
      ]
     },
     "execution_count": 28,
     "metadata": {},
     "output_type": "execute_result"
    }
   ],
   "source": [
    "classify_local('what is my mechanical system doing?')"
   ]
  },
  {
   "cell_type": "code",
   "execution_count": 29,
   "metadata": {},
   "outputs": [
    {
     "name": "stdout",
     "output_type": "stream",
     "text": [
      "found in bag: ar\n",
      "found in bag: at\n",
      "found in bag: al\n",
      "input_data:         0    1    2    3    4    5    6    7    8    9    ...  142  143  144  \\\n",
      "input  0.0  0.0  0.0  0.0  0.0  1.0  0.0  0.0  0.0  0.0  ...  0.0  0.0  0.0   \n",
      "\n",
      "       145  146  147  148  149  150  151  \n",
      "input  0.0  0.0  0.0  0.0  0.0  0.0  0.0  \n",
      "\n",
      "[1 rows x 152 columns]\n",
      "results:  [4.1744574e-03 1.9441090e-03 2.0976881e-03 4.1539440e-01 3.0427601e-04\n",
      " 1.6549496e-04 1.2665679e-02 2.6919506e-03 6.4560617e-03 3.6318070e-01\n",
      " 1.1079893e-01 5.5706296e-02 3.5187168e-04 4.9486868e-03 1.9119311e-02]\n"
     ]
    },
    {
     "data": {
      "text/plain": [
       "[('check_chiller_plant', '0.4153944'), ('check_zone_temps', '0.3631807')]"
      ]
     },
     "execution_count": 29,
     "metadata": {},
     "output_type": "execute_result"
    }
   ],
   "source": [
    "classify_local('are people complaining at all?')"
   ]
  },
  {
   "cell_type": "code",
   "execution_count": 30,
   "metadata": {},
   "outputs": [
    {
     "name": "stdout",
     "output_type": "stream",
     "text": [
      "found in bag: how\n",
      "found in bag: is\n",
      "found in bag: the\n",
      "found in bag: hvac\n",
      "found in bag: run\n",
      "input_data:         0    1    2    3    4    5    6    7    8    9    ...  142  143  144  \\\n",
      "input  0.0  0.0  0.0  0.0  0.0  0.0  0.0  0.0  0.0  0.0  ...  0.0  0.0  0.0   \n",
      "\n",
      "       145  146  147  148  149  150  151  \n",
      "input  0.0  0.0  0.0  0.0  0.0  0.0  0.0  \n",
      "\n",
      "[1 rows x 152 columns]\n",
      "results:  [9.9185092e-07 9.9991345e-01 5.8244939e-07 1.6708578e-06 4.2436654e-09\n",
      " 3.5500075e-06 5.6666663e-06 1.7665810e-06 8.9811202e-08 2.9558691e-06\n",
      " 7.8484302e-11 6.8854897e-05 7.1808337e-08 5.7853352e-08 1.6813958e-07]\n"
     ]
    },
    {
     "data": {
      "text/plain": [
       "[('check_all_hvac', '0.99991345')]"
      ]
     },
     "execution_count": 30,
     "metadata": {},
     "output_type": "execute_result"
    }
   ],
   "source": [
    "classify_local('how is the HVAC running?')"
   ]
  },
  {
   "cell_type": "code",
   "execution_count": 31,
   "metadata": {},
   "outputs": [
    {
     "name": "stdout",
     "output_type": "stream",
     "text": [
      "found in bag: has\n",
      "found in bag: the\n",
      "found in bag: pow\n",
      "found in bag: us\n",
      "found in bag: for\n",
      "found in bag: the\n",
      "found in bag: build\n",
      "found in bag: been\n",
      "found in bag: bad\n",
      "input_data:         0    1    2    3    4    5    6    7    8    9    ...  142  143  144  \\\n",
      "input  0.0  0.0  0.0  0.0  0.0  0.0  0.0  0.0  0.0  0.0  ...  0.0  0.0  0.0   \n",
      "\n",
      "       145  146  147  148  149  150  151  \n",
      "input  0.0  0.0  0.0  0.0  0.0  0.0  0.0  \n",
      "\n",
      "[1 rows x 152 columns]\n",
      "results:  [1.8020928e-06 5.8946935e-05 3.5096056e-04 1.0908003e-04 3.6781806e-02\n",
      " 2.0429991e-04 8.0410209e-06 9.6141607e-01 5.3937780e-04 3.0330682e-06\n",
      " 7.1463262e-05 2.9496191e-04 2.0768555e-05 2.4813125e-05 1.1455149e-04]\n"
     ]
    },
    {
     "data": {
      "text/plain": [
       "[('check_power', '0.96141607')]"
      ]
     },
     "execution_count": 31,
     "metadata": {},
     "output_type": "execute_result"
    }
   ],
   "source": [
    "classify_local('has the power use for the building been bad?')"
   ]
  },
  {
   "cell_type": "code",
   "execution_count": 32,
   "metadata": {},
   "outputs": [
    {
     "name": "stdout",
     "output_type": "stream",
     "text": [
      "found in bag: ar\n",
      "found in bag: we\n",
      "found in bag: get\n",
      "found in bag: any\n",
      "found in bag: fre\n",
      "found in bag: cool\n",
      "found in bag: or\n",
      "found in bag: us\n",
      "found in bag: cool\n",
      "input_data:         0    1    2    3    4    5    6    7    8    9    ...  142  143  144  \\\n",
      "input  0.0  0.0  0.0  0.0  0.0  0.0  0.0  0.0  0.0  0.0  ...  0.0  1.0  0.0   \n",
      "\n",
      "       145  146  147  148  149  150  151  \n",
      "input  0.0  0.0  0.0  0.0  0.0  0.0  0.0  \n",
      "\n",
      "[1 rows x 152 columns]\n",
      "results:  [1.0914397e-01 4.8065741e-04 4.4232034e-03 4.1496554e-01 4.4249463e-01\n",
      " 8.9456495e-03 4.7202708e-04 8.5561955e-04 1.5036102e-03 2.4181478e-04\n",
      " 8.4031485e-03 1.2305197e-03 2.8124175e-03 3.9473297e-03 7.9984478e-05]\n"
     ]
    },
    {
     "data": {
      "text/plain": [
       "[('check_energy', '0.44249463'), ('check_chiller_plant', '0.41496554')]"
      ]
     },
     "execution_count": 32,
     "metadata": {},
     "output_type": "execute_result"
    }
   ],
   "source": [
    "classify_local('are we getting any free cooling or using mechanical cooling?')"
   ]
  },
  {
   "cell_type": "code",
   "execution_count": 33,
   "metadata": {},
   "outputs": [
    {
     "name": "stdout",
     "output_type": "stream",
     "text": [
      "found in bag: is\n",
      "found in bag: the\n",
      "found in bag: fan\n",
      "found in bag: system\n",
      "found in bag: out\n",
      "found in bag: on\n",
      "found in bag: alarm\n",
      "input_data:         0    1    2    3    4    5    6    7    8    9    ...  142  143  144  \\\n",
      "input  0.0  0.0  0.0  0.0  0.0  0.0  1.0  0.0  0.0  0.0  ...  0.0  0.0  0.0   \n",
      "\n",
      "       145  146  147  148  149  150  151  \n",
      "input  0.0  0.0  0.0  0.0  0.0  0.0  0.0  \n",
      "\n",
      "[1 rows x 152 columns]\n",
      "results:  [9.9999750e-01 1.1535463e-07 4.9209410e-07 8.4089962e-08 2.8225644e-09\n",
      " 7.8655120e-08 1.7037112e-09 7.9080263e-11 1.6179213e-06 5.8911285e-09\n",
      " 6.2496999e-09 1.2533968e-09 1.3659428e-08 2.5806333e-09 4.0836531e-10]\n"
     ]
    },
    {
     "data": {
      "text/plain": [
       "[('check_ahu', '0.9999975')]"
      ]
     },
     "execution_count": 33,
     "metadata": {},
     "output_type": "execute_result"
    }
   ],
   "source": [
    "classify_local('is the fan systems out on alarm?')"
   ]
  },
  {
   "cell_type": "code",
   "execution_count": 34,
   "metadata": {},
   "outputs": [
    {
     "name": "stdout",
     "output_type": "stream",
     "text": [
      "found in bag: doe\n",
      "found in bag: that\n",
      "found in bag: lik\n",
      "found in bag: work\n",
      "input_data:         0    1    2    3    4    5    6    7    8    9    ...  142  143  144  \\\n",
      "input  0.0  0.0  0.0  0.0  0.0  0.0  0.0  0.0  0.0  0.0  ...  0.0  0.0  0.0   \n",
      "\n",
      "       145  146  147  148  149  150  151  \n",
      "input  0.0  0.0  0.0  1.0  0.0  0.0  0.0  \n",
      "\n",
      "[1 rows x 152 columns]\n",
      "results:  [0.0051697  0.00214835 0.00628475 0.00169718 0.00108877 0.00116341\n",
      " 0.00099926 0.00591729 0.0669648  0.00168755 0.03483037 0.01561639\n",
      " 0.00448001 0.09321579 0.75873643]\n"
     ]
    },
    {
     "data": {
      "text/plain": [
       "[('what_to_do', '0.75873643')]"
      ]
     },
     "execution_count": 34,
     "metadata": {},
     "output_type": "execute_result"
    }
   ],
   "source": [
    "classify_local('does that seem like its working correctly?')"
   ]
  },
  {
   "cell_type": "code",
   "execution_count": 35,
   "metadata": {},
   "outputs": [
    {
     "name": "stdout",
     "output_type": "stream",
     "text": [
      "found in bag: ar\n",
      "found in bag: any\n",
      "found in bag: the\n",
      "found in bag: vav\n",
      "found in bag: box\n",
      "found in bag: mov\n",
      "found in bag: air\n",
      "input_data:         0    1    2    3    4    5    6    7    8    9    ...  142  143  144  \\\n",
      "input  0.0  0.0  0.0  0.0  1.0  0.0  0.0  0.0  0.0  0.0  ...  0.0  0.0  0.0   \n",
      "\n",
      "       145  146  147  148  149  150  151  \n",
      "input  0.0  0.0  0.0  0.0  0.0  0.0  0.0  \n",
      "\n",
      "[1 rows x 152 columns]\n",
      "results:  [1.6416454e-03 2.1847896e-04 3.5950598e-06 2.0606874e-05 6.6135084e-09\n",
      " 8.3595566e-09 5.9892125e-07 1.4724056e-06 1.2306629e-07 9.9810660e-01\n",
      " 7.5768014e-09 6.5311224e-06 3.8097841e-08 1.2309047e-07 2.6349809e-07]\n"
     ]
    },
    {
     "data": {
      "text/plain": [
       "[('check_zone_temps', '0.9981066')]"
      ]
     },
     "execution_count": 35,
     "metadata": {},
     "output_type": "execute_result"
    }
   ],
   "source": [
    "classify_local('are any of the vav boxes not moving air?')"
   ]
  },
  {
   "cell_type": "code",
   "execution_count": 36,
   "metadata": {},
   "outputs": [
    {
     "name": "stdout",
     "output_type": "stream",
     "text": [
      "found in bag: what\n",
      "found in bag: ar\n",
      "found in bag: the\n",
      "found in bag: discharg\n",
      "found in bag: temp\n",
      "found in bag: look\n",
      "found in bag: lik\n",
      "found in bag: on\n",
      "found in bag: the\n",
      "found in bag: reh\n",
      "found in bag: vav\n",
      "found in bag: box\n",
      "input_data:         0    1    2    3    4    5    6    7    8    9    ...  142  143  144  \\\n",
      "input  0.0  0.0  0.0  0.0  0.0  0.0  0.0  0.0  0.0  0.0  ...  0.0  0.0  0.0   \n",
      "\n",
      "       145  146  147  148  149  150  151  \n",
      "input  1.0  0.0  0.0  0.0  0.0  0.0  0.0  \n",
      "\n",
      "[1 rows x 152 columns]\n",
      "results:  [4.8167497e-04 9.0680876e-09 3.8637172e-08 5.1126417e-08 6.0157405e-14\n",
      " 1.3107747e-13 4.0031539e-10 3.3269748e-11 1.6783028e-11 9.9951828e-01\n",
      " 2.7741267e-13 1.8543107e-10 4.4385602e-12 5.3764129e-14 5.1636512e-12]\n"
     ]
    },
    {
     "data": {
      "text/plain": [
       "[('check_zone_temps', '0.9995183')]"
      ]
     },
     "execution_count": 36,
     "metadata": {},
     "output_type": "execute_result"
    }
   ],
   "source": [
    "classify_local('what are the discharge temps looking like on the reheat vav box coils?')"
   ]
  },
  {
   "cell_type": "code",
   "execution_count": null,
   "metadata": {},
   "outputs": [],
   "source": []
  },
  {
   "cell_type": "code",
   "execution_count": null,
   "metadata": {},
   "outputs": [],
   "source": []
  },
  {
   "cell_type": "code",
   "execution_count": null,
   "metadata": {},
   "outputs": [],
   "source": []
  },
  {
   "cell_type": "code",
   "execution_count": null,
   "metadata": {},
   "outputs": [],
   "source": []
  },
  {
   "cell_type": "code",
   "execution_count": null,
   "metadata": {},
   "outputs": [],
   "source": []
  },
  {
   "cell_type": "code",
   "execution_count": null,
   "metadata": {},
   "outputs": [],
   "source": []
  },
  {
   "cell_type": "code",
   "execution_count": null,
   "metadata": {},
   "outputs": [],
   "source": []
  },
  {
   "cell_type": "code",
   "execution_count": null,
   "metadata": {},
   "outputs": [],
   "source": []
  },
  {
   "cell_type": "code",
   "execution_count": null,
   "metadata": {},
   "outputs": [],
   "source": []
  },
  {
   "cell_type": "code",
   "execution_count": null,
   "metadata": {},
   "outputs": [],
   "source": []
  },
  {
   "cell_type": "code",
   "execution_count": null,
   "metadata": {},
   "outputs": [],
   "source": []
  },
  {
   "cell_type": "code",
   "execution_count": null,
   "metadata": {},
   "outputs": [],
   "source": []
  }
 ],
 "metadata": {
  "kernelspec": {
   "display_name": "Python 3",
   "language": "python",
   "name": "python3"
  },
  "language_info": {
   "codemirror_mode": {
    "name": "ipython",
    "version": 3
   },
   "file_extension": ".py",
   "mimetype": "text/x-python",
   "name": "python",
   "nbconvert_exporter": "python",
   "pygments_lexer": "ipython3",
   "version": "3.8.5"
  }
 },
 "nbformat": 4,
 "nbformat_minor": 4
}
