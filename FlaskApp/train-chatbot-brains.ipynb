{
 "cells": [
  {
   "cell_type": "code",
   "execution_count": 5,
   "metadata": {},
   "outputs": [],
   "source": [
    "# things we need for NLP\n",
    "import nltk\n",
    "from nltk.stem.lancaster import LancasterStemmer\n",
    "stemmer = LancasterStemmer()\n",
    "\n",
    "# things we need for Tensorflow\n",
    "import numpy as np\n",
    "from tensorflow.keras.models import Sequential\n",
    "from tensorflow.keras.layers import Dense, Activation, Dropout\n",
    "from tensorflow.keras.optimizers import SGD\n",
    "import pandas as pd\n",
    "import pickle\n",
    "import random"
   ]
  },
  {
   "cell_type": "code",
   "execution_count": null,
   "metadata": {},
   "outputs": [],
   "source": []
  },
  {
   "cell_type": "code",
   "execution_count": 6,
   "metadata": {},
   "outputs": [
    {
     "name": "stdout",
     "output_type": "stream",
     "text": [
      "62 documents\n",
      "15 classes ['check_ahu', 'check_all_hvac', 'check_boiler_plant', 'check_chiller_plant', 'check_energy', 'check_future_weather', 'check_how_it_should_all_work', 'check_power', 'check_runtime', 'check_zone_temps', 'goodbye', 'greeting', 'options', 'thanks', 'what_to_do']\n",
      "152 unique stemmed words [\"'s\", ',', 'a', 'ahu', 'air', 'al', 'alarm', 'algorithm', 'an', 'and', 'any', 'anyon', 'ar', 'area', 'at', 'awesom', 'bad', 'be', 'been', 'big', 'boil', 'box', 'build', 'bye', 'cal', 'can', 'cent', 'chat', 'chil', 'cold', 'consum', 'control', 'cool', 'could', 'damp', 'day', 'did', 'discharg', 'do', 'doe', 'doing', 'down', 'driv', 'duc', 'dud', 'econom', 'elect', 'energy', 'equip', 'fan', 'fir', 'for', 'fre', 'freez', 'frequ', 'from', 'front', 'fuel', 'get', 'going', 'good', 'goodby', 'handl', 'has', 'hello', 'help', 'hi', 'hot', 'hour', 'how', 'hvac', 'i', 'ilc', 'in', 'intellig', 'is', 'kw', 'kwh', 'lat', 'leav', 'lik', 'load', 'log', 'look', 'mak', 'many', 'me', 'mix', 'mod', 'morn', 'mov', 'my', 'next', 'nic', 'no', 'occup', 'oh', 'ok', 'on', 'optim', 'or', 'our', 'out', 'plant', 'pow', 'press', 'problem', 'provid', 'reh', 'return', 'rooftop', 'rtu', 'run', 'runtim', 'see', 'setpoint', 'should', 'spac', 'spik', 'start', 'stat', 'steam', 'supply', 'suppos', 'system', 'temp', 'thank', 'that', 'the', 'ther', 'thi', 'til', 'tim', 'to', 'today', 'unit', 'up', 'us', 'vary', 'vav', 'vfd', 'warm', 'wat', 'we', 'weath', 'what', 'who', 'with', 'work', 'wtf', 'you', 'zon']\n"
     ]
    }
   ],
   "source": [
    "# import our chat-bot intents file\n",
    "import json\n",
    "\n",
    "with open('intents.json') as json_data:\n",
    "    intents = json.load(json_data)\n",
    "\n",
    "words = []\n",
    "classes = []\n",
    "documents = []\n",
    "ignore_words = ['?','!']\n",
    "\n",
    "\n",
    "for intent in intents['intents']:\n",
    "    for pattern in intent['patterns']:\n",
    "        # tokenize each word in the sentence\n",
    "        w = nltk.word_tokenize(pattern)\n",
    "        # add to our words list\n",
    "        words.extend(w)\n",
    "        # add to documents in our corpus\n",
    "        documents.append((w, intent['tag']))\n",
    "        # add to our classes list\n",
    "        if intent['tag'] not in classes:\n",
    "            classes.append(intent['tag'])\n",
    "\n",
    "# stem and lower each word and remove duplicates\n",
    "words = [stemmer.stem(w.lower()) for w in words if w not in ignore_words]\n",
    "words = sorted(list(set(words)))\n",
    "\n",
    "# sort classes\n",
    "classes = sorted(list(set(classes)))\n",
    "\n",
    "# documents = combination between patterns and intents\n",
    "print(len(documents), \"documents\")\n",
    "\n",
    "# classes = intents\n",
    "print (len(classes), \"classes\", classes)\n",
    "\n",
    "# words = all words, vocabulary\n",
    "print (len(words), \"unique stemmed words\", words)"
   ]
  },
  {
   "cell_type": "code",
   "execution_count": null,
   "metadata": {},
   "outputs": [],
   "source": []
  },
  {
   "cell_type": "code",
   "execution_count": null,
   "metadata": {},
   "outputs": [],
   "source": []
  },
  {
   "cell_type": "code",
   "execution_count": 3,
   "metadata": {},
   "outputs": [
    {
     "name": "stderr",
     "output_type": "stream",
     "text": [
      "<ipython-input-3-72b6ba6ac079>:30: VisibleDeprecationWarning: Creating an ndarray from ragged nested sequences (which is a list-or-tuple of lists-or-tuples-or ndarrays with different lengths or shapes) is deprecated. If you meant to do this, you must specify 'dtype=object' when creating the ndarray\n",
      "  training = np.array(training)\n"
     ]
    }
   ],
   "source": [
    "# create our training data\n",
    "training = []\n",
    "# create an empty array for our output\n",
    "output_empty = [0] * len(classes)\n",
    "\n",
    "# training set, bag of words for each sentence\n",
    "for doc in documents:\n",
    "    \n",
    "    # initialize our bag of words\n",
    "    bag = []\n",
    "    \n",
    "    # list of tokenized words for the pattern\n",
    "    pattern_words = doc[0]\n",
    "    \n",
    "    # stem each word - create base word, in attempt to represent related words\n",
    "    pattern_words = [stemmer.stem(word.lower()) for word in pattern_words]\n",
    "    \n",
    "    # create our bag of words array with 1, if word match found in current pattern\n",
    "    for w in words:\n",
    "        bag.append(1) if w in pattern_words else bag.append(0)\n",
    "    \n",
    "    # output is a '0' for each tag and '1' for current tag (for each pattern)\n",
    "    output_row = list(output_empty)\n",
    "    output_row[classes.index(doc[1])] = 1\n",
    "    \n",
    "    training.append([bag, output_row])\n",
    "\n",
    "# shuffle our features and turn into np.array\n",
    "random.shuffle(training)\n",
    "training = np.array(training)\n",
    "\n",
    "# create train and test lists. X - patterns, Y - intents\n",
    "train_x = list(training[:,0])\n",
    "train_y = list(training[:,1])"
   ]
  },
  {
   "cell_type": "code",
   "execution_count": 4,
   "metadata": {},
   "outputs": [],
   "source": [
    "# Create model - 3 layers. First layer 128 neurons, second layer 64 neurons and 3rd output layer contains number of neurons\n",
    "# equal to number of intents to predict output intent with softmax\n",
    "modelo = Sequential()\n",
    "modelo.add(Dense(128, input_shape=(len(train_x[0]),), activation='relu'))\n",
    "modelo.add(Dropout(0.5))\n",
    "modelo.add(Dense(64, activation='relu'))\n",
    "modelo.add(Dropout(0.5))\n",
    "modelo.add(Dense(len(train_y[0]), activation='softmax'))"
   ]
  },
  {
   "cell_type": "code",
   "execution_count": 5,
   "metadata": {},
   "outputs": [],
   "source": [
    "# Compile model. Stochastic gradient descent with Nesterov accelerated gradient gives good results for this model\n",
    "sgd = SGD(lr=0.01, decay=1e-6, momentum=0.9, nesterov=True)\n",
    "modelo.compile(loss='categorical_crossentropy', optimizer=sgd, metrics=['accuracy'])"
   ]
  },
  {
   "cell_type": "code",
   "execution_count": 6,
   "metadata": {},
   "outputs": [
    {
     "name": "stdout",
     "output_type": "stream",
     "text": [
      "Epoch 1/200\n",
      "13/13 [==============================] - 1s 1ms/step - loss: 2.7130 - accuracy: 0.1338\n",
      "Epoch 2/200\n",
      "13/13 [==============================] - 0s 916us/step - loss: 2.5846 - accuracy: 0.1199\n",
      "Epoch 3/200\n",
      "13/13 [==============================] - 0s 1ms/step - loss: 2.5540 - accuracy: 0.1312\n",
      "Epoch 4/200\n",
      "13/13 [==============================] - 0s 1ms/step - loss: 2.3822 - accuracy: 0.2966\n",
      "Epoch 5/200\n",
      "13/13 [==============================] - 0s 1ms/step - loss: 2.2859 - accuracy: 0.2921\n",
      "Epoch 6/200\n",
      "13/13 [==============================] - 0s 1ms/step - loss: 2.0712 - accuracy: 0.3400\n",
      "Epoch 7/200\n",
      "13/13 [==============================] - 0s 2ms/step - loss: 2.0551 - accuracy: 0.5109\n",
      "Epoch 8/200\n",
      "13/13 [==============================] - 0s 1ms/step - loss: 1.8429 - accuracy: 0.5303\n",
      "Epoch 9/200\n",
      "13/13 [==============================] - 0s 1ms/step - loss: 1.8452 - accuracy: 0.3635\n",
      "Epoch 10/200\n",
      "13/13 [==============================] - 0s 1ms/step - loss: 1.6897 - accuracy: 0.4335\n",
      "Epoch 11/200\n",
      "13/13 [==============================] - 0s 1ms/step - loss: 1.4514 - accuracy: 0.5249\n",
      "Epoch 12/200\n",
      "13/13 [==============================] - 0s 1ms/step - loss: 1.5366 - accuracy: 0.5608\n",
      "Epoch 13/200\n",
      "13/13 [==============================] - 0s 1ms/step - loss: 1.2265 - accuracy: 0.6724\n",
      "Epoch 14/200\n",
      "13/13 [==============================] - 0s 1ms/step - loss: 1.1337 - accuracy: 0.7040\n",
      "Epoch 15/200\n",
      "13/13 [==============================] - 0s 1ms/step - loss: 1.0285 - accuracy: 0.7017\n",
      "Epoch 16/200\n",
      "13/13 [==============================] - 0s 1ms/step - loss: 1.0299 - accuracy: 0.7594\n",
      "Epoch 17/200\n",
      "13/13 [==============================] - 0s 1ms/step - loss: 0.8309 - accuracy: 0.7797\n",
      "Epoch 18/200\n",
      "13/13 [==============================] - 0s 1ms/step - loss: 0.9760 - accuracy: 0.6728\n",
      "Epoch 19/200\n",
      "13/13 [==============================] - 0s 1ms/step - loss: 0.8069 - accuracy: 0.7561\n",
      "Epoch 20/200\n",
      "13/13 [==============================] - 0s 1ms/step - loss: 1.0558 - accuracy: 0.6877\n",
      "Epoch 21/200\n",
      "13/13 [==============================] - 0s 2ms/step - loss: 0.6592 - accuracy: 0.7853\n",
      "Epoch 22/200\n",
      "13/13 [==============================] - 0s 1ms/step - loss: 0.6255 - accuracy: 0.8528\n",
      "Epoch 23/200\n",
      "13/13 [==============================] - 0s 2ms/step - loss: 0.9255 - accuracy: 0.7225\n",
      "Epoch 24/200\n",
      "13/13 [==============================] - 0s 1ms/step - loss: 0.6359 - accuracy: 0.7628\n",
      "Epoch 25/200\n",
      "13/13 [==============================] - 0s 1ms/step - loss: 0.6322 - accuracy: 0.7818\n",
      "Epoch 26/200\n",
      "13/13 [==============================] - 0s 1ms/step - loss: 0.4186 - accuracy: 0.8876\n",
      "Epoch 27/200\n",
      "13/13 [==============================] - 0s 1ms/step - loss: 0.4979 - accuracy: 0.9144\n",
      "Epoch 28/200\n",
      "13/13 [==============================] - 0s 1ms/step - loss: 0.3842 - accuracy: 0.8979\n",
      "Epoch 29/200\n",
      "13/13 [==============================] - 0s 1ms/step - loss: 0.3861 - accuracy: 0.8955\n",
      "Epoch 30/200\n",
      "13/13 [==============================] - 0s 1ms/step - loss: 0.5352 - accuracy: 0.9120\n",
      "Epoch 31/200\n",
      "13/13 [==============================] - 0s 1ms/step - loss: 0.4606 - accuracy: 0.8869\n",
      "Epoch 32/200\n",
      "13/13 [==============================] - 0s 1ms/step - loss: 0.2935 - accuracy: 0.9355\n",
      "Epoch 33/200\n",
      "13/13 [==============================] - 0s 1ms/step - loss: 0.3806 - accuracy: 0.9293\n",
      "Epoch 34/200\n",
      "13/13 [==============================] - 0s 1ms/step - loss: 0.4329 - accuracy: 0.9174\n",
      "Epoch 35/200\n",
      "13/13 [==============================] - 0s 1ms/step - loss: 0.2449 - accuracy: 0.9463\n",
      "Epoch 36/200\n",
      "13/13 [==============================] - 0s 1ms/step - loss: 0.3014 - accuracy: 0.9339\n",
      "Epoch 37/200\n",
      "13/13 [==============================] - 0s 1ms/step - loss: 0.1226 - accuracy: 0.9904\n",
      "Epoch 38/200\n",
      "13/13 [==============================] - 0s 1ms/step - loss: 0.3826 - accuracy: 0.8865\n",
      "Epoch 39/200\n",
      "13/13 [==============================] - 0s 2ms/step - loss: 0.3728 - accuracy: 0.8171\n",
      "Epoch 40/200\n",
      "13/13 [==============================] - 0s 2ms/step - loss: 0.3497 - accuracy: 0.9265\n",
      "Epoch 41/200\n",
      "13/13 [==============================] - 0s 2ms/step - loss: 0.1429 - accuracy: 0.9874\n",
      "Epoch 42/200\n",
      "13/13 [==============================] - 0s 1ms/step - loss: 0.2783 - accuracy: 0.8627\n",
      "Epoch 43/200\n",
      "13/13 [==============================] - 0s 1ms/step - loss: 0.1736 - accuracy: 0.9764\n",
      "Epoch 44/200\n",
      "13/13 [==============================] - 0s 1ms/step - loss: 0.1363 - accuracy: 0.9590\n",
      "Epoch 45/200\n",
      "13/13 [==============================] - 0s 1ms/step - loss: 0.2186 - accuracy: 0.9210\n",
      "Epoch 46/200\n",
      "13/13 [==============================] - 0s 2ms/step - loss: 0.2841 - accuracy: 0.9334\n",
      "Epoch 47/200\n",
      "13/13 [==============================] - 0s 2ms/step - loss: 0.2205 - accuracy: 0.9718\n",
      "Epoch 48/200\n",
      "13/13 [==============================] - 0s 2ms/step - loss: 0.1448 - accuracy: 0.9856\n",
      "Epoch 49/200\n",
      "13/13 [==============================] - 0s 1ms/step - loss: 0.2499 - accuracy: 0.9190\n",
      "Epoch 50/200\n",
      "13/13 [==============================] - 0s 1ms/step - loss: 0.1604 - accuracy: 0.9842\n",
      "Epoch 51/200\n",
      "13/13 [==============================] - 0s 1ms/step - loss: 0.1268 - accuracy: 0.9656\n",
      "Epoch 52/200\n",
      "13/13 [==============================] - 0s 1ms/step - loss: 0.1226 - accuracy: 0.9767\n",
      "Epoch 53/200\n",
      "13/13 [==============================] - 0s 2ms/step - loss: 0.2026 - accuracy: 0.9138\n",
      "Epoch 54/200\n",
      "13/13 [==============================] - 0s 1ms/step - loss: 0.3335 - accuracy: 0.9017\n",
      "Epoch 55/200\n",
      "13/13 [==============================] - 0s 2ms/step - loss: 0.0554 - accuracy: 0.9904\n",
      "Epoch 56/200\n",
      "13/13 [==============================] - 0s 1ms/step - loss: 0.2747 - accuracy: 0.8979\n",
      "Epoch 57/200\n",
      "13/13 [==============================] - 0s 1ms/step - loss: 0.1799 - accuracy: 0.9310\n",
      "Epoch 58/200\n",
      "13/13 [==============================] - 0s 1ms/step - loss: 0.2343 - accuracy: 0.8969\n",
      "Epoch 59/200\n",
      "13/13 [==============================] - 0s 1ms/step - loss: 0.1383 - accuracy: 0.9691\n",
      "Epoch 60/200\n",
      "13/13 [==============================] - 0s 1ms/step - loss: 0.1596 - accuracy: 0.9539\n",
      "Epoch 61/200\n",
      "13/13 [==============================] - 0s 1ms/step - loss: 0.1198 - accuracy: 0.9700\n",
      "Epoch 62/200\n",
      "13/13 [==============================] - 0s 2ms/step - loss: 0.1389 - accuracy: 0.9952\n",
      "Epoch 63/200\n",
      "13/13 [==============================] - 0s 1ms/step - loss: 0.2278 - accuracy: 0.9441\n",
      "Epoch 64/200\n",
      "13/13 [==============================] - 0s 2ms/step - loss: 0.3165 - accuracy: 0.8738\n",
      "Epoch 65/200\n",
      "13/13 [==============================] - 0s 1ms/step - loss: 0.1241 - accuracy: 0.9761\n",
      "Epoch 66/200\n",
      "13/13 [==============================] - 0s 1ms/step - loss: 0.1125 - accuracy: 1.0000\n",
      "Epoch 67/200\n",
      "13/13 [==============================] - 0s 2ms/step - loss: 0.1122 - accuracy: 0.9965\n",
      "Epoch 68/200\n",
      "13/13 [==============================] - 0s 1ms/step - loss: 0.1647 - accuracy: 0.9904\n",
      "Epoch 69/200\n",
      "13/13 [==============================] - 0s 1ms/step - loss: 0.0397 - accuracy: 0.9861\n",
      "Epoch 70/200\n",
      "13/13 [==============================] - 0s 2ms/step - loss: 0.1644 - accuracy: 0.9598\n",
      "Epoch 71/200\n",
      "13/13 [==============================] - 0s 1ms/step - loss: 0.1259 - accuracy: 0.9796\n",
      "Epoch 72/200\n",
      "13/13 [==============================] - 0s 2ms/step - loss: 0.0813 - accuracy: 0.9825\n",
      "Epoch 73/200\n",
      "13/13 [==============================] - 0s 1ms/step - loss: 0.2805 - accuracy: 0.8799\n",
      "Epoch 74/200\n",
      "13/13 [==============================] - 0s 1ms/step - loss: 0.1417 - accuracy: 0.9482\n",
      "Epoch 75/200\n",
      "13/13 [==============================] - 0s 1ms/step - loss: 0.0578 - accuracy: 1.0000\n",
      "Epoch 76/200\n",
      "13/13 [==============================] - 0s 2ms/step - loss: 0.0964 - accuracy: 0.9841\n",
      "Epoch 77/200\n",
      "13/13 [==============================] - 0s 2ms/step - loss: 0.1055 - accuracy: 0.9713\n",
      "Epoch 78/200\n",
      "13/13 [==============================] - 0s 2ms/step - loss: 0.0891 - accuracy: 0.9844\n",
      "Epoch 79/200\n",
      "13/13 [==============================] - 0s 1ms/step - loss: 0.1458 - accuracy: 0.9573\n",
      "Epoch 80/200\n",
      "13/13 [==============================] - 0s 1ms/step - loss: 0.1854 - accuracy: 0.9210\n",
      "Epoch 81/200\n",
      "13/13 [==============================] - 0s 2ms/step - loss: 0.0714 - accuracy: 0.9884\n",
      "Epoch 82/200\n",
      "13/13 [==============================] - 0s 2ms/step - loss: 0.0616 - accuracy: 0.9922\n",
      "Epoch 83/200\n",
      "13/13 [==============================] - 0s 2ms/step - loss: 0.1073 - accuracy: 0.9329\n",
      "Epoch 84/200\n",
      "13/13 [==============================] - 0s 2ms/step - loss: 0.1737 - accuracy: 0.9281\n",
      "Epoch 85/200\n",
      "13/13 [==============================] - 0s 2ms/step - loss: 0.0818 - accuracy: 0.9965\n",
      "Epoch 86/200\n",
      "13/13 [==============================] - 0s 1ms/step - loss: 0.0972 - accuracy: 1.0000\n",
      "Epoch 87/200\n",
      "13/13 [==============================] - 0s 1ms/step - loss: 0.0549 - accuracy: 0.9938\n",
      "Epoch 88/200\n",
      "13/13 [==============================] - 0s 2ms/step - loss: 0.0989 - accuracy: 0.9965\n",
      "Epoch 89/200\n",
      "13/13 [==============================] - 0s 2ms/step - loss: 0.0908 - accuracy: 0.9581\n",
      "Epoch 90/200\n",
      "13/13 [==============================] - 0s 2ms/step - loss: 0.1683 - accuracy: 0.9025\n",
      "Epoch 91/200\n",
      "13/13 [==============================] - 0s 1ms/step - loss: 0.0738 - accuracy: 1.0000\n",
      "Epoch 92/200\n",
      "13/13 [==============================] - 0s 2ms/step - loss: 0.0719 - accuracy: 0.9860\n",
      "Epoch 93/200\n",
      "13/13 [==============================] - 0s 2ms/step - loss: 0.3753 - accuracy: 0.9329\n",
      "Epoch 94/200\n",
      "13/13 [==============================] - 0s 2ms/step - loss: 0.1279 - accuracy: 0.9584\n",
      "Epoch 95/200\n",
      "13/13 [==============================] - 0s 2ms/step - loss: 0.0976 - accuracy: 0.9796\n",
      "Epoch 96/200\n",
      "13/13 [==============================] - 0s 2ms/step - loss: 0.0326 - accuracy: 1.0000\n",
      "Epoch 97/200\n",
      "13/13 [==============================] - 0s 2ms/step - loss: 0.1010 - accuracy: 0.9796\n",
      "Epoch 98/200\n",
      "13/13 [==============================] - 0s 2ms/step - loss: 0.0468 - accuracy: 1.0000\n",
      "Epoch 99/200\n",
      "13/13 [==============================] - 0s 2ms/step - loss: 0.0471 - accuracy: 1.0000\n",
      "Epoch 100/200\n",
      "13/13 [==============================] - 0s 2ms/step - loss: 0.2574 - accuracy: 0.9233\n",
      "Epoch 101/200\n",
      "13/13 [==============================] - 0s 2ms/step - loss: 0.0440 - accuracy: 1.0000\n",
      "Epoch 102/200\n",
      "13/13 [==============================] - 0s 1ms/step - loss: 0.0586 - accuracy: 0.9938\n",
      "Epoch 103/200\n",
      "13/13 [==============================] - 0s 1ms/step - loss: 0.1579 - accuracy: 0.9412\n",
      "Epoch 104/200\n",
      "13/13 [==============================] - 0s 1ms/step - loss: 0.0514 - accuracy: 0.9887\n",
      "Epoch 105/200\n",
      "13/13 [==============================] - 0s 1ms/step - loss: 0.1548 - accuracy: 0.9399\n",
      "Epoch 106/200\n",
      "13/13 [==============================] - 0s 2ms/step - loss: 0.0744 - accuracy: 0.9812\n",
      "Epoch 107/200\n",
      "13/13 [==============================] - 0s 1ms/step - loss: 0.0970 - accuracy: 0.9904\n",
      "Epoch 108/200\n",
      "13/13 [==============================] - 0s 1ms/step - loss: 0.0373 - accuracy: 0.9965\n",
      "Epoch 109/200\n",
      "13/13 [==============================] - 0s 1ms/step - loss: 0.0893 - accuracy: 0.9632\n",
      "Epoch 110/200\n",
      "13/13 [==============================] - 0s 2ms/step - loss: 0.0675 - accuracy: 0.9796\n",
      "Epoch 111/200\n",
      "13/13 [==============================] - 0s 2ms/step - loss: 0.0649 - accuracy: 0.9743\n",
      "Epoch 112/200\n",
      "13/13 [==============================] - 0s 2ms/step - loss: 0.0343 - accuracy: 1.0000\n",
      "Epoch 113/200\n",
      "13/13 [==============================] - 0s 2ms/step - loss: 0.0717 - accuracy: 0.9748\n",
      "Epoch 114/200\n",
      "13/13 [==============================] - 0s 2ms/step - loss: 0.0186 - accuracy: 1.0000\n",
      "Epoch 115/200\n",
      "13/13 [==============================] - 0s 2ms/step - loss: 0.0654 - accuracy: 0.9904\n",
      "Epoch 116/200\n",
      "13/13 [==============================] - 0s 2ms/step - loss: 0.0777 - accuracy: 0.9831\n",
      "Epoch 117/200\n",
      "13/13 [==============================] - 0s 2ms/step - loss: 0.0570 - accuracy: 0.9965\n",
      "Epoch 118/200\n",
      "13/13 [==============================] - 0s 2ms/step - loss: 0.0683 - accuracy: 0.9796\n",
      "Epoch 119/200\n",
      "13/13 [==============================] - 0s 1ms/step - loss: 0.0393 - accuracy: 1.0000\n",
      "Epoch 120/200\n",
      "13/13 [==============================] - 0s 2ms/step - loss: 0.0874 - accuracy: 0.9929\n",
      "Epoch 121/200\n",
      "13/13 [==============================] - 0s 2ms/step - loss: 0.0228 - accuracy: 1.0000\n",
      "Epoch 122/200\n",
      "13/13 [==============================] - 0s 2ms/step - loss: 0.0678 - accuracy: 1.0000\n",
      "Epoch 123/200\n",
      "13/13 [==============================] - 0s 2ms/step - loss: 0.0819 - accuracy: 0.9796\n",
      "Epoch 124/200\n",
      "13/13 [==============================] - 0s 2ms/step - loss: 0.0389 - accuracy: 0.9952\n",
      "Epoch 125/200\n",
      "13/13 [==============================] - 0s 1ms/step - loss: 0.0520 - accuracy: 0.9904\n",
      "Epoch 126/200\n",
      "13/13 [==============================] - 0s 1ms/step - loss: 0.0668 - accuracy: 0.9808\n",
      "Epoch 127/200\n",
      "13/13 [==============================] - 0s 2ms/step - loss: 0.0358 - accuracy: 0.9952\n",
      "Epoch 128/200\n",
      "13/13 [==============================] - 0s 1ms/step - loss: 0.1103 - accuracy: 0.9676\n",
      "Epoch 129/200\n",
      "13/13 [==============================] - 0s 1ms/step - loss: 0.0759 - accuracy: 0.9884\n",
      "Epoch 130/200\n",
      "13/13 [==============================] - 0s 2ms/step - loss: 0.0781 - accuracy: 0.9782\n",
      "Epoch 131/200\n",
      "13/13 [==============================] - 0s 2ms/step - loss: 0.0815 - accuracy: 0.9753\n",
      "Epoch 132/200\n",
      "13/13 [==============================] - 0s 1ms/step - loss: 0.1415 - accuracy: 0.9545\n",
      "Epoch 133/200\n",
      "13/13 [==============================] - 0s 1ms/step - loss: 0.0500 - accuracy: 1.0000\n",
      "Epoch 134/200\n",
      "13/13 [==============================] - 0s 2ms/step - loss: 0.1136 - accuracy: 0.9560\n",
      "Epoch 135/200\n",
      "13/13 [==============================] - 0s 2ms/step - loss: 0.1083 - accuracy: 0.9573\n",
      "Epoch 136/200\n",
      "13/13 [==============================] - 0s 2ms/step - loss: 0.0403 - accuracy: 0.9922\n",
      "Epoch 137/200\n",
      "13/13 [==============================] - 0s 2ms/step - loss: 0.0818 - accuracy: 1.0000\n",
      "Epoch 138/200\n",
      "13/13 [==============================] - 0s 2ms/step - loss: 0.0527 - accuracy: 0.9903\n",
      "Epoch 139/200\n",
      "13/13 [==============================] - 0s 2ms/step - loss: 0.0426 - accuracy: 0.9884\n",
      "Epoch 140/200\n",
      "13/13 [==============================] - 0s 2ms/step - loss: 0.0574 - accuracy: 0.9676\n",
      "Epoch 141/200\n",
      "13/13 [==============================] - 0s 1ms/step - loss: 0.1187 - accuracy: 0.9700\n",
      "Epoch 142/200\n",
      "13/13 [==============================] - 0s 1ms/step - loss: 0.0266 - accuracy: 1.0000\n",
      "Epoch 143/200\n",
      "13/13 [==============================] - 0s 2ms/step - loss: 0.1024 - accuracy: 0.9663\n",
      "Epoch 144/200\n",
      "13/13 [==============================] - 0s 1ms/step - loss: 0.0042 - accuracy: 1.0000\n",
      "Epoch 145/200\n",
      "13/13 [==============================] - 0s 2ms/step - loss: 0.0811 - accuracy: 1.0000\n",
      "Epoch 146/200\n",
      "13/13 [==============================] - 0s 2ms/step - loss: 0.0888 - accuracy: 0.9884\n",
      "Epoch 147/200\n",
      "13/13 [==============================] - 0s 1ms/step - loss: 0.0578 - accuracy: 0.9922\n",
      "Epoch 148/200\n",
      "13/13 [==============================] - 0s 1ms/step - loss: 0.0318 - accuracy: 0.9887\n",
      "Epoch 149/200\n",
      "13/13 [==============================] - 0s 1ms/step - loss: 0.0305 - accuracy: 0.9922\n",
      "Epoch 150/200\n",
      "13/13 [==============================] - 0s 1ms/step - loss: 0.0644 - accuracy: 1.0000\n",
      "Epoch 151/200\n",
      "13/13 [==============================] - 0s 2ms/step - loss: 0.0789 - accuracy: 0.9579\n",
      "Epoch 152/200\n",
      "13/13 [==============================] - 0s 2ms/step - loss: 0.0747 - accuracy: 1.0000\n",
      "Epoch 153/200\n",
      "13/13 [==============================] - 0s 2ms/step - loss: 0.0451 - accuracy: 0.9938\n",
      "Epoch 154/200\n",
      "13/13 [==============================] - 0s 2ms/step - loss: 0.0251 - accuracy: 1.0000\n",
      "Epoch 155/200\n",
      "13/13 [==============================] - 0s 1ms/step - loss: 0.1415 - accuracy: 0.9534\n",
      "Epoch 156/200\n",
      "13/13 [==============================] - 0s 2ms/step - loss: 0.0469 - accuracy: 1.0000\n",
      "Epoch 157/200\n",
      "13/13 [==============================] - 0s 3ms/step - loss: 0.0191 - accuracy: 1.0000\n",
      "Epoch 158/200\n",
      "13/13 [==============================] - 0s 2ms/step - loss: 0.0203 - accuracy: 1.0000\n",
      "Epoch 159/200\n",
      "13/13 [==============================] - 0s 2ms/step - loss: 0.0600 - accuracy: 0.9591\n",
      "Epoch 160/200\n",
      "13/13 [==============================] - 0s 1ms/step - loss: 0.0249 - accuracy: 0.9965\n",
      "Epoch 161/200\n",
      "13/13 [==============================] - 0s 2ms/step - loss: 0.0223 - accuracy: 0.9965\n",
      "Epoch 162/200\n",
      "13/13 [==============================] - 0s 2ms/step - loss: 0.0377 - accuracy: 1.0000\n",
      "Epoch 163/200\n",
      "13/13 [==============================] - 0s 1ms/step - loss: 0.0542 - accuracy: 0.9831\n",
      "Epoch 164/200\n",
      "13/13 [==============================] - 0s 1ms/step - loss: 0.0223 - accuracy: 1.0000\n",
      "Epoch 165/200\n",
      "13/13 [==============================] - 0s 2ms/step - loss: 0.0452 - accuracy: 0.9686\n",
      "Epoch 166/200\n",
      "13/13 [==============================] - 0s 1ms/step - loss: 0.0428 - accuracy: 0.9922\n",
      "Epoch 167/200\n",
      "13/13 [==============================] - 0s 1ms/step - loss: 0.0633 - accuracy: 0.9655\n",
      "Epoch 168/200\n",
      "13/13 [==============================] - 0s 1ms/step - loss: 0.0316 - accuracy: 1.0000\n",
      "Epoch 169/200\n",
      "13/13 [==============================] - 0s 2ms/step - loss: 0.0321 - accuracy: 1.0000\n",
      "Epoch 170/200\n",
      "13/13 [==============================] - 0s 1ms/step - loss: 0.0538 - accuracy: 0.9713\n",
      "Epoch 171/200\n",
      "13/13 [==============================] - 0s 1ms/step - loss: 0.0406 - accuracy: 0.9796\n",
      "Epoch 172/200\n",
      "13/13 [==============================] - 0s 2ms/step - loss: 0.0141 - accuracy: 1.0000\n",
      "Epoch 173/200\n",
      "13/13 [==============================] - 0s 1ms/step - loss: 0.1521 - accuracy: 0.9860\n",
      "Epoch 174/200\n",
      "13/13 [==============================] - 0s 2ms/step - loss: 0.0412 - accuracy: 0.9938\n",
      "Epoch 175/200\n",
      "13/13 [==============================] - 0s 2ms/step - loss: 0.0384 - accuracy: 0.9904\n",
      "Epoch 176/200\n",
      "13/13 [==============================] - 0s 1ms/step - loss: 0.0693 - accuracy: 0.9748\n",
      "Epoch 177/200\n",
      "13/13 [==============================] - 0s 1ms/step - loss: 0.0170 - accuracy: 1.0000\n",
      "Epoch 178/200\n",
      "13/13 [==============================] - 0s 2ms/step - loss: 0.0174 - accuracy: 1.0000\n",
      "Epoch 179/200\n",
      "13/13 [==============================] - 0s 2ms/step - loss: 0.0137 - accuracy: 1.0000\n",
      "Epoch 180/200\n",
      "13/13 [==============================] - 0s 1ms/step - loss: 0.0353 - accuracy: 0.9952\n",
      "Epoch 181/200\n",
      "13/13 [==============================] - 0s 2ms/step - loss: 0.0085 - accuracy: 1.0000\n",
      "Epoch 182/200\n",
      "13/13 [==============================] - 0s 2ms/step - loss: 0.0626 - accuracy: 0.9922\n",
      "Epoch 183/200\n",
      "13/13 [==============================] - 0s 2ms/step - loss: 0.0633 - accuracy: 0.9808\n",
      "Epoch 184/200\n",
      "13/13 [==============================] - 0s 2ms/step - loss: 0.0115 - accuracy: 1.0000\n",
      "Epoch 185/200\n",
      "13/13 [==============================] - 0s 2ms/step - loss: 0.0074 - accuracy: 1.0000\n",
      "Epoch 186/200\n",
      "13/13 [==============================] - 0s 2ms/step - loss: 0.0916 - accuracy: 0.9700\n",
      "Epoch 187/200\n",
      "13/13 [==============================] - 0s 2ms/step - loss: 0.0134 - accuracy: 1.0000\n",
      "Epoch 188/200\n",
      "13/13 [==============================] - 0s 2ms/step - loss: 0.0642 - accuracy: 0.9676\n",
      "Epoch 189/200\n",
      "13/13 [==============================] - 0s 2ms/step - loss: 0.0097 - accuracy: 1.0000\n",
      "Epoch 190/200\n",
      "13/13 [==============================] - 0s 1ms/step - loss: 0.0226 - accuracy: 1.0000\n",
      "Epoch 191/200\n",
      "13/13 [==============================] - 0s 2ms/step - loss: 0.0311 - accuracy: 1.0000\n",
      "Epoch 192/200\n",
      "13/13 [==============================] - 0s 1ms/step - loss: 0.0110 - accuracy: 1.0000\n",
      "Epoch 193/200\n",
      "13/13 [==============================] - 0s 1ms/step - loss: 0.1272 - accuracy: 0.9608\n",
      "Epoch 194/200\n",
      "13/13 [==============================] - 0s 2ms/step - loss: 0.0332 - accuracy: 1.0000\n",
      "Epoch 195/200\n",
      "13/13 [==============================] - 0s 2ms/step - loss: 0.0428 - accuracy: 0.9733\n",
      "Epoch 196/200\n",
      "13/13 [==============================] - 0s 1ms/step - loss: 0.0196 - accuracy: 0.9965\n",
      "Epoch 197/200\n",
      "13/13 [==============================] - 0s 2ms/step - loss: 0.0169 - accuracy: 1.0000\n",
      "Epoch 198/200\n",
      "13/13 [==============================] - 0s 2ms/step - loss: 0.0056 - accuracy: 1.0000\n",
      "Epoch 199/200\n",
      "13/13 [==============================] - 0s 1ms/step - loss: 0.0121 - accuracy: 1.0000\n",
      "Epoch 200/200\n",
      "13/13 [==============================] - 0s 1ms/step - loss: 0.0681 - accuracy: 0.9771\n"
     ]
    },
    {
     "data": {
      "text/plain": [
       "<tensorflow.python.keras.callbacks.History at 0x1c7df005b80>"
      ]
     },
     "execution_count": 6,
     "metadata": {},
     "output_type": "execute_result"
    }
   ],
   "source": [
    "# Fit the model\n",
    "modelo.fit(np.array(train_x), np.array(train_y), epochs=200, batch_size=5, verbose=1)"
   ]
  },
  {
   "cell_type": "code",
   "execution_count": 7,
   "metadata": {},
   "outputs": [
    {
     "name": "stdout",
     "output_type": "stream",
     "text": [
      "INFO:tensorflow:Assets written to: saved_model/chatbot-brains-model\\assets\n"
     ]
    }
   ],
   "source": [
    "modelo.save('saved_model/chatbot-brains-model')"
   ]
  },
  {
   "cell_type": "code",
   "execution_count": 7,
   "metadata": {},
   "outputs": [],
   "source": [
    "import tensorflow as tf\n",
    "\n",
    "loaded_model = tf.keras.models.load_model('saved_model/chatbot-brains-model')"
   ]
  },
  {
   "cell_type": "code",
   "execution_count": 8,
   "metadata": {},
   "outputs": [],
   "source": [
    "\n",
    "\n",
    "def clean_up_sentence(sentence):\n",
    "    # tokenize the pattern - split words into array\n",
    "    sentence_words = nltk.word_tokenize(sentence)\n",
    "    # stem each word - create short form for word\n",
    "    sentence_words = [stemmer.stem(word.lower()) for word in sentence_words]\n",
    "    return sentence_words\n",
    "\n",
    "\n",
    "# return bag of words array: 0 or 1 for each word in the bag that exists in the sentence\n",
    "def bow(sentence, words, show_details=True):\n",
    "    # tokenize the pattern\n",
    "    sentence_words = clean_up_sentence(sentence)\n",
    "    # bag of words - matrix of N words, vocabulary matrix\n",
    "    bag = [0]*len(words)  \n",
    "    for s in sentence_words:\n",
    "        for i,w in enumerate(words):\n",
    "            if w == s: \n",
    "                # assign 1 if current word is in the vocabulary position\n",
    "                bag[i] = 1\n",
    "                if show_details:\n",
    "                    print (\"found in bag: %s\" % w)\n",
    "    return(np.array(bag))\n",
    "    \n",
    "\n",
    "def classify_local(sentence):\n",
    "    ERROR_THRESHOLD = 0.25\n",
    "    \n",
    "    # generate probabilities from the model\n",
    "    input_data = pd.DataFrame([bow(sentence, words)], dtype=float, index=['input'])\n",
    "    results = loaded_model.predict([input_data])[0]\n",
    "    # filter out predictions below a threshold, and provide intent index\n",
    "    results = [[i,r] for i,r in enumerate(results) if r>ERROR_THRESHOLD]\n",
    "    # sort by strength of probability\n",
    "    results.sort(key=lambda x: x[1], reverse=True)\n",
    "    return_list = []\n",
    "    for r in results:\n",
    "        return_list.append((classes[r[0]], str(r[1])))\n",
    "    # return tuple of intent and probability\n",
    "    \n",
    "    return return_list"
   ]
  },
  {
   "cell_type": "code",
   "execution_count": 9,
   "metadata": {},
   "outputs": [
    {
     "name": "stdout",
     "output_type": "stream",
     "text": [
      "found in bag: hvac\n",
      "found in bag: is\n",
      "found in bag: a\n",
      "found in bag: system\n",
      "found in bag: in\n",
      "found in bag: a\n",
      "found in bag: build\n",
      "found in bag: i\n",
      "[0 0 1 0 0 0 0 0 0 0 0 0 0 0 0 0 0 0 0 0 0 0 1 0 0 0 0 0 0 0 0 0 0 0 0 0 0\n",
      " 0 0 0 0 0 0 0 0 0 0 0 0 0 0 0 0 0 0 0 0 0 0 0 0 0 0 0 0 0 0 0 0 0 1 1 0 1\n",
      " 0 1 0 0 0 0 0 0 0 0 0 0 0 0 0 0 0 0 0 0 0 0 0 0 0 0 0 0 0 0 0 0 0 0 0 0 0\n",
      " 0 0 0 0 0 0 0 0 0 0 0 0 0 1 0 0 0 0 0 0 0 0 0 0 0 0 0 0 0 0 0 0 0 0 0 0 0\n",
      " 0 0 0 0]\n",
      "['check_ahu', 'check_all_hvac', 'check_boiler_plant', 'check_chiller_plant', 'check_energy', 'check_future_weather', 'check_how_it_should_all_work', 'check_power', 'check_runtime', 'check_zone_temps', 'goodbye', 'greeting', 'options', 'thanks', 'what_to_do']\n"
     ]
    }
   ],
   "source": [
    "p = bow(\"HVAC is a mechanical system in a building I think\", words)\n",
    "\n",
    "print(p)\n",
    "print(classes)"
   ]
  },
  {
   "cell_type": "code",
   "execution_count": 10,
   "metadata": {},
   "outputs": [
    {
     "name": "stdout",
     "output_type": "stream",
     "text": [
      "[[3.7224705e-03 9.8246711e-01 8.3865807e-06 2.4179151e-05 5.2356854e-06\n",
      "  9.9426666e-03 7.1380215e-05 3.4981950e-03 1.2194248e-05 1.3288302e-06\n",
      "  6.3486455e-05 8.2605788e-05 1.8847154e-06 5.9693352e-06 9.2883718e-05]]\n"
     ]
    }
   ],
   "source": [
    "inputvar = pd.DataFrame([p], dtype=float, index=['input'])\n",
    "\n",
    "print(loaded_model.predict(inputvar))"
   ]
  },
  {
   "cell_type": "code",
   "execution_count": null,
   "metadata": {},
   "outputs": [],
   "source": []
  },
  {
   "cell_type": "code",
   "execution_count": 11,
   "metadata": {},
   "outputs": [
    {
     "name": "stdout",
     "output_type": "stream",
     "text": [
      "found in bag: hello\n",
      "found in bag: ,\n",
      "found in bag: good\n",
      "found in bag: day\n"
     ]
    },
    {
     "data": {
      "text/plain": [
       "[('greeting', '0.9999951')]"
      ]
     },
     "execution_count": 11,
     "metadata": {},
     "output_type": "execute_result"
    }
   ],
   "source": [
    "classify_local('Hello, good day!')"
   ]
  },
  {
   "cell_type": "code",
   "execution_count": 12,
   "metadata": {},
   "outputs": [
    {
     "name": "stdout",
     "output_type": "stream",
     "text": [
      "found in bag: how\n",
      "found in bag: you\n",
      "found in bag: can\n",
      "found in bag: me\n"
     ]
    },
    {
     "data": {
      "text/plain": [
       "[('options', '0.9999615')]"
      ]
     },
     "execution_count": 12,
     "metadata": {},
     "output_type": "execute_result"
    }
   ],
   "source": [
    "classify_local('How you can assist me?')"
   ]
  },
  {
   "cell_type": "code",
   "execution_count": 13,
   "metadata": {},
   "outputs": [
    {
     "name": "stdout",
     "output_type": "stream",
     "text": [
      "found in bag: what\n",
      "found in bag: is\n",
      "found in bag: my\n",
      "found in bag: system\n",
      "found in bag: doing\n"
     ]
    },
    {
     "data": {
      "text/plain": [
       "[('check_all_hvac', '0.6285704'), ('check_ahu', '0.36847687')]"
      ]
     },
     "execution_count": 13,
     "metadata": {},
     "output_type": "execute_result"
    }
   ],
   "source": [
    "classify_local('what is my mechanical system doing?')"
   ]
  },
  {
   "cell_type": "code",
   "execution_count": 14,
   "metadata": {},
   "outputs": [
    {
     "name": "stdout",
     "output_type": "stream",
     "text": [
      "found in bag: ar\n",
      "found in bag: at\n",
      "found in bag: al\n"
     ]
    },
    {
     "data": {
      "text/plain": [
       "[('greeting', '0.5450222'), ('check_chiller_plant', '0.26023936')]"
      ]
     },
     "execution_count": 14,
     "metadata": {},
     "output_type": "execute_result"
    }
   ],
   "source": [
    "classify_local('are people complaining at all?')"
   ]
  },
  {
   "cell_type": "code",
   "execution_count": 15,
   "metadata": {},
   "outputs": [
    {
     "name": "stdout",
     "output_type": "stream",
     "text": [
      "found in bag: how\n",
      "found in bag: is\n",
      "found in bag: the\n",
      "found in bag: hvac\n",
      "found in bag: run\n"
     ]
    },
    {
     "data": {
      "text/plain": [
       "[('check_all_hvac', '0.99990964')]"
      ]
     },
     "execution_count": 15,
     "metadata": {},
     "output_type": "execute_result"
    }
   ],
   "source": [
    "classify_local('how is the HVAC running?')"
   ]
  },
  {
   "cell_type": "code",
   "execution_count": 16,
   "metadata": {},
   "outputs": [
    {
     "name": "stdout",
     "output_type": "stream",
     "text": [
      "found in bag: has\n",
      "found in bag: the\n",
      "found in bag: pow\n",
      "found in bag: us\n",
      "found in bag: for\n",
      "found in bag: the\n",
      "found in bag: build\n",
      "found in bag: been\n",
      "found in bag: bad\n"
     ]
    },
    {
     "data": {
      "text/plain": [
       "[('check_power', '0.99926144')]"
      ]
     },
     "execution_count": 16,
     "metadata": {},
     "output_type": "execute_result"
    }
   ],
   "source": [
    "classify_local('has the power use for the building been bad?')"
   ]
  },
  {
   "cell_type": "code",
   "execution_count": 17,
   "metadata": {},
   "outputs": [
    {
     "name": "stdout",
     "output_type": "stream",
     "text": [
      "found in bag: ar\n",
      "found in bag: we\n",
      "found in bag: get\n",
      "found in bag: any\n",
      "found in bag: fre\n",
      "found in bag: cool\n",
      "found in bag: or\n",
      "found in bag: us\n",
      "found in bag: cool\n"
     ]
    },
    {
     "data": {
      "text/plain": [
       "[('check_chiller_plant', '0.98735654')]"
      ]
     },
     "execution_count": 17,
     "metadata": {},
     "output_type": "execute_result"
    }
   ],
   "source": [
    "classify_local('are we getting any free cooling or using mechanical cooling?')"
   ]
  },
  {
   "cell_type": "code",
   "execution_count": 18,
   "metadata": {},
   "outputs": [
    {
     "name": "stdout",
     "output_type": "stream",
     "text": [
      "found in bag: is\n",
      "found in bag: the\n",
      "found in bag: fan\n",
      "found in bag: system\n",
      "found in bag: out\n",
      "found in bag: on\n",
      "found in bag: alarm\n"
     ]
    },
    {
     "data": {
      "text/plain": [
       "[('check_ahu', '0.99999976')]"
      ]
     },
     "execution_count": 18,
     "metadata": {},
     "output_type": "execute_result"
    }
   ],
   "source": [
    "classify_local('is the fan systems out on alarm?')"
   ]
  },
  {
   "cell_type": "code",
   "execution_count": 19,
   "metadata": {},
   "outputs": [
    {
     "name": "stdout",
     "output_type": "stream",
     "text": [
      "found in bag: doe\n",
      "found in bag: that\n",
      "found in bag: lik\n",
      "found in bag: work\n"
     ]
    },
    {
     "data": {
      "text/plain": [
       "[('what_to_do', '0.34076178'), ('check_ahu', '0.27212602')]"
      ]
     },
     "execution_count": 19,
     "metadata": {},
     "output_type": "execute_result"
    }
   ],
   "source": [
    "classify_local('does that seem like its working correctly?')"
   ]
  },
  {
   "cell_type": "code",
   "execution_count": 20,
   "metadata": {},
   "outputs": [
    {
     "name": "stdout",
     "output_type": "stream",
     "text": [
      "found in bag: ar\n",
      "found in bag: any\n",
      "found in bag: the\n",
      "found in bag: vav\n",
      "found in bag: box\n",
      "found in bag: mov\n",
      "found in bag: air\n"
     ]
    },
    {
     "data": {
      "text/plain": [
       "[('check_zone_temps', '0.98340446')]"
      ]
     },
     "execution_count": 20,
     "metadata": {},
     "output_type": "execute_result"
    }
   ],
   "source": [
    "classify_local('are any of the vav boxes not moving air?')"
   ]
  },
  {
   "cell_type": "code",
   "execution_count": 21,
   "metadata": {},
   "outputs": [
    {
     "name": "stdout",
     "output_type": "stream",
     "text": [
      "found in bag: what\n",
      "found in bag: ar\n",
      "found in bag: the\n",
      "found in bag: discharg\n",
      "found in bag: temp\n",
      "found in bag: look\n",
      "found in bag: lik\n",
      "found in bag: on\n",
      "found in bag: the\n",
      "found in bag: reh\n",
      "found in bag: vav\n",
      "found in bag: box\n"
     ]
    },
    {
     "data": {
      "text/plain": [
       "[('check_zone_temps', '0.9999263')]"
      ]
     },
     "execution_count": 21,
     "metadata": {},
     "output_type": "execute_result"
    }
   ],
   "source": [
    "classify_local('what are the discharge temps looking like on the reheat vav box coils?')"
   ]
  },
  {
   "cell_type": "code",
   "execution_count": null,
   "metadata": {},
   "outputs": [],
   "source": []
  },
  {
   "cell_type": "code",
   "execution_count": null,
   "metadata": {},
   "outputs": [],
   "source": []
  },
  {
   "cell_type": "code",
   "execution_count": null,
   "metadata": {},
   "outputs": [],
   "source": []
  },
  {
   "cell_type": "code",
   "execution_count": null,
   "metadata": {},
   "outputs": [],
   "source": []
  },
  {
   "cell_type": "code",
   "execution_count": null,
   "metadata": {},
   "outputs": [],
   "source": []
  },
  {
   "cell_type": "code",
   "execution_count": null,
   "metadata": {},
   "outputs": [],
   "source": []
  },
  {
   "cell_type": "code",
   "execution_count": null,
   "metadata": {},
   "outputs": [],
   "source": []
  },
  {
   "cell_type": "code",
   "execution_count": null,
   "metadata": {},
   "outputs": [],
   "source": []
  },
  {
   "cell_type": "code",
   "execution_count": null,
   "metadata": {},
   "outputs": [],
   "source": []
  },
  {
   "cell_type": "code",
   "execution_count": null,
   "metadata": {},
   "outputs": [],
   "source": []
  },
  {
   "cell_type": "code",
   "execution_count": null,
   "metadata": {},
   "outputs": [],
   "source": []
  },
  {
   "cell_type": "code",
   "execution_count": null,
   "metadata": {},
   "outputs": [],
   "source": []
  }
 ],
 "metadata": {
  "kernelspec": {
   "display_name": "Python 3",
   "language": "python",
   "name": "python3"
  },
  "language_info": {
   "codemirror_mode": {
    "name": "ipython",
    "version": 3
   },
   "file_extension": ".py",
   "mimetype": "text/x-python",
   "name": "python",
   "nbconvert_exporter": "python",
   "pygments_lexer": "ipython3",
   "version": "3.8.5"
  }
 },
 "nbformat": 4,
 "nbformat_minor": 4
}
