{
 "cells": [
  {
   "cell_type": "code",
   "execution_count": 1,
   "metadata": {},
   "outputs": [],
   "source": [
    "# things we need for NLP\n",
    "import nltk\n",
    "from nltk.stem.lancaster import LancasterStemmer\n",
    "stemmer = LancasterStemmer()\n",
    "\n",
    "# things we need for Tensorflow\n",
    "import numpy as np\n",
    "from tensorflow.keras.models import Sequential\n",
    "from tensorflow.keras.layers import Dense, Activation, Dropout\n",
    "from tensorflow.keras.optimizers import SGD\n",
    "import pandas as pd\n",
    "import pickle\n",
    "import random"
   ]
  },
  {
   "cell_type": "code",
   "execution_count": 2,
   "metadata": {},
   "outputs": [],
   "source": [
    "# import our chat-bot intents file\n",
    "import json\n",
    "\n",
    "with open('intents.json') as json_data:\n",
    "    intents = json.load(json_data)"
   ]
  },
  {
   "cell_type": "code",
   "execution_count": 3,
   "metadata": {},
   "outputs": [
    {
     "name": "stdout",
     "output_type": "stream",
     "text": [
      "45 documents\n"
     ]
    }
   ],
   "source": [
    "words = []\n",
    "classes = []\n",
    "documents = []\n",
    "ignore_words = ['?']\n",
    "\n",
    "\n",
    "for intent in intents['intents']:\n",
    "    for pattern in intent['patterns']:\n",
    "        # tokenize each word in the sentence\n",
    "        w = nltk.word_tokenize(pattern)\n",
    "        # add to our words list\n",
    "        words.extend(w)\n",
    "        # add to documents in our corpus\n",
    "        documents.append((w, intent['tag']))\n",
    "        # add to our classes list\n",
    "        if intent['tag'] not in classes:\n",
    "            classes.append(intent['tag'])\n",
    "\n",
    "# stem and lower each word and remove duplicates\n",
    "words = [stemmer.stem(w.lower()) for w in words if w not in ignore_words]\n",
    "words = sorted(list(set(words)))\n",
    "\n",
    "# sort classes\n",
    "classes = sorted(list(set(classes)))\n",
    "\n",
    "# documents = combination between patterns and intents\n",
    "print(len(documents), \"documents\")\n"
   ]
  },
  {
   "cell_type": "code",
   "execution_count": 4,
   "metadata": {},
   "outputs": [
    {
     "name": "stdout",
     "output_type": "stream",
     "text": [
      "9 classes ['adverse_drug', 'blood_pressure', 'blood_pressure_search', 'goodbye', 'greeting', 'hospital_search', 'options', 'pharmacy_search', 'thanks']\n"
     ]
    }
   ],
   "source": [
    "# classes = intents\n",
    "print (len(classes), \"classes\", classes)"
   ]
  },
  {
   "cell_type": "code",
   "execution_count": 5,
   "metadata": {},
   "outputs": [
    {
     "name": "stdout",
     "output_type": "stream",
     "text": [
      "82 unique stemmed words [\"'s\", ',', 'a', 'advers', 'al', 'anyon', 'ar', 'awesom', 'be', 'behavy', 'blood', 'by', 'bye', 'can', 'caus', 'chat', 'check', 'could', 'dat', 'day', 'detail', 'do', 'dont', 'drug', 'entry', 'find', 'for', 'giv', 'good', 'goodby', 'hav', 'hello', 'help', 'hi', 'hist', 'hospit', 'how', 'i', 'id', 'is', 'lat', 'list', 'load', 'loc', 'log', 'look', 'lookup', 'man', 'me', 'mod', 'nearby', 'next', 'nic', 'of', 'off', 'op', 'paty', 'pharm', 'press', 'provid', 'react', 'rel', 'result', 'search', 'see', 'show', 'suit', 'support', 'task', 'thank', 'that', 'ther', 'til', 'tim', 'to', 'transf', 'up', 'want', 'what', 'which', 'with', 'you']\n"
     ]
    }
   ],
   "source": [
    "# words = all words, vocabulary\n",
    "print (len(words), \"unique stemmed words\", words)"
   ]
  },
  {
   "cell_type": "code",
   "execution_count": 6,
   "metadata": {},
   "outputs": [
    {
     "name": "stderr",
     "output_type": "stream",
     "text": [
      "<ipython-input-6-72b6ba6ac079>:30: VisibleDeprecationWarning: Creating an ndarray from ragged nested sequences (which is a list-or-tuple of lists-or-tuples-or ndarrays with different lengths or shapes) is deprecated. If you meant to do this, you must specify 'dtype=object' when creating the ndarray\n",
      "  training = np.array(training)\n"
     ]
    }
   ],
   "source": [
    "# create our training data\n",
    "training = []\n",
    "# create an empty array for our output\n",
    "output_empty = [0] * len(classes)\n",
    "\n",
    "# training set, bag of words for each sentence\n",
    "for doc in documents:\n",
    "    \n",
    "    # initialize our bag of words\n",
    "    bag = []\n",
    "    \n",
    "    # list of tokenized words for the pattern\n",
    "    pattern_words = doc[0]\n",
    "    \n",
    "    # stem each word - create base word, in attempt to represent related words\n",
    "    pattern_words = [stemmer.stem(word.lower()) for word in pattern_words]\n",
    "    \n",
    "    # create our bag of words array with 1, if word match found in current pattern\n",
    "    for w in words:\n",
    "        bag.append(1) if w in pattern_words else bag.append(0)\n",
    "    \n",
    "    # output is a '0' for each tag and '1' for current tag (for each pattern)\n",
    "    output_row = list(output_empty)\n",
    "    output_row[classes.index(doc[1])] = 1\n",
    "    \n",
    "    training.append([bag, output_row])\n",
    "\n",
    "# shuffle our features and turn into np.array\n",
    "random.shuffle(training)\n",
    "training = np.array(training)\n",
    "\n",
    "# create train and test lists. X - patterns, Y - intents\n",
    "train_x = list(training[:,0])\n",
    "train_y = list(training[:,1])"
   ]
  },
  {
   "cell_type": "code",
   "execution_count": 7,
   "metadata": {},
   "outputs": [],
   "source": [
    "# Create model - 3 layers. First layer 128 neurons, second layer 64 neurons and 3rd output layer contains number of neurons\n",
    "# equal to number of intents to predict output intent with softmax\n",
    "model = Sequential()\n",
    "model.add(Dense(128, input_shape=(len(train_x[0]),), activation='relu'))\n",
    "model.add(Dropout(0.5))\n",
    "model.add(Dense(64, activation='relu'))\n",
    "model.add(Dropout(0.5))\n",
    "model.add(Dense(len(train_y[0]), activation='softmax'))"
   ]
  },
  {
   "cell_type": "code",
   "execution_count": 8,
   "metadata": {},
   "outputs": [],
   "source": [
    "# Compile model. Stochastic gradient descent with Nesterov accelerated gradient gives good results for this model\n",
    "sgd = SGD(lr=0.01, decay=1e-6, momentum=0.9, nesterov=True)\n",
    "model.compile(loss='categorical_crossentropy', optimizer=sgd, metrics=['accuracy'])"
   ]
  },
  {
   "cell_type": "code",
   "execution_count": 9,
   "metadata": {},
   "outputs": [
    {
     "name": "stdout",
     "output_type": "stream",
     "text": [
      "Epoch 1/200\n",
      "9/9 [==============================] - 1s 1ms/step - loss: 2.2830 - accuracy: 0.2145\n",
      "Epoch 2/200\n",
      "9/9 [==============================] - 0s 2ms/step - loss: 2.2063 - accuracy: 0.1205\n",
      "Epoch 3/200\n",
      "9/9 [==============================] - 0s 1ms/step - loss: 2.0744 - accuracy: 0.2269\n",
      "Epoch 4/200\n",
      "9/9 [==============================] - 0s 2ms/step - loss: 2.1201 - accuracy: 0.2784\n",
      "Epoch 5/200\n",
      "9/9 [==============================] - 0s 2ms/step - loss: 1.9119 - accuracy: 0.4801\n",
      "Epoch 6/200\n",
      "9/9 [==============================] - 0s 2ms/step - loss: 1.8935 - accuracy: 0.3724\n",
      "Epoch 7/200\n",
      "9/9 [==============================] - 0s 2ms/step - loss: 1.6766 - accuracy: 0.4779\n",
      "Epoch 8/200\n",
      "9/9 [==============================] - 0s 2ms/step - loss: 1.6849 - accuracy: 0.5311\n",
      "Epoch 9/200\n",
      "9/9 [==============================] - 0s 2ms/step - loss: 1.5758 - accuracy: 0.5883\n",
      "Epoch 10/200\n",
      "9/9 [==============================] - 0s 2ms/step - loss: 1.3207 - accuracy: 0.6467\n",
      "Epoch 11/200\n",
      "9/9 [==============================] - 0s 1ms/step - loss: 1.4376 - accuracy: 0.5426\n",
      "Epoch 12/200\n",
      "9/9 [==============================] - 0s 2ms/step - loss: 1.1543 - accuracy: 0.6315\n",
      "Epoch 13/200\n",
      "9/9 [==============================] - 0s 2ms/step - loss: 1.0557 - accuracy: 0.6852\n",
      "Epoch 14/200\n",
      "9/9 [==============================] - 0s 2ms/step - loss: 0.8329 - accuracy: 0.7437\n",
      "Epoch 15/200\n",
      "9/9 [==============================] - 0s 2ms/step - loss: 1.0038 - accuracy: 0.6349\n",
      "Epoch 16/200\n",
      "9/9 [==============================] - 0s 1ms/step - loss: 0.8966 - accuracy: 0.7191\n",
      "Epoch 17/200\n",
      "9/9 [==============================] - 0s 2ms/step - loss: 0.6536 - accuracy: 0.7808\n",
      "Epoch 18/200\n",
      "9/9 [==============================] - 0s 2ms/step - loss: 0.6427 - accuracy: 0.8262\n",
      "Epoch 19/200\n",
      "9/9 [==============================] - 0s 1ms/step - loss: 0.6332 - accuracy: 0.8551\n",
      "Epoch 20/200\n",
      "9/9 [==============================] - 0s 2ms/step - loss: 0.6484 - accuracy: 0.7746\n",
      "Epoch 21/200\n",
      "9/9 [==============================] - 0s 2ms/step - loss: 0.5441 - accuracy: 0.9122\n",
      "Epoch 22/200\n",
      "9/9 [==============================] - 0s 2ms/step - loss: 0.4604 - accuracy: 0.8683\n",
      "Epoch 23/200\n",
      "9/9 [==============================] - 0s 2ms/step - loss: 0.5458 - accuracy: 0.8744\n",
      "Epoch 24/200\n",
      "9/9 [==============================] - 0s 2ms/step - loss: 0.5597 - accuracy: 0.8603\n",
      "Epoch 25/200\n",
      "9/9 [==============================] - 0s 2ms/step - loss: 0.3361 - accuracy: 0.9059\n",
      "Epoch 26/200\n",
      "9/9 [==============================] - 0s 2ms/step - loss: 0.2117 - accuracy: 0.9670\n",
      "Epoch 27/200\n",
      "9/9 [==============================] - 0s 2ms/step - loss: 0.3455 - accuracy: 0.9305\n",
      "Epoch 28/200\n",
      "9/9 [==============================] - 0s 2ms/step - loss: 0.3429 - accuracy: 0.9014\n",
      "Epoch 29/200\n",
      "9/9 [==============================] - 0s 2ms/step - loss: 0.4071 - accuracy: 0.8980\n",
      "Epoch 30/200\n",
      "9/9 [==============================] - 0s 2ms/step - loss: 0.3213 - accuracy: 0.8945\n",
      "Epoch 31/200\n",
      "9/9 [==============================] - 0s 2ms/step - loss: 0.2645 - accuracy: 0.9324\n",
      "Epoch 32/200\n",
      "9/9 [==============================] - 0s 2ms/step - loss: 0.4594 - accuracy: 0.8533\n",
      "Epoch 33/200\n",
      "9/9 [==============================] - 0s 2ms/step - loss: 0.2306 - accuracy: 0.9779\n",
      "Epoch 34/200\n",
      "9/9 [==============================] - 0s 2ms/step - loss: 0.3046 - accuracy: 0.9346\n",
      "Epoch 35/200\n",
      "9/9 [==============================] - 0s 2ms/step - loss: 0.2542 - accuracy: 0.9121\n",
      "Epoch 36/200\n",
      "9/9 [==============================] - 0s 2ms/step - loss: 0.3708 - accuracy: 0.9085\n",
      "Epoch 37/200\n",
      "9/9 [==============================] - 0s 2ms/step - loss: 0.1383 - accuracy: 0.9931\n",
      "Epoch 38/200\n",
      "9/9 [==============================] - 0s 2ms/step - loss: 0.2238 - accuracy: 1.0000\n",
      "Epoch 39/200\n",
      "9/9 [==============================] - 0s 2ms/step - loss: 0.2461 - accuracy: 0.9424\n",
      "Epoch 40/200\n",
      "9/9 [==============================] - 0s 2ms/step - loss: 0.1660 - accuracy: 1.0000\n",
      "Epoch 41/200\n",
      "9/9 [==============================] - 0s 2ms/step - loss: 0.3870 - accuracy: 0.8291\n",
      "Epoch 42/200\n",
      "9/9 [==============================] - 0s 2ms/step - loss: 0.1285 - accuracy: 0.9829\n",
      "Epoch 43/200\n",
      "9/9 [==============================] - 0s 2ms/step - loss: 0.1076 - accuracy: 1.0000\n",
      "Epoch 44/200\n",
      "9/9 [==============================] - 0s 1ms/step - loss: 0.2099 - accuracy: 0.8885\n",
      "Epoch 45/200\n",
      "9/9 [==============================] - 0s 1ms/step - loss: 0.1579 - accuracy: 1.0000\n",
      "Epoch 46/200\n",
      "9/9 [==============================] - 0s 2ms/step - loss: 0.1023 - accuracy: 0.9956\n",
      "Epoch 47/200\n",
      "9/9 [==============================] - 0s 2ms/step - loss: 0.1775 - accuracy: 0.9784\n",
      "Epoch 48/200\n",
      "9/9 [==============================] - 0s 2ms/step - loss: 0.1167 - accuracy: 0.9931\n",
      "Epoch 49/200\n",
      "9/9 [==============================] - 0s 2ms/step - loss: 0.1069 - accuracy: 0.9779\n",
      "Epoch 50/200\n",
      "9/9 [==============================] - 0s 2ms/step - loss: 0.0555 - accuracy: 1.0000\n",
      "Epoch 51/200\n",
      "9/9 [==============================] - 0s 2ms/step - loss: 0.1841 - accuracy: 0.9578\n",
      "Epoch 52/200\n",
      "9/9 [==============================] - 0s 2ms/step - loss: 0.0836 - accuracy: 0.9712\n",
      "Epoch 53/200\n",
      "9/9 [==============================] - 0s 2ms/step - loss: 0.1036 - accuracy: 0.9829\n",
      "Epoch 54/200\n",
      "9/9 [==============================] - 0s 2ms/step - loss: 0.0755 - accuracy: 1.0000\n",
      "Epoch 55/200\n",
      "9/9 [==============================] - 0s 2ms/step - loss: 0.0604 - accuracy: 1.0000\n",
      "Epoch 56/200\n",
      "9/9 [==============================] - 0s 2ms/step - loss: 0.0731 - accuracy: 0.9829\n",
      "Epoch 57/200\n",
      "9/9 [==============================] - 0s 2ms/step - loss: 0.1296 - accuracy: 0.9568\n",
      "Epoch 58/200\n",
      "9/9 [==============================] - 0s 2ms/step - loss: 0.0611 - accuracy: 0.9712\n",
      "Epoch 59/200\n",
      "9/9 [==============================] - 0s 2ms/step - loss: 0.0532 - accuracy: 1.0000\n",
      "Epoch 60/200\n",
      "9/9 [==============================] - 0s 2ms/step - loss: 0.0405 - accuracy: 1.0000\n",
      "Epoch 61/200\n",
      "9/9 [==============================] - 0s 2ms/step - loss: 0.1597 - accuracy: 0.9412\n",
      "Epoch 62/200\n",
      "9/9 [==============================] - 0s 2ms/step - loss: 0.0874 - accuracy: 1.0000\n",
      "Epoch 63/200\n",
      "9/9 [==============================] - 0s 2ms/step - loss: 0.0629 - accuracy: 1.0000\n",
      "Epoch 64/200\n",
      "9/9 [==============================] - 0s 2ms/step - loss: 0.0300 - accuracy: 1.0000\n",
      "Epoch 65/200\n",
      "9/9 [==============================] - 0s 2ms/step - loss: 0.0305 - accuracy: 1.0000\n",
      "Epoch 66/200\n",
      "9/9 [==============================] - 0s 2ms/step - loss: 0.1145 - accuracy: 0.9557\n",
      "Epoch 67/200\n",
      "9/9 [==============================] - 0s 2ms/step - loss: 0.0892 - accuracy: 1.0000\n",
      "Epoch 68/200\n",
      "9/9 [==============================] - 0s 2ms/step - loss: 0.0485 - accuracy: 1.0000\n",
      "Epoch 69/200\n",
      "9/9 [==============================] - 0s 2ms/step - loss: 0.0667 - accuracy: 1.0000\n",
      "Epoch 70/200\n",
      "9/9 [==============================] - 0s 2ms/step - loss: 0.0716 - accuracy: 1.0000\n",
      "Epoch 71/200\n",
      "9/9 [==============================] - 0s 2ms/step - loss: 0.0536 - accuracy: 1.0000\n",
      "Epoch 72/200\n",
      "9/9 [==============================] - 0s 2ms/step - loss: 0.0864 - accuracy: 0.9804\n",
      "Epoch 73/200\n",
      "9/9 [==============================] - 0s 2ms/step - loss: 0.0797 - accuracy: 0.9869\n",
      "Epoch 74/200\n",
      "9/9 [==============================] - 0s 2ms/step - loss: 0.0536 - accuracy: 0.9712\n",
      "Epoch 75/200\n",
      "9/9 [==============================] - 0s 2ms/step - loss: 0.1272 - accuracy: 0.9343\n",
      "Epoch 76/200\n",
      "9/9 [==============================] - 0s 2ms/step - loss: 0.0374 - accuracy: 1.0000\n",
      "Epoch 77/200\n",
      "9/9 [==============================] - 0s 2ms/step - loss: 0.0407 - accuracy: 1.0000\n",
      "Epoch 78/200\n",
      "9/9 [==============================] - 0s 2ms/step - loss: 0.0360 - accuracy: 1.0000\n",
      "Epoch 79/200\n",
      "9/9 [==============================] - 0s 2ms/step - loss: 0.0581 - accuracy: 0.9829\n",
      "Epoch 80/200\n",
      "9/9 [==============================] - 0s 2ms/step - loss: 0.0227 - accuracy: 1.0000\n",
      "Epoch 81/200\n",
      "9/9 [==============================] - 0s 2ms/step - loss: 0.1100 - accuracy: 0.9612\n",
      "Epoch 82/200\n",
      "9/9 [==============================] - 0s 2ms/step - loss: 0.0340 - accuracy: 1.0000\n",
      "Epoch 83/200\n",
      "9/9 [==============================] - 0s 2ms/step - loss: 0.0341 - accuracy: 0.9869\n",
      "Epoch 84/200\n",
      "9/9 [==============================] - 0s 1ms/step - loss: 0.1526 - accuracy: 0.9391\n",
      "Epoch 85/200\n",
      "9/9 [==============================] - 0s 2ms/step - loss: 0.0600 - accuracy: 0.9712\n",
      "Epoch 86/200\n",
      "9/9 [==============================] - 0s 2ms/step - loss: 0.0947 - accuracy: 0.9779\n",
      "Epoch 87/200\n",
      "9/9 [==============================] - 0s 2ms/step - loss: 0.0921 - accuracy: 0.9759\n",
      "Epoch 88/200\n",
      "9/9 [==============================] - 0s 2ms/step - loss: 0.0530 - accuracy: 0.9829\n",
      "Epoch 89/200\n",
      "9/9 [==============================] - 0s 1ms/step - loss: 0.0292 - accuracy: 1.0000\n",
      "Epoch 90/200\n",
      "9/9 [==============================] - 0s 1ms/step - loss: 0.0607 - accuracy: 0.9712\n",
      "Epoch 91/200\n",
      "9/9 [==============================] - 0s 2ms/step - loss: 0.0189 - accuracy: 1.0000\n",
      "Epoch 92/200\n",
      "9/9 [==============================] - 0s 2ms/step - loss: 0.0247 - accuracy: 0.9956\n",
      "Epoch 93/200\n",
      "9/9 [==============================] - 0s 2ms/step - loss: 0.0727 - accuracy: 0.9612\n",
      "Epoch 94/200\n",
      "9/9 [==============================] - 0s 2ms/step - loss: 0.0241 - accuracy: 1.0000\n",
      "Epoch 95/200\n",
      "9/9 [==============================] - 0s 1ms/step - loss: 0.0425 - accuracy: 1.0000\n",
      "Epoch 96/200\n",
      "9/9 [==============================] - 0s 2ms/step - loss: 0.0376 - accuracy: 0.9869\n",
      "Epoch 97/200\n",
      "9/9 [==============================] - 0s 2ms/step - loss: 0.0350 - accuracy: 0.9931\n",
      "Epoch 98/200\n",
      "9/9 [==============================] - ETA: 0s - loss: 0.0036 - accuracy: 1.00 - 0s 2ms/step - loss: 0.0138 - accuracy: 0.9931\n",
      "Epoch 99/200\n",
      "9/9 [==============================] - 0s 2ms/step - loss: 0.0198 - accuracy: 1.0000\n",
      "Epoch 100/200\n",
      "9/9 [==============================] - 0s 2ms/step - loss: 0.0533 - accuracy: 0.9737\n",
      "Epoch 101/200\n",
      "9/9 [==============================] - 0s 2ms/step - loss: 0.0565 - accuracy: 0.9779\n",
      "Epoch 102/200\n",
      "9/9 [==============================] - 0s 1ms/step - loss: 0.0138 - accuracy: 1.0000\n",
      "Epoch 103/200\n",
      "9/9 [==============================] - 0s 2ms/step - loss: 0.0657 - accuracy: 0.9829\n",
      "Epoch 104/200\n",
      "9/9 [==============================] - 0s 2ms/step - loss: 0.0592 - accuracy: 1.0000\n",
      "Epoch 105/200\n",
      "9/9 [==============================] - 0s 2ms/step - loss: 0.1249 - accuracy: 0.9612\n",
      "Epoch 106/200\n",
      "9/9 [==============================] - 0s 2ms/step - loss: 0.0488 - accuracy: 0.9829\n",
      "Epoch 107/200\n",
      "9/9 [==============================] - 0s 1ms/step - loss: 0.0445 - accuracy: 1.0000\n",
      "Epoch 108/200\n",
      "9/9 [==============================] - 0s 2ms/step - loss: 0.0479 - accuracy: 1.0000\n",
      "Epoch 109/200\n",
      "9/9 [==============================] - 0s 2ms/step - loss: 0.0133 - accuracy: 1.0000\n",
      "Epoch 110/200\n",
      "9/9 [==============================] - 0s 2ms/step - loss: 0.0180 - accuracy: 1.0000\n",
      "Epoch 111/200\n",
      "9/9 [==============================] - 0s 2ms/step - loss: 0.0087 - accuracy: 1.0000\n",
      "Epoch 112/200\n",
      "9/9 [==============================] - 0s 2ms/step - loss: 0.0132 - accuracy: 1.0000\n",
      "Epoch 113/200\n",
      "9/9 [==============================] - 0s 2ms/step - loss: 0.0276 - accuracy: 1.0000\n",
      "Epoch 114/200\n",
      "9/9 [==============================] - 0s 2ms/step - loss: 0.0794 - accuracy: 1.0000\n",
      "Epoch 115/200\n",
      "9/9 [==============================] - 0s 2ms/step - loss: 0.1328 - accuracy: 0.9581\n",
      "Epoch 116/200\n",
      "9/9 [==============================] - 0s 2ms/step - loss: 0.0984 - accuracy: 0.9543\n",
      "Epoch 117/200\n",
      "9/9 [==============================] - 0s 2ms/step - loss: 0.0764 - accuracy: 0.9902\n",
      "Epoch 118/200\n",
      "9/9 [==============================] - 0s 2ms/step - loss: 0.0315 - accuracy: 1.0000\n",
      "Epoch 119/200\n",
      "9/9 [==============================] - 0s 2ms/step - loss: 0.0672 - accuracy: 0.9557\n",
      "Epoch 120/200\n",
      "9/9 [==============================] - 0s 1ms/step - loss: 0.0151 - accuracy: 1.0000\n",
      "Epoch 121/200\n",
      "9/9 [==============================] - 0s 2ms/step - loss: 0.0608 - accuracy: 0.9902\n",
      "Epoch 122/200\n",
      "9/9 [==============================] - 0s 2ms/step - loss: 0.0514 - accuracy: 1.0000\n",
      "Epoch 123/200\n",
      "9/9 [==============================] - 0s 2ms/step - loss: 0.0114 - accuracy: 1.0000\n",
      "Epoch 124/200\n",
      "9/9 [==============================] - 0s 2ms/step - loss: 0.0386 - accuracy: 1.0000\n",
      "Epoch 125/200\n",
      "9/9 [==============================] - 0s 2ms/step - loss: 0.0485 - accuracy: 0.9712\n",
      "Epoch 126/200\n",
      "9/9 [==============================] - 0s 1ms/step - loss: 0.0263 - accuracy: 1.0000\n",
      "Epoch 127/200\n",
      "9/9 [==============================] - 0s 2ms/step - loss: 0.1399 - accuracy: 0.9441\n",
      "Epoch 128/200\n",
      "9/9 [==============================] - 0s 2ms/step - loss: 0.0211 - accuracy: 1.0000\n",
      "Epoch 129/200\n",
      "9/9 [==============================] - 0s 2ms/step - loss: 0.0349 - accuracy: 1.0000\n",
      "Epoch 130/200\n",
      "9/9 [==============================] - 0s 1ms/step - loss: 0.0378 - accuracy: 1.0000\n",
      "Epoch 131/200\n",
      "9/9 [==============================] - 0s 2ms/step - loss: 0.0425 - accuracy: 0.9869\n",
      "Epoch 132/200\n",
      "9/9 [==============================] - 0s 2ms/step - loss: 0.0278 - accuracy: 1.0000\n",
      "Epoch 133/200\n",
      "9/9 [==============================] - 0s 2ms/step - loss: 0.0110 - accuracy: 1.0000\n",
      "Epoch 134/200\n",
      "9/9 [==============================] - 0s 1ms/step - loss: 0.0508 - accuracy: 0.9779\n",
      "Epoch 135/200\n",
      "9/9 [==============================] - 0s 2ms/step - loss: 0.0840 - accuracy: 1.0000\n",
      "Epoch 136/200\n",
      "9/9 [==============================] - 0s 1ms/step - loss: 0.0515 - accuracy: 1.0000\n",
      "Epoch 137/200\n",
      "9/9 [==============================] - 0s 2ms/step - loss: 0.0097 - accuracy: 1.0000\n",
      "Epoch 138/200\n",
      "9/9 [==============================] - 0s 1ms/step - loss: 0.0119 - accuracy: 1.0000\n",
      "Epoch 139/200\n",
      "9/9 [==============================] - 0s 2ms/step - loss: 0.0681 - accuracy: 0.9712\n",
      "Epoch 140/200\n",
      "9/9 [==============================] - 0s 1ms/step - loss: 0.0368 - accuracy: 0.9829\n",
      "Epoch 141/200\n",
      "9/9 [==============================] - 0s 2ms/step - loss: 0.0095 - accuracy: 1.0000\n",
      "Epoch 142/200\n",
      "9/9 [==============================] - 0s 1ms/step - loss: 0.0502 - accuracy: 1.0000\n",
      "Epoch 143/200\n",
      "9/9 [==============================] - 0s 1ms/step - loss: 0.0057 - accuracy: 1.0000\n",
      "Epoch 144/200\n",
      "9/9 [==============================] - 0s 1ms/step - loss: 0.0132 - accuracy: 1.0000\n",
      "Epoch 145/200\n",
      "9/9 [==============================] - 0s 2ms/step - loss: 0.0061 - accuracy: 1.0000\n",
      "Epoch 146/200\n",
      "9/9 [==============================] - 0s 2ms/step - loss: 0.0110 - accuracy: 1.0000\n",
      "Epoch 147/200\n",
      "9/9 [==============================] - 0s 2ms/step - loss: 0.0067 - accuracy: 1.0000\n",
      "Epoch 148/200\n",
      "9/9 [==============================] - 0s 2ms/step - loss: 0.0082 - accuracy: 1.0000\n",
      "Epoch 149/200\n",
      "9/9 [==============================] - 0s 2ms/step - loss: 0.0686 - accuracy: 1.0000\n",
      "Epoch 150/200\n",
      "9/9 [==============================] - 0s 1ms/step - loss: 0.0247 - accuracy: 1.0000\n",
      "Epoch 151/200\n",
      "9/9 [==============================] - 0s 1ms/step - loss: 0.0146 - accuracy: 1.0000\n",
      "Epoch 152/200\n",
      "9/9 [==============================] - 0s 1ms/step - loss: 0.0298 - accuracy: 1.0000\n",
      "Epoch 153/200\n",
      "9/9 [==============================] - 0s 2ms/step - loss: 0.0257 - accuracy: 1.0000\n",
      "Epoch 154/200\n",
      "9/9 [==============================] - 0s 1ms/step - loss: 0.0114 - accuracy: 1.0000\n",
      "Epoch 155/200\n",
      "9/9 [==============================] - 0s 2ms/step - loss: 0.0126 - accuracy: 1.0000\n",
      "Epoch 156/200\n",
      "9/9 [==============================] - 0s 1ms/step - loss: 0.0036 - accuracy: 1.0000\n",
      "Epoch 157/200\n",
      "9/9 [==============================] - 0s 2ms/step - loss: 0.0186 - accuracy: 1.0000\n",
      "Epoch 158/200\n",
      "9/9 [==============================] - 0s 2ms/step - loss: 0.1119 - accuracy: 0.9779\n",
      "Epoch 159/200\n",
      "9/9 [==============================] - 0s 2ms/step - loss: 0.0305 - accuracy: 0.9869\n",
      "Epoch 160/200\n",
      "9/9 [==============================] - 0s 2ms/step - loss: 0.0062 - accuracy: 1.0000\n",
      "Epoch 161/200\n",
      "9/9 [==============================] - 0s 1ms/step - loss: 0.0091 - accuracy: 1.0000\n",
      "Epoch 162/200\n",
      "9/9 [==============================] - 0s 2ms/step - loss: 0.0305 - accuracy: 0.9902\n",
      "Epoch 163/200\n",
      "9/9 [==============================] - 0s 2ms/step - loss: 0.0126 - accuracy: 1.0000\n",
      "Epoch 164/200\n",
      "9/9 [==============================] - ETA: 0s - loss: 0.0077 - accuracy: 1.00 - 0s 2ms/step - loss: 0.0159 - accuracy: 1.0000\n",
      "Epoch 165/200\n",
      "9/9 [==============================] - 0s 1ms/step - loss: 0.0079 - accuracy: 1.0000\n",
      "Epoch 166/200\n",
      "9/9 [==============================] - 0s 2ms/step - loss: 0.0360 - accuracy: 1.0000\n",
      "Epoch 167/200\n",
      "9/9 [==============================] - 0s 2ms/step - loss: 0.0148 - accuracy: 1.0000\n",
      "Epoch 168/200\n",
      "9/9 [==============================] - 0s 2ms/step - loss: 0.0193 - accuracy: 1.0000\n",
      "Epoch 169/200\n",
      "9/9 [==============================] - 0s 2ms/step - loss: 0.0050 - accuracy: 1.0000\n",
      "Epoch 170/200\n",
      "9/9 [==============================] - 0s 2ms/step - loss: 0.0572 - accuracy: 0.9712\n",
      "Epoch 171/200\n",
      "9/9 [==============================] - 0s 2ms/step - loss: 0.0370 - accuracy: 0.9956\n",
      "Epoch 172/200\n",
      "9/9 [==============================] - 0s 2ms/step - loss: 0.0065 - accuracy: 1.0000\n",
      "Epoch 173/200\n",
      "9/9 [==============================] - 0s 2ms/step - loss: 0.0080 - accuracy: 1.0000\n",
      "Epoch 174/200\n",
      "9/9 [==============================] - 0s 2ms/step - loss: 0.0057 - accuracy: 1.0000\n",
      "Epoch 175/200\n",
      "9/9 [==============================] - 0s 2ms/step - loss: 0.0120 - accuracy: 1.0000\n",
      "Epoch 176/200\n",
      "9/9 [==============================] - 0s 2ms/step - loss: 0.0112 - accuracy: 1.0000\n",
      "Epoch 177/200\n",
      "9/9 [==============================] - 0s 2ms/step - loss: 0.1072 - accuracy: 0.9612\n",
      "Epoch 178/200\n",
      "9/9 [==============================] - 0s 2ms/step - loss: 0.0135 - accuracy: 1.0000\n",
      "Epoch 179/200\n",
      "9/9 [==============================] - 0s 2ms/step - loss: 0.0086 - accuracy: 1.0000\n",
      "Epoch 180/200\n",
      "9/9 [==============================] - 0s 2ms/step - loss: 0.0120 - accuracy: 1.0000\n",
      "Epoch 181/200\n",
      "9/9 [==============================] - ETA: 0s - loss: 0.0214 - accuracy: 1.00 - 0s 2ms/step - loss: 0.0259 - accuracy: 1.0000\n",
      "Epoch 182/200\n",
      "9/9 [==============================] - 0s 2ms/step - loss: 0.0057 - accuracy: 1.0000\n",
      "Epoch 183/200\n",
      "9/9 [==============================] - 0s 2ms/step - loss: 0.0232 - accuracy: 0.9829\n",
      "Epoch 184/200\n",
      "9/9 [==============================] - 0s 2ms/step - loss: 0.0570 - accuracy: 0.9412\n",
      "Epoch 185/200\n",
      "9/9 [==============================] - 0s 1ms/step - loss: 0.0051 - accuracy: 1.0000\n",
      "Epoch 186/200\n",
      "9/9 [==============================] - 0s 2ms/step - loss: 0.0430 - accuracy: 1.0000\n",
      "Epoch 187/200\n",
      "9/9 [==============================] - 0s 2ms/step - loss: 0.0062 - accuracy: 1.0000\n",
      "Epoch 188/200\n",
      "9/9 [==============================] - 0s 2ms/step - loss: 0.0279 - accuracy: 0.9956\n",
      "Epoch 189/200\n",
      "9/9 [==============================] - 0s 1ms/step - loss: 0.0070 - accuracy: 1.0000\n",
      "Epoch 190/200\n",
      "9/9 [==============================] - 0s 2ms/step - loss: 0.0142 - accuracy: 0.9956\n",
      "Epoch 191/200\n",
      "9/9 [==============================] - 0s 2ms/step - loss: 0.0200 - accuracy: 1.0000\n",
      "Epoch 192/200\n",
      "9/9 [==============================] - 0s 1ms/step - loss: 0.0017 - accuracy: 1.0000\n",
      "Epoch 193/200\n",
      "9/9 [==============================] - 0s 2ms/step - loss: 0.0390 - accuracy: 0.9902\n",
      "Epoch 194/200\n",
      "9/9 [==============================] - 0s 2ms/step - loss: 0.0048 - accuracy: 1.0000\n",
      "Epoch 195/200\n",
      "9/9 [==============================] - 0s 2ms/step - loss: 0.0612 - accuracy: 0.9481\n",
      "Epoch 196/200\n",
      "9/9 [==============================] - 0s 1ms/step - loss: 0.0286 - accuracy: 1.0000\n",
      "Epoch 197/200\n",
      "9/9 [==============================] - 0s 2ms/step - loss: 0.0083 - accuracy: 1.0000\n",
      "Epoch 198/200\n",
      "9/9 [==============================] - 0s 1ms/step - loss: 0.0024 - accuracy: 1.0000\n",
      "Epoch 199/200\n",
      "9/9 [==============================] - 0s 1ms/step - loss: 0.0561 - accuracy: 1.0000\n",
      "Epoch 200/200\n",
      "9/9 [==============================] - 0s 2ms/step - loss: 0.0025 - accuracy: 1.0000\n"
     ]
    },
    {
     "data": {
      "text/plain": [
       "<tensorflow.python.keras.callbacks.History at 0x1aa07a1cb80>"
      ]
     },
     "execution_count": 9,
     "metadata": {},
     "output_type": "execute_result"
    }
   ],
   "source": [
    "# Fit the model\n",
    "model.fit(np.array(train_x), np.array(train_y), epochs=200, batch_size=5, verbose=1)"
   ]
  },
  {
   "cell_type": "code",
   "execution_count": 10,
   "metadata": {},
   "outputs": [],
   "source": [
    "def clean_up_sentence(sentence):\n",
    "    # tokenize the pattern - split words into array\n",
    "    sentence_words = nltk.word_tokenize(sentence)\n",
    "    # stem each word - create short form for word\n",
    "    sentence_words = [stemmer.stem(word.lower()) for word in sentence_words]\n",
    "    return sentence_words\n",
    "\n",
    "# return bag of words array: 0 or 1 for each word in the bag that exists in the sentence\n",
    "def bow(sentence, words, show_details=True):\n",
    "    # tokenize the pattern\n",
    "    sentence_words = clean_up_sentence(sentence)\n",
    "    # bag of words - matrix of N words, vocabulary matrix\n",
    "    bag = [0]*len(words)  \n",
    "    for s in sentence_words:\n",
    "        for i,w in enumerate(words):\n",
    "            if w == s: \n",
    "                # assign 1 if current word is in the vocabulary position\n",
    "                bag[i] = 1\n",
    "                if show_details:\n",
    "                    print (\"found in bag: %s\" % w)\n",
    "\n",
    "    return(np.array(bag))"
   ]
  },
  {
   "cell_type": "code",
   "execution_count": 11,
   "metadata": {},
   "outputs": [
    {
     "name": "stdout",
     "output_type": "stream",
     "text": [
      "found in bag: load\n",
      "found in bag: blood\n",
      "found in bag: for\n",
      "found in bag: paty\n",
      "[0 0 0 0 0 0 0 0 0 0 1 0 0 0 0 0 0 0 0 0 0 0 0 0 0 0 1 0 0 0 0 0 0 0 0 0 0\n",
      " 0 0 0 0 0 1 0 0 0 0 0 0 0 0 0 0 0 0 0 1 0 0 0 0 0 0 0 0 0 0 0 0 0 0 0 0 0\n",
      " 0 0 0 0 0 0 0 0]\n",
      "['adverse_drug', 'blood_pressure', 'blood_pressure_search', 'goodbye', 'greeting', 'hospital_search', 'options', 'pharmacy_search', 'thanks']\n"
     ]
    }
   ],
   "source": [
    "p = bow(\"Load blood pessure for patient\", words)\n",
    "\n",
    "print(p)\n",
    "print(classes)"
   ]
  },
  {
   "cell_type": "code",
   "execution_count": 12,
   "metadata": {},
   "outputs": [
    {
     "name": "stdout",
     "output_type": "stream",
     "text": [
      "[[6.8438015e-07 5.1901125e-06 9.9983633e-01 6.1983570e-07 5.2803404e-07\n",
      "  1.5473158e-04 1.6355931e-06 2.6904502e-07 9.5887053e-08]]\n"
     ]
    }
   ],
   "source": [
    "inputvar = pd.DataFrame([p], dtype=float, index=['input'])\n",
    "\n",
    "print(model.predict(inputvar))"
   ]
  },
  {
   "cell_type": "code",
   "execution_count": 13,
   "metadata": {},
   "outputs": [],
   "source": [
    "def classify_local(sentence):\n",
    "    ERROR_THRESHOLD = 0.25\n",
    "    \n",
    "    # generate probabilities from the model\n",
    "    input_data = pd.DataFrame([bow(sentence, words)], dtype=float, index=['input'])\n",
    "    results = model.predict([input_data])[0]\n",
    "    # filter out predictions below a threshold, and provide intent index\n",
    "    results = [[i,r] for i,r in enumerate(results) if r>ERROR_THRESHOLD]\n",
    "    # sort by strength of probability\n",
    "    results.sort(key=lambda x: x[1], reverse=True)\n",
    "    return_list = []\n",
    "    for r in results:\n",
    "        return_list.append((classes[r[0]], str(r[1])))\n",
    "    # return tuple of intent and probability\n",
    "    \n",
    "    return return_list"
   ]
  },
  {
   "cell_type": "code",
   "execution_count": 14,
   "metadata": {},
   "outputs": [
    {
     "name": "stdout",
     "output_type": "stream",
     "text": [
      "found in bag: hello\n",
      "found in bag: ,\n",
      "found in bag: good\n",
      "found in bag: day\n"
     ]
    },
    {
     "data": {
      "text/plain": [
       "[('greeting', '0.99998236')]"
      ]
     },
     "execution_count": 14,
     "metadata": {},
     "output_type": "execute_result"
    }
   ],
   "source": [
    "classify_local('Hello, good day!')"
   ]
  },
  {
   "cell_type": "code",
   "execution_count": 15,
   "metadata": {},
   "outputs": [
    {
     "name": "stdout",
     "output_type": "stream",
     "text": [
      "found in bag: how\n",
      "found in bag: you\n",
      "found in bag: can\n",
      "found in bag: me\n"
     ]
    },
    {
     "data": {
      "text/plain": [
       "[('options', '0.99935716')]"
      ]
     },
     "execution_count": 15,
     "metadata": {},
     "output_type": "execute_result"
    }
   ],
   "source": [
    "classify_local('How you can assist me?')"
   ]
  },
  {
   "cell_type": "code",
   "execution_count": 16,
   "metadata": {},
   "outputs": [
    {
     "name": "stdout",
     "output_type": "stream",
     "text": [
      "found in bag: me\n",
      "found in bag: to\n",
      "found in bag: advers\n"
     ]
    },
    {
     "data": {
      "text/plain": [
       "[('adverse_drug', '0.99767095')]"
      ]
     },
     "execution_count": 16,
     "metadata": {},
     "output_type": "execute_result"
    }
   ],
   "source": [
    "classify_local('Get me to adverse medicine form')"
   ]
  },
  {
   "cell_type": "code",
   "execution_count": 17,
   "metadata": {},
   "outputs": [
    {
     "name": "stdout",
     "output_type": "stream",
     "text": [
      "found in bag: to\n",
      "found in bag: log\n",
      "found in bag: blood\n",
      "found in bag: press\n"
     ]
    },
    {
     "data": {
      "text/plain": [
       "[('blood_pressure', '0.99999046')]"
      ]
     },
     "execution_count": 17,
     "metadata": {},
     "output_type": "execute_result"
    }
   ],
   "source": [
    "classify_local('Place to log blood pressure')"
   ]
  },
  {
   "cell_type": "code",
   "execution_count": 18,
   "metadata": {},
   "outputs": [
    {
     "name": "stdout",
     "output_type": "stream",
     "text": [
      "found in bag: blood\n",
      "found in bag: result\n",
      "found in bag: for\n",
      "found in bag: paty\n"
     ]
    },
    {
     "data": {
      "text/plain": [
       "[('blood_pressure_search', '0.99999213')]"
      ]
     },
     "execution_count": 18,
     "metadata": {},
     "output_type": "execute_result"
    }
   ],
   "source": [
    "classify_local('Fetch blood result for patient')"
   ]
  },
  {
   "cell_type": "code",
   "execution_count": 19,
   "metadata": {},
   "outputs": [
    {
     "name": "stdout",
     "output_type": "stream",
     "text": [
      "found in bag: blood\n",
      "found in bag: press\n",
      "found in bag: hospit\n"
     ]
    },
    {
     "data": {
      "text/plain": [
       "[('blood_pressure', '0.8727928')]"
      ]
     },
     "execution_count": 19,
     "metadata": {},
     "output_type": "execute_result"
    }
   ],
   "source": [
    "classify_local('Blood pressure monitoring in hospital')"
   ]
  },
  {
   "cell_type": "code",
   "execution_count": 20,
   "metadata": {},
   "outputs": [
    {
     "name": "stdout",
     "output_type": "stream",
     "text": [
      "found in bag: look\n",
      "found in bag: for\n",
      "found in bag: hospit\n",
      "found in bag: to\n",
      "found in bag: blood\n",
      "found in bag: press\n"
     ]
    },
    {
     "data": {
      "text/plain": [
       "[('hospital_search', '0.9342201')]"
      ]
     },
     "execution_count": 20,
     "metadata": {},
     "output_type": "execute_result"
    }
   ],
   "source": [
    "classify_local('Look for hospital to monitor blood pressure')"
   ]
  },
  {
   "cell_type": "code",
   "execution_count": 21,
   "metadata": {},
   "outputs": [
    {
     "name": "stdout",
     "output_type": "stream",
     "text": [
      "INFO:tensorflow:Assets written to: saved_model/chatbot-brains-model\\assets\n"
     ]
    }
   ],
   "source": [
    "model.save('saved_model/chatbot-brains-model')"
   ]
  },
  {
   "cell_type": "code",
   "execution_count": null,
   "metadata": {},
   "outputs": [],
   "source": []
  },
  {
   "cell_type": "code",
   "execution_count": null,
   "metadata": {},
   "outputs": [],
   "source": []
  },
  {
   "cell_type": "code",
   "execution_count": null,
   "metadata": {},
   "outputs": [],
   "source": []
  },
  {
   "cell_type": "code",
   "execution_count": null,
   "metadata": {},
   "outputs": [],
   "source": []
  },
  {
   "cell_type": "code",
   "execution_count": null,
   "metadata": {},
   "outputs": [],
   "source": []
  },
  {
   "cell_type": "code",
   "execution_count": null,
   "metadata": {},
   "outputs": [],
   "source": []
  },
  {
   "cell_type": "code",
   "execution_count": null,
   "metadata": {},
   "outputs": [],
   "source": []
  },
  {
   "cell_type": "code",
   "execution_count": null,
   "metadata": {},
   "outputs": [],
   "source": []
  },
  {
   "cell_type": "code",
   "execution_count": null,
   "metadata": {},
   "outputs": [],
   "source": []
  },
  {
   "cell_type": "code",
   "execution_count": null,
   "metadata": {},
   "outputs": [],
   "source": []
  },
  {
   "cell_type": "code",
   "execution_count": null,
   "metadata": {},
   "outputs": [],
   "source": []
  },
  {
   "cell_type": "code",
   "execution_count": null,
   "metadata": {},
   "outputs": [],
   "source": []
  }
 ],
 "metadata": {
  "kernelspec": {
   "display_name": "Python 3",
   "language": "python",
   "name": "python3"
  },
  "language_info": {
   "codemirror_mode": {
    "name": "ipython",
    "version": 3
   },
   "file_extension": ".py",
   "mimetype": "text/x-python",
   "name": "python",
   "nbconvert_exporter": "python",
   "pygments_lexer": "ipython3",
   "version": "3.8.5"
  }
 },
 "nbformat": 4,
 "nbformat_minor": 4
}
