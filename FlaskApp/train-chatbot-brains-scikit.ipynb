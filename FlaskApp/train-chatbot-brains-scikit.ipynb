{
 "cells": [
  {
   "cell_type": "code",
   "execution_count": 31,
   "metadata": {},
   "outputs": [],
   "source": [
    "import nltk\n",
    "from nltk.stem.lancaster import LancasterStemmer\n",
    "stemmer = LancasterStemmer()\n",
    "\n",
    "from sklearn.svm import SVC\n",
    "from sklearn.naive_bayes import GaussianNB\n",
    "from sklearn.neighbors import NearestCentroid\n",
    "from sklearn.linear_model import SGDClassifier\n",
    "from sklearn import tree\n",
    "from sklearn.ensemble import AdaBoostClassifier\n",
    "\n",
    "\n",
    "from operator import itemgetter\n",
    "import pandas as pd\n",
    "import numpy as np\n",
    "import random\n",
    "import json"
   ]
  },
  {
   "cell_type": "code",
   "execution_count": 32,
   "metadata": {},
   "outputs": [],
   "source": [
    "# TRAINING DATA\n",
    "with open('intents.json') as json_data:\n",
    "    intents = json.load(json_data)"
   ]
  },
  {
   "cell_type": "code",
   "execution_count": 33,
   "metadata": {},
   "outputs": [
    {
     "name": "stdout",
     "output_type": "stream",
     "text": [
      "62 documents\n",
      "15 classes ['check_ahu', 'check_all_hvac', 'check_boiler_plant', 'check_chiller_plant', 'check_energy', 'check_future_weather', 'check_how_it_should_all_work', 'check_power', 'check_runtime', 'check_zone_temps', 'goodbye', 'greeting', 'options', 'thanks', 'what_to_do']\n",
      "152 unique stemmed words [\"'s\", ',', 'a', 'ahu', 'air', 'al', 'alarm', 'algorithm', 'an', 'and', 'any', 'anyon', 'ar', 'area', 'at', 'awesom', 'bad', 'be', 'been', 'big', 'boil', 'box', 'build', 'bye', 'cal', 'can', 'cent', 'chat', 'chil', 'cold', 'consum', 'control', 'cool', 'could', 'damp', 'day', 'did', 'discharg', 'do', 'doe', 'doing', 'down', 'driv', 'duc', 'dud', 'econom', 'elect', 'energy', 'equip', 'fan', 'fir', 'for', 'fre', 'freez', 'frequ', 'from', 'front', 'fuel', 'get', 'going', 'good', 'goodby', 'handl', 'has', 'hello', 'help', 'hi', 'hot', 'hour', 'how', 'hvac', 'i', 'ilc', 'in', 'intellig', 'is', 'kw', 'kwh', 'lat', 'leav', 'lik', 'load', 'log', 'look', 'mak', 'many', 'me', 'mix', 'mod', 'morn', 'mov', 'my', 'next', 'nic', 'no', 'occup', 'oh', 'ok', 'on', 'optim', 'or', 'our', 'out', 'plant', 'pow', 'press', 'problem', 'provid', 'reh', 'return', 'rooftop', 'rtu', 'run', 'runtim', 'see', 'setpoint', 'should', 'spac', 'spik', 'start', 'stat', 'steam', 'supply', 'suppos', 'system', 'temp', 'thank', 'that', 'the', 'ther', 'thi', 'til', 'tim', 'to', 'today', 'unit', 'up', 'us', 'vary', 'vav', 'vfd', 'warm', 'wat', 'we', 'weath', 'what', 'who', 'with', 'work', 'wtf', 'you', 'zon']\n"
     ]
    }
   ],
   "source": [
    "words = []\n",
    "classes = []\n",
    "documents = []\n",
    "ignore_words = ['?','!']\n",
    "\n",
    "for intent in intents['intents']:\n",
    "    for pattern in intent['patterns']:\n",
    "        # tokenize each word in the sentence\n",
    "        w = nltk.word_tokenize(pattern)\n",
    "        # add to our words list\n",
    "        words.extend(w)\n",
    "        # add to documents in our corpus\n",
    "        documents.append((w, intent['tag']))\n",
    "        # add to our classes list\n",
    "        if intent['tag'] not in classes:\n",
    "            classes.append(intent['tag'])\n",
    "\n",
    "# stem and lower each word and remove duplicates\n",
    "words = [stemmer.stem(w.lower()) for w in words if w not in ignore_words]\n",
    "words = sorted(list(set(words)))\n",
    "\n",
    "# sort classes\n",
    "classes = sorted(list(set(classes)))\n",
    "\n",
    "# documents = combination between patterns and intents\n",
    "print(len(documents), \"documents\")\n",
    "\n",
    "# classes = intents\n",
    "print (len(classes), \"classes\", classes)\n",
    "\n",
    "# words = all words, vocabulary\n",
    "print (len(words), \"unique stemmed words\", words)"
   ]
  },
  {
   "cell_type": "code",
   "execution_count": 34,
   "metadata": {},
   "outputs": [],
   "source": [
    "# create our training data\n",
    "training = []\n",
    "# create an empty array for our output\n",
    "output_empty = [0] * len(classes)\n",
    "\n",
    "# training set, bag of words for each sentence\n",
    "for doc in documents:\n",
    "    \n",
    "    # initialize our bag of words\n",
    "    bag = []\n",
    "    \n",
    "    # list of tokenized words for the pattern\n",
    "    pattern_words = doc[0]\n",
    "    \n",
    "    # stem each word - create base word, in attempt to represent related words\n",
    "    pattern_words = [stemmer.stem(word.lower()) for word in pattern_words]\n",
    "    \n",
    "    # create our bag of words array with 1, if word match found in current pattern\n",
    "    for w in words:\n",
    "        bag.append(1) if w in pattern_words else bag.append(0)\n",
    "    \n",
    "    # output is a '0' for each tag and '1' for current tag (for each pattern)\n",
    "    output_row = list(output_empty)\n",
    "    output_row[classes.index(doc[1])] = 1\n",
    "    \n",
    "    training.append([bag, output_row])"
   ]
  },
  {
   "cell_type": "code",
   "execution_count": 35,
   "metadata": {},
   "outputs": [
    {
     "name": "stderr",
     "output_type": "stream",
     "text": [
      "<ipython-input-35-175f8a2b5529>:3: VisibleDeprecationWarning: Creating an ndarray from ragged nested sequences (which is a list-or-tuple of lists-or-tuples-or ndarrays with different lengths or shapes) is deprecated. If you meant to do this, you must specify 'dtype=object' when creating the ndarray\n",
      "  training = np.array(training)\n"
     ]
    }
   ],
   "source": [
    "# shuffle our features and turn into np.array\n",
    "random.shuffle(training)\n",
    "training = np.array(training)"
   ]
  },
  {
   "cell_type": "code",
   "execution_count": 36,
   "metadata": {},
   "outputs": [
    {
     "data": {
      "text/plain": [
       "numpy.ndarray"
      ]
     },
     "execution_count": 36,
     "metadata": {},
     "output_type": "execute_result"
    }
   ],
   "source": [
    "type(training)"
   ]
  },
  {
   "cell_type": "code",
   "execution_count": 37,
   "metadata": {},
   "outputs": [
    {
     "data": {
      "text/plain": [
       "(62, 2)"
      ]
     },
     "execution_count": 37,
     "metadata": {},
     "output_type": "execute_result"
    }
   ],
   "source": [
    "training.shape"
   ]
  },
  {
   "cell_type": "code",
   "execution_count": 38,
   "metadata": {},
   "outputs": [
    {
     "data": {
      "text/plain": [
       "[[0, 0, 0, 0, 0, 0, 0, 0, 0, 0, 1, 0, 0, 0, 0],\n",
       " [0, 0, 0, 0, 0, 0, 0, 0, 0, 0, 1, 0, 0, 0, 0],\n",
       " [0, 0, 0, 0, 0, 0, 1, 0, 0, 0, 0, 0, 0, 0, 0],\n",
       " [0, 0, 0, 1, 0, 0, 0, 0, 0, 0, 0, 0, 0, 0, 0],\n",
       " [0, 0, 0, 0, 0, 0, 0, 0, 1, 0, 0, 0, 0, 0, 0],\n",
       " [1, 0, 0, 0, 0, 0, 0, 0, 0, 0, 0, 0, 0, 0, 0],\n",
       " [0, 0, 0, 0, 0, 0, 0, 0, 0, 0, 0, 1, 0, 0, 0],\n",
       " [0, 1, 0, 0, 0, 0, 0, 0, 0, 0, 0, 0, 0, 0, 0],\n",
       " [0, 1, 0, 0, 0, 0, 0, 0, 0, 0, 0, 0, 0, 0, 0],\n",
       " [1, 0, 0, 0, 0, 0, 0, 0, 0, 0, 0, 0, 0, 0, 0],\n",
       " [0, 0, 0, 0, 0, 0, 0, 1, 0, 0, 0, 0, 0, 0, 0],\n",
       " [0, 0, 0, 1, 0, 0, 0, 0, 0, 0, 0, 0, 0, 0, 0],\n",
       " [0, 0, 0, 0, 0, 0, 0, 0, 0, 1, 0, 0, 0, 0, 0],\n",
       " [0, 0, 0, 0, 0, 0, 0, 0, 0, 0, 0, 0, 0, 1, 0],\n",
       " [0, 0, 0, 0, 0, 0, 0, 0, 0, 0, 0, 0, 1, 0, 0],\n",
       " [0, 0, 0, 0, 0, 0, 0, 0, 0, 0, 0, 0, 0, 0, 1],\n",
       " [0, 1, 0, 0, 0, 0, 0, 0, 0, 0, 0, 0, 0, 0, 0],\n",
       " [0, 0, 0, 0, 0, 0, 0, 0, 0, 0, 0, 0, 0, 1, 0],\n",
       " [1, 0, 0, 0, 0, 0, 0, 0, 0, 0, 0, 0, 0, 0, 0],\n",
       " [0, 0, 1, 0, 0, 0, 0, 0, 0, 0, 0, 0, 0, 0, 0],\n",
       " [0, 0, 0, 0, 0, 1, 0, 0, 0, 0, 0, 0, 0, 0, 0],\n",
       " [0, 0, 0, 0, 0, 0, 0, 0, 0, 0, 1, 0, 0, 0, 0],\n",
       " [0, 0, 0, 0, 0, 0, 0, 0, 0, 0, 1, 0, 0, 0, 0],\n",
       " [0, 0, 0, 0, 0, 0, 0, 0, 0, 0, 0, 0, 1, 0, 0],\n",
       " [0, 0, 0, 0, 0, 0, 0, 0, 0, 0, 0, 0, 0, 0, 1],\n",
       " [0, 0, 0, 0, 0, 0, 0, 0, 1, 0, 0, 0, 0, 0, 0],\n",
       " [0, 0, 0, 0, 0, 0, 0, 0, 0, 0, 0, 0, 0, 0, 1],\n",
       " [0, 0, 0, 0, 0, 1, 0, 0, 0, 0, 0, 0, 0, 0, 0],\n",
       " [0, 0, 0, 0, 0, 0, 0, 0, 0, 1, 0, 0, 0, 0, 0],\n",
       " [0, 0, 0, 0, 1, 0, 0, 0, 0, 0, 0, 0, 0, 0, 0],\n",
       " [0, 0, 1, 0, 0, 0, 0, 0, 0, 0, 0, 0, 0, 0, 0],\n",
       " [0, 0, 1, 0, 0, 0, 0, 0, 0, 0, 0, 0, 0, 0, 0],\n",
       " [0, 0, 0, 0, 0, 0, 0, 0, 0, 0, 0, 0, 0, 1, 0],\n",
       " [0, 0, 0, 0, 0, 0, 0, 0, 0, 1, 0, 0, 0, 0, 0],\n",
       " [0, 0, 0, 0, 0, 0, 0, 0, 0, 0, 1, 0, 0, 0, 0],\n",
       " [0, 0, 0, 0, 0, 0, 1, 0, 0, 0, 0, 0, 0, 0, 0],\n",
       " [0, 0, 0, 1, 0, 0, 0, 0, 0, 0, 0, 0, 0, 0, 0],\n",
       " [1, 0, 0, 0, 0, 0, 0, 0, 0, 0, 0, 0, 0, 0, 0],\n",
       " [0, 0, 0, 0, 0, 0, 0, 0, 0, 0, 0, 1, 0, 0, 0],\n",
       " [0, 0, 0, 0, 0, 0, 0, 1, 0, 0, 0, 0, 0, 0, 0],\n",
       " [0, 0, 0, 0, 0, 0, 0, 0, 0, 0, 0, 0, 0, 0, 1],\n",
       " [0, 0, 0, 0, 0, 0, 0, 0, 0, 0, 0, 1, 0, 0, 0],\n",
       " [0, 0, 0, 0, 0, 0, 0, 0, 1, 0, 0, 0, 0, 0, 0],\n",
       " [0, 0, 0, 0, 0, 0, 0, 0, 0, 0, 0, 0, 1, 0, 0],\n",
       " [0, 0, 0, 0, 1, 0, 0, 0, 0, 0, 0, 0, 0, 0, 0],\n",
       " [1, 0, 0, 0, 0, 0, 0, 0, 0, 0, 0, 0, 0, 0, 0],\n",
       " [0, 0, 0, 0, 0, 0, 0, 0, 0, 0, 0, 1, 0, 0, 0],\n",
       " [0, 0, 0, 0, 0, 0, 0, 0, 0, 1, 0, 0, 0, 0, 0],\n",
       " [0, 0, 0, 0, 0, 0, 0, 0, 0, 1, 0, 0, 0, 0, 0],\n",
       " [0, 0, 0, 0, 0, 0, 0, 0, 0, 0, 0, 0, 1, 0, 0],\n",
       " [1, 0, 0, 0, 0, 0, 0, 0, 0, 0, 0, 0, 0, 0, 0],\n",
       " [0, 0, 0, 0, 0, 0, 0, 1, 0, 0, 0, 0, 0, 0, 0],\n",
       " [0, 0, 0, 0, 0, 0, 1, 0, 0, 0, 0, 0, 0, 0, 0],\n",
       " [0, 0, 0, 0, 0, 0, 0, 0, 0, 0, 0, 0, 0, 0, 1],\n",
       " [1, 0, 0, 0, 0, 0, 0, 0, 0, 0, 0, 0, 0, 0, 0],\n",
       " [0, 0, 0, 0, 0, 0, 0, 0, 0, 1, 0, 0, 0, 0, 0],\n",
       " [1, 0, 0, 0, 0, 0, 0, 0, 0, 0, 0, 0, 0, 0, 0],\n",
       " [0, 0, 0, 0, 0, 0, 0, 0, 0, 0, 0, 0, 0, 1, 0],\n",
       " [0, 0, 0, 0, 0, 0, 0, 0, 0, 0, 0, 0, 0, 1, 0],\n",
       " [0, 0, 0, 0, 1, 0, 0, 0, 0, 0, 0, 0, 0, 0, 0],\n",
       " [0, 1, 0, 0, 0, 0, 0, 0, 0, 0, 0, 0, 0, 0, 0],\n",
       " [0, 0, 0, 0, 0, 0, 0, 0, 0, 0, 0, 1, 0, 0, 0]]"
      ]
     },
     "execution_count": 38,
     "metadata": {},
     "output_type": "execute_result"
    }
   ],
   "source": [
    "# create train and test lists. X - patterns, Y - intents\n",
    "train_x = list(training[:,0])\n",
    "train_y = list(training[:,1])\n",
    "\n",
    "train_y"
   ]
  },
  {
   "cell_type": "code",
   "execution_count": 39,
   "metadata": {},
   "outputs": [
    {
     "data": {
      "text/plain": [
       "array([10, 10,  6,  3,  8,  0, 11,  1,  1,  0,  7,  3,  9, 13, 12, 14,  1,\n",
       "       13,  0,  2,  5, 10, 10, 12, 14,  8, 14,  5,  9,  4,  2,  2, 13,  9,\n",
       "       10,  6,  3,  0, 11,  7, 14, 11,  8, 12,  4,  0, 11,  9,  9, 12,  0,\n",
       "        7,  6, 14,  0,  9,  0, 13, 13,  4,  1, 11], dtype=int64)"
      ]
     },
     "execution_count": 39,
     "metadata": {},
     "output_type": "execute_result"
    }
   ],
   "source": [
    "train_y = np.argmax(train_y, axis=1)\n",
    "\n",
    "train_y"
   ]
  },
  {
   "cell_type": "code",
   "execution_count": 130,
   "metadata": {},
   "outputs": [],
   "source": [
    "#model = GaussianNB().fit(train_x, train_y)\n",
    "#model = SVC(probability=True).fit(train_x, train_y)\n",
    "#model = tree.DecisionTreeClassifier().fit(train_x, train_y)\n",
    "model = AdaBoostClassifier().fit(train_x, train_y)"
   ]
  },
  {
   "cell_type": "code",
   "execution_count": 131,
   "metadata": {},
   "outputs": [],
   "source": [
    "def clean_up_sentence(sentence):\n",
    "    # tokenize the pattern - split words into array\n",
    "    sentence_words = nltk.word_tokenize(sentence)\n",
    "    # stem each word - create short form for word\n",
    "    sentence_words = [stemmer.stem(word.lower()) for word in sentence_words]\n",
    "    return sentence_words\n",
    "\n",
    "\n",
    "# return bag of words array: 0 or 1 for each word in the bag that exists in the sentence\n",
    "def bow(sentence, words, show_details=True):\n",
    "    # tokenize the pattern\n",
    "    sentence_words = clean_up_sentence(sentence)\n",
    "    # bag of words - matrix of N words, vocabulary matrix\n",
    "    bag = [0]*len(words)  \n",
    "    for s in sentence_words:\n",
    "        for i,w in enumerate(words):\n",
    "            if w == s: \n",
    "                # assign 1 if current word is in the vocabulary position\n",
    "                bag[i] = 1\n",
    "                if show_details:\n",
    "                    print (\"found in bag: %s\" % w)\n",
    "    return(np.array(bag))\n",
    "    \n",
    "\n",
    "def classify_local(sentence):\n",
    "    \n",
    "    # generate probabilities from the model\n",
    "    input_data = pd.DataFrame([bow(sentence, words)], dtype=float, index=['input']) \n",
    "    results = model.predict_proba(input_data)[0]\n",
    "    \n",
    "    results =  np.round(results,4).tolist()\n",
    "   \n",
    "    probs_and_classes = list(zip(classes, results))\n",
    "    print(probs_and_classes)\n",
    "    \n",
    "    best_result = max(probs_and_classes,key=itemgetter(1))[0]\n",
    "    \n",
    "    # return tuple of intent and probability\n",
    "    return best_result"
   ]
  },
  {
   "cell_type": "code",
   "execution_count": 132,
   "metadata": {},
   "outputs": [
    {
     "name": "stdout",
     "output_type": "stream",
     "text": [
      "found in bag: hvac\n",
      "found in bag: is\n",
      "found in bag: a\n",
      "found in bag: system\n",
      "found in bag: in\n",
      "found in bag: a\n",
      "found in bag: build\n",
      "found in bag: i\n",
      "[0 0 1 0 0 0 0 0 0 0 0 0 0 0 0 0 0 0 0 0 0 0 1 0 0 0 0 0 0 0 0 0 0 0 0 0 0\n",
      " 0 0 0 0 0 0 0 0 0 0 0 0 0 0 0 0 0 0 0 0 0 0 0 0 0 0 0 0 0 0 0 0 0 1 1 0 1\n",
      " 0 1 0 0 0 0 0 0 0 0 0 0 0 0 0 0 0 0 0 0 0 0 0 0 0 0 0 0 0 0 0 0 0 0 0 0 0\n",
      " 0 0 0 0 0 0 0 0 0 0 0 0 0 1 0 0 0 0 0 0 0 0 0 0 0 0 0 0 0 0 0 0 0 0 0 0 0\n",
      " 0 0 0 0]\n",
      "['check_ahu', 'check_all_hvac', 'check_boiler_plant', 'check_chiller_plant', 'check_energy', 'check_future_weather', 'check_how_it_should_all_work', 'check_power', 'check_runtime', 'check_zone_temps', 'goodbye', 'greeting', 'options', 'thanks', 'what_to_do']\n",
      "[[7.65649577e-02 7.70067548e-02 7.65649577e-02 7.65649577e-02\n",
      "  7.65649577e-02 2.80721974e-15 7.68520927e-15 7.65649577e-02\n",
      "  7.65649577e-02 7.76337647e-02 7.73511941e-02 7.73511941e-02\n",
      "  7.65649577e-02 7.73511941e-02 7.73511941e-02]]\n"
     ]
    }
   ],
   "source": [
    "p = bow(\"HVAC is a mechanical system in a building I think\", words)\n",
    "\n",
    "print(p)\n",
    "print(classes)\n",
    "\n",
    "inputvar = pd.DataFrame([p], dtype=float, index=['input'])\n",
    "print(model.predict_proba(inputvar))"
   ]
  },
  {
   "cell_type": "code",
   "execution_count": 133,
   "metadata": {},
   "outputs": [
    {
     "name": "stdout",
     "output_type": "stream",
     "text": [
      "found in bag: hello\n",
      "found in bag: ,\n",
      "found in bag: good\n",
      "found in bag: day\n",
      "[('check_ahu', 0.0766), ('check_all_hvac', 0.077), ('check_boiler_plant', 0.0766), ('check_chiller_plant', 0.0766), ('check_energy', 0.0766), ('check_future_weather', 0.0), ('check_how_it_should_all_work', 0.0), ('check_power', 0.0766), ('check_runtime', 0.0766), ('check_zone_temps', 0.0776), ('goodbye', 0.0774), ('greeting', 0.0774), ('options', 0.0766), ('thanks', 0.0774), ('what_to_do', 0.0774)]\n"
     ]
    },
    {
     "data": {
      "text/plain": [
       "'check_zone_temps'"
      ]
     },
     "execution_count": 133,
     "metadata": {},
     "output_type": "execute_result"
    }
   ],
   "source": [
    "classify_local('Hello, good day!')"
   ]
  },
  {
   "cell_type": "code",
   "execution_count": 134,
   "metadata": {},
   "outputs": [
    {
     "name": "stdout",
     "output_type": "stream",
     "text": [
      "found in bag: how\n",
      "found in bag: you\n",
      "found in bag: can\n",
      "found in bag: me\n",
      "[('check_ahu', 0.0766), ('check_all_hvac', 0.077), ('check_boiler_plant', 0.0766), ('check_chiller_plant', 0.0766), ('check_energy', 0.0766), ('check_future_weather', 0.0), ('check_how_it_should_all_work', 0.0), ('check_power', 0.0766), ('check_runtime', 0.0766), ('check_zone_temps', 0.0776), ('goodbye', 0.0774), ('greeting', 0.0774), ('options', 0.0766), ('thanks', 0.0774), ('what_to_do', 0.0774)]\n"
     ]
    },
    {
     "data": {
      "text/plain": [
       "'check_zone_temps'"
      ]
     },
     "execution_count": 134,
     "metadata": {},
     "output_type": "execute_result"
    }
   ],
   "source": [
    "classify_local('How you can assist me?')"
   ]
  },
  {
   "cell_type": "code",
   "execution_count": 135,
   "metadata": {},
   "outputs": [
    {
     "name": "stdout",
     "output_type": "stream",
     "text": [
      "found in bag: what\n",
      "found in bag: is\n",
      "found in bag: my\n",
      "found in bag: system\n",
      "found in bag: doing\n",
      "[('check_ahu', 0.0766), ('check_all_hvac', 0.077), ('check_boiler_plant', 0.0766), ('check_chiller_plant', 0.0766), ('check_energy', 0.0766), ('check_future_weather', 0.0), ('check_how_it_should_all_work', 0.0), ('check_power', 0.0766), ('check_runtime', 0.0766), ('check_zone_temps', 0.0776), ('goodbye', 0.0774), ('greeting', 0.0774), ('options', 0.0766), ('thanks', 0.0774), ('what_to_do', 0.0774)]\n"
     ]
    },
    {
     "data": {
      "text/plain": [
       "'check_zone_temps'"
      ]
     },
     "execution_count": 135,
     "metadata": {},
     "output_type": "execute_result"
    }
   ],
   "source": [
    "classify_local('what is my mechanical system doing?')"
   ]
  },
  {
   "cell_type": "code",
   "execution_count": 136,
   "metadata": {},
   "outputs": [
    {
     "name": "stdout",
     "output_type": "stream",
     "text": [
      "found in bag: ar\n",
      "found in bag: at\n",
      "found in bag: al\n",
      "[('check_ahu', 0.0766), ('check_all_hvac', 0.077), ('check_boiler_plant', 0.0766), ('check_chiller_plant', 0.0766), ('check_energy', 0.0766), ('check_future_weather', 0.0), ('check_how_it_should_all_work', 0.0), ('check_power', 0.0766), ('check_runtime', 0.0766), ('check_zone_temps', 0.0776), ('goodbye', 0.0774), ('greeting', 0.0774), ('options', 0.0766), ('thanks', 0.0774), ('what_to_do', 0.0774)]\n"
     ]
    },
    {
     "data": {
      "text/plain": [
       "'check_zone_temps'"
      ]
     },
     "execution_count": 136,
     "metadata": {},
     "output_type": "execute_result"
    }
   ],
   "source": [
    "classify_local('are people complaining at all?')"
   ]
  },
  {
   "cell_type": "code",
   "execution_count": 137,
   "metadata": {},
   "outputs": [
    {
     "name": "stdout",
     "output_type": "stream",
     "text": [
      "found in bag: how\n",
      "found in bag: is\n",
      "found in bag: the\n",
      "found in bag: hvac\n",
      "found in bag: run\n",
      "[('check_ahu', 0.0766), ('check_all_hvac', 0.077), ('check_boiler_plant', 0.0766), ('check_chiller_plant', 0.0766), ('check_energy', 0.0766), ('check_future_weather', 0.0), ('check_how_it_should_all_work', 0.0), ('check_power', 0.0766), ('check_runtime', 0.0766), ('check_zone_temps', 0.0776), ('goodbye', 0.0774), ('greeting', 0.0774), ('options', 0.0766), ('thanks', 0.0774), ('what_to_do', 0.0774)]\n"
     ]
    },
    {
     "data": {
      "text/plain": [
       "'check_zone_temps'"
      ]
     },
     "execution_count": 137,
     "metadata": {},
     "output_type": "execute_result"
    }
   ],
   "source": [
    "classify_local('how is the HVAC running?')"
   ]
  },
  {
   "cell_type": "code",
   "execution_count": 138,
   "metadata": {},
   "outputs": [
    {
     "name": "stdout",
     "output_type": "stream",
     "text": [
      "found in bag: has\n",
      "found in bag: the\n",
      "found in bag: pow\n",
      "found in bag: us\n",
      "found in bag: for\n",
      "found in bag: the\n",
      "found in bag: build\n",
      "found in bag: been\n",
      "found in bag: bad\n",
      "[('check_ahu', 0.0766), ('check_all_hvac', 0.077), ('check_boiler_plant', 0.0766), ('check_chiller_plant', 0.0766), ('check_energy', 0.0766), ('check_future_weather', 0.0), ('check_how_it_should_all_work', 0.0), ('check_power', 0.0766), ('check_runtime', 0.0766), ('check_zone_temps', 0.0776), ('goodbye', 0.0774), ('greeting', 0.0774), ('options', 0.0766), ('thanks', 0.0774), ('what_to_do', 0.0774)]\n"
     ]
    },
    {
     "data": {
      "text/plain": [
       "'check_zone_temps'"
      ]
     },
     "execution_count": 138,
     "metadata": {},
     "output_type": "execute_result"
    }
   ],
   "source": [
    "classify_local('has the power use for the building been bad?')"
   ]
  },
  {
   "cell_type": "code",
   "execution_count": 139,
   "metadata": {},
   "outputs": [
    {
     "name": "stdout",
     "output_type": "stream",
     "text": [
      "found in bag: ar\n",
      "found in bag: we\n",
      "found in bag: get\n",
      "found in bag: any\n",
      "found in bag: fre\n",
      "found in bag: cool\n",
      "found in bag: or\n",
      "found in bag: us\n",
      "found in bag: cool\n",
      "[('check_ahu', 0.0766), ('check_all_hvac', 0.077), ('check_boiler_plant', 0.0766), ('check_chiller_plant', 0.0766), ('check_energy', 0.0766), ('check_future_weather', 0.0), ('check_how_it_should_all_work', 0.0), ('check_power', 0.0766), ('check_runtime', 0.0766), ('check_zone_temps', 0.0776), ('goodbye', 0.0774), ('greeting', 0.0774), ('options', 0.0766), ('thanks', 0.0774), ('what_to_do', 0.0774)]\n"
     ]
    },
    {
     "data": {
      "text/plain": [
       "'check_zone_temps'"
      ]
     },
     "execution_count": 139,
     "metadata": {},
     "output_type": "execute_result"
    }
   ],
   "source": [
    "classify_local('are we getting any free cooling or using mechanical cooling?')"
   ]
  },
  {
   "cell_type": "code",
   "execution_count": 140,
   "metadata": {},
   "outputs": [
    {
     "name": "stdout",
     "output_type": "stream",
     "text": [
      "found in bag: doe\n",
      "found in bag: that\n",
      "found in bag: lik\n",
      "found in bag: work\n",
      "[('check_ahu', 0.0766), ('check_all_hvac', 0.077), ('check_boiler_plant', 0.0766), ('check_chiller_plant', 0.0766), ('check_energy', 0.0766), ('check_future_weather', 0.0), ('check_how_it_should_all_work', 0.0), ('check_power', 0.0766), ('check_runtime', 0.0766), ('check_zone_temps', 0.0776), ('goodbye', 0.0774), ('greeting', 0.0774), ('options', 0.0766), ('thanks', 0.0774), ('what_to_do', 0.0774)]\n"
     ]
    },
    {
     "data": {
      "text/plain": [
       "'check_zone_temps'"
      ]
     },
     "execution_count": 140,
     "metadata": {},
     "output_type": "execute_result"
    }
   ],
   "source": [
    "classify_local('does that seem like its working correctly?')"
   ]
  },
  {
   "cell_type": "code",
   "execution_count": 141,
   "metadata": {},
   "outputs": [
    {
     "name": "stdout",
     "output_type": "stream",
     "text": [
      "found in bag: ar\n",
      "found in bag: any\n",
      "found in bag: the\n",
      "found in bag: vav\n",
      "found in bag: box\n",
      "found in bag: mov\n",
      "found in bag: air\n",
      "[('check_ahu', 0.1463), ('check_all_hvac', 0.0712), ('check_boiler_plant', 0.0712), ('check_chiller_plant', 0.0712), ('check_energy', 0.0712), ('check_future_weather', 0.0), ('check_how_it_should_all_work', 0.0), ('check_power', 0.0712), ('check_runtime', 0.0712), ('check_zone_temps', 0.0712), ('goodbye', 0.0712), ('greeting', 0.0712), ('options', 0.0708), ('thanks', 0.0712), ('what_to_do', 0.0712)]\n"
     ]
    },
    {
     "data": {
      "text/plain": [
       "'check_ahu'"
      ]
     },
     "execution_count": 141,
     "metadata": {},
     "output_type": "execute_result"
    }
   ],
   "source": [
    "classify_local('are any of the vav boxes not moving air?')"
   ]
  },
  {
   "cell_type": "code",
   "execution_count": 142,
   "metadata": {},
   "outputs": [
    {
     "name": "stdout",
     "output_type": "stream",
     "text": [
      "found in bag: what\n",
      "found in bag: ar\n",
      "found in bag: the\n",
      "found in bag: discharg\n",
      "found in bag: temp\n",
      "found in bag: look\n",
      "found in bag: lik\n",
      "found in bag: on\n",
      "found in bag: the\n",
      "found in bag: reh\n",
      "found in bag: vav\n",
      "found in bag: box\n",
      "[('check_ahu', 0.0766), ('check_all_hvac', 0.077), ('check_boiler_plant', 0.0766), ('check_chiller_plant', 0.0766), ('check_energy', 0.0766), ('check_future_weather', 0.0), ('check_how_it_should_all_work', 0.0), ('check_power', 0.0766), ('check_runtime', 0.0766), ('check_zone_temps', 0.0776), ('goodbye', 0.0774), ('greeting', 0.0774), ('options', 0.0766), ('thanks', 0.0774), ('what_to_do', 0.0774)]\n"
     ]
    },
    {
     "data": {
      "text/plain": [
       "'check_zone_temps'"
      ]
     },
     "execution_count": 142,
     "metadata": {},
     "output_type": "execute_result"
    }
   ],
   "source": [
    "classify_local('what are the discharge temps looking like on the reheat vav box coils?')"
   ]
  },
  {
   "cell_type": "code",
   "execution_count": 143,
   "metadata": {},
   "outputs": [
    {
     "name": "stdout",
     "output_type": "stream",
     "text": [
      "found in bag: how\n",
      "found in bag: is\n",
      "found in bag: energy\n",
      "found in bag: us\n",
      "found in bag: been\n",
      "found in bag: day\n",
      "[('check_ahu', 0.0766), ('check_all_hvac', 0.077), ('check_boiler_plant', 0.0766), ('check_chiller_plant', 0.0766), ('check_energy', 0.0766), ('check_future_weather', 0.0), ('check_how_it_should_all_work', 0.0), ('check_power', 0.0766), ('check_runtime', 0.0766), ('check_zone_temps', 0.0776), ('goodbye', 0.0774), ('greeting', 0.0774), ('options', 0.0766), ('thanks', 0.0774), ('what_to_do', 0.0774)]\n"
     ]
    },
    {
     "data": {
      "text/plain": [
       "'check_zone_temps'"
      ]
     },
     "execution_count": 143,
     "metadata": {},
     "output_type": "execute_result"
    }
   ],
   "source": [
    "classify_local('How is your energy use been past 10 days?')"
   ]
  },
  {
   "cell_type": "code",
   "execution_count": 144,
   "metadata": {},
   "outputs": [
    {
     "name": "stdout",
     "output_type": "stream",
     "text": [
      "found in bag: energy\n",
      "[('check_ahu', 0.0766), ('check_all_hvac', 0.077), ('check_boiler_plant', 0.0766), ('check_chiller_plant', 0.0766), ('check_energy', 0.0766), ('check_future_weather', 0.0), ('check_how_it_should_all_work', 0.0), ('check_power', 0.0766), ('check_runtime', 0.0766), ('check_zone_temps', 0.0776), ('goodbye', 0.0774), ('greeting', 0.0774), ('options', 0.0766), ('thanks', 0.0774), ('what_to_do', 0.0774)]\n"
     ]
    },
    {
     "data": {
      "text/plain": [
       "'check_zone_temps'"
      ]
     },
     "execution_count": 144,
     "metadata": {},
     "output_type": "execute_result"
    }
   ],
   "source": [
    "classify_local('energy')"
   ]
  },
  {
   "cell_type": "code",
   "execution_count": 145,
   "metadata": {},
   "outputs": [
    {
     "name": "stdout",
     "output_type": "stream",
     "text": [
      "found in bag: pow\n",
      "[('check_ahu', 0.0766), ('check_all_hvac', 0.077), ('check_boiler_plant', 0.0766), ('check_chiller_plant', 0.0766), ('check_energy', 0.0766), ('check_future_weather', 0.0), ('check_how_it_should_all_work', 0.0), ('check_power', 0.0766), ('check_runtime', 0.0766), ('check_zone_temps', 0.0776), ('goodbye', 0.0774), ('greeting', 0.0774), ('options', 0.0766), ('thanks', 0.0774), ('what_to_do', 0.0774)]\n"
     ]
    },
    {
     "data": {
      "text/plain": [
       "'check_zone_temps'"
      ]
     },
     "execution_count": 145,
     "metadata": {},
     "output_type": "execute_result"
    }
   ],
   "source": [
    "classify_local('power')"
   ]
  },
  {
   "cell_type": "code",
   "execution_count": 146,
   "metadata": {},
   "outputs": [
    {
     "name": "stdout",
     "output_type": "stream",
     "text": [
      "found in bag: boil\n",
      "[('check_ahu', 0.0766), ('check_all_hvac', 0.077), ('check_boiler_plant', 0.0766), ('check_chiller_plant', 0.0766), ('check_energy', 0.0766), ('check_future_weather', 0.0), ('check_how_it_should_all_work', 0.0), ('check_power', 0.0766), ('check_runtime', 0.0766), ('check_zone_temps', 0.0776), ('goodbye', 0.0774), ('greeting', 0.0774), ('options', 0.0766), ('thanks', 0.0774), ('what_to_do', 0.0774)]\n"
     ]
    },
    {
     "data": {
      "text/plain": [
       "'check_zone_temps'"
      ]
     },
     "execution_count": 146,
     "metadata": {},
     "output_type": "execute_result"
    }
   ],
   "source": [
    "classify_local('boiler')"
   ]
  },
  {
   "cell_type": "code",
   "execution_count": 147,
   "metadata": {},
   "outputs": [
    {
     "name": "stdout",
     "output_type": "stream",
     "text": [
      "found in bag: chil\n",
      "[('check_ahu', 0.0766), ('check_all_hvac', 0.077), ('check_boiler_plant', 0.0766), ('check_chiller_plant', 0.0766), ('check_energy', 0.0766), ('check_future_weather', 0.0), ('check_how_it_should_all_work', 0.0), ('check_power', 0.0766), ('check_runtime', 0.0766), ('check_zone_temps', 0.0776), ('goodbye', 0.0774), ('greeting', 0.0774), ('options', 0.0766), ('thanks', 0.0774), ('what_to_do', 0.0774)]\n"
     ]
    },
    {
     "data": {
      "text/plain": [
       "'check_zone_temps'"
      ]
     },
     "execution_count": 147,
     "metadata": {},
     "output_type": "execute_result"
    }
   ],
   "source": [
    "classify_local('chiller')"
   ]
  },
  {
   "cell_type": "code",
   "execution_count": 148,
   "metadata": {},
   "outputs": [
    {
     "name": "stdout",
     "output_type": "stream",
     "text": [
      "found in bag: vav\n",
      "found in bag: box\n",
      "[('check_ahu', 0.0766), ('check_all_hvac', 0.077), ('check_boiler_plant', 0.0766), ('check_chiller_plant', 0.0766), ('check_energy', 0.0766), ('check_future_weather', 0.0), ('check_how_it_should_all_work', 0.0), ('check_power', 0.0766), ('check_runtime', 0.0766), ('check_zone_temps', 0.0776), ('goodbye', 0.0774), ('greeting', 0.0774), ('options', 0.0766), ('thanks', 0.0774), ('what_to_do', 0.0774)]\n"
     ]
    },
    {
     "data": {
      "text/plain": [
       "'check_zone_temps'"
      ]
     },
     "execution_count": 148,
     "metadata": {},
     "output_type": "execute_result"
    }
   ],
   "source": [
    "classify_local('vav boxes')"
   ]
  },
  {
   "cell_type": "code",
   "execution_count": 149,
   "metadata": {},
   "outputs": [
    {
     "name": "stdout",
     "output_type": "stream",
     "text": [
      "found in bag: zon\n",
      "found in bag: temp\n",
      "[('check_ahu', 0.0766), ('check_all_hvac', 0.077), ('check_boiler_plant', 0.0766), ('check_chiller_plant', 0.0766), ('check_energy', 0.0766), ('check_future_weather', 0.0), ('check_how_it_should_all_work', 0.0), ('check_power', 0.0766), ('check_runtime', 0.0766), ('check_zone_temps', 0.0776), ('goodbye', 0.0774), ('greeting', 0.0774), ('options', 0.0766), ('thanks', 0.0774), ('what_to_do', 0.0774)]\n"
     ]
    },
    {
     "data": {
      "text/plain": [
       "'check_zone_temps'"
      ]
     },
     "execution_count": 149,
     "metadata": {},
     "output_type": "execute_result"
    }
   ],
   "source": [
    "classify_local('zone temps')"
   ]
  },
  {
   "cell_type": "code",
   "execution_count": null,
   "metadata": {},
   "outputs": [],
   "source": []
  },
  {
   "cell_type": "code",
   "execution_count": null,
   "metadata": {},
   "outputs": [],
   "source": []
  },
  {
   "cell_type": "code",
   "execution_count": null,
   "metadata": {},
   "outputs": [],
   "source": []
  },
  {
   "cell_type": "code",
   "execution_count": null,
   "metadata": {},
   "outputs": [],
   "source": []
  },
  {
   "cell_type": "code",
   "execution_count": null,
   "metadata": {},
   "outputs": [],
   "source": []
  }
 ],
 "metadata": {
  "kernelspec": {
   "display_name": "Python 3",
   "language": "python",
   "name": "python3"
  },
  "language_info": {
   "codemirror_mode": {
    "name": "ipython",
    "version": 3
   },
   "file_extension": ".py",
   "mimetype": "text/x-python",
   "name": "python",
   "nbconvert_exporter": "python",
   "pygments_lexer": "ipython3",
   "version": "3.8.5"
  }
 },
 "nbformat": 4,
 "nbformat_minor": 4
}
