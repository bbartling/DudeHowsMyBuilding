{
 "cells": [
  {
   "cell_type": "code",
   "execution_count": 3,
   "metadata": {},
   "outputs": [],
   "source": [
    "import json\n",
    "\n",
    "# TRAINING DATA\n",
    "with open('hvac_babble.json') as json_data:\n",
    "    hvac_world = json.load(json_data)"
   ]
  },
  {
   "cell_type": "code",
   "execution_count": 4,
   "metadata": {},
   "outputs": [
    {
     "data": {
      "text/plain": [
       "{'greeting': {'question': ['Hi there',\n",
       "   'How are you',\n",
       "   'Is anyone there?',\n",
       "   'Hello',\n",
       "   'Good day'],\n",
       "  'answer': ['Hello, thanks for asking',\n",
       "   'Good to see you again',\n",
       "   'Hi there, how can I help?']},\n",
       " 'goodbye': {'question': ['Bye',\n",
       "   'See you later',\n",
       "   'Goodbye',\n",
       "   'Nice chatting to you, bye',\n",
       "   'Till next time'],\n",
       "  'answer': ['See you!', 'Have a nice day', 'Bye! Come back again soon.']},\n",
       " 'thanks': {'question': ['Thanks',\n",
       "   'Thank you',\n",
       "   \"That's helpful\",\n",
       "   'Awesome, thanks',\n",
       "   'Thanks for helping me'],\n",
       "  'answer': ['Happy to help!', 'Any time!', 'My pleasure']},\n",
       " 'noanswer': {'question': [],\n",
       "  'answer': [\"Sorry, can't understand you\",\n",
       "   'Please give me more info',\n",
       "   'Not sure I understand']},\n",
       " 'options': {'question': ['How you could help me?',\n",
       "   'What you can do?',\n",
       "   'What help you provide?',\n",
       "   'How you can be helpful?'],\n",
       "  'answer': ['I can help to check and see if the building temperature control system is OK, like zone temps, AHUs, central plant, power, or energy use',\n",
       "   'What sort of system in your building do you want to check?']},\n",
       " 'check_all_hvac': {'question': ['Dude hows my building?',\n",
       "   'Dude how is the HVAC running?',\n",
       "   'What is the HVAC doing?',\n",
       "   'Are there any problems with the HVAC?'],\n",
       "  'answer': ['Checking to see how the HVAC is operating...']},\n",
       " 'what_to_do': {'question': ['who should I call?',\n",
       "   'what should I do?',\n",
       "   'wtf',\n",
       "   'oh no',\n",
       "   'thats bad!'],\n",
       "  'answer': ['I think we should get a hold of someone at the building or a local mechanical contractor']},\n",
       " 'check_ahu': {'question': ['how does the air handling unit AHU look?',\n",
       "   'how does the rooftop unit RTU look?',\n",
       "   'is the AHU RTU air handling unit down out on an alarm like freeze or fire alarm?',\n",
       "   'What are the mix air dampers doing on the RTU AHU?',\n",
       "   'Is the RTU AHU using free economizer cooling?',\n",
       "   'What is the mix mixing air return discharge air temperatures temps on the AHU?',\n",
       "   'is the AHU fans moving air controlling to a duct static pressure setpoint from modulating VFD variable frequency drive for the supply and return fan?',\n",
       "   'are the fan system running?'],\n",
       "  'answer': ['Checking to see how the air handlers are looking...']},\n",
       " 'check_zone_temps': {'question': ['how are the zone temperatures?',\n",
       "   'are VAV box discharge leaving temps OK?',\n",
       "   'are VAV box reheats looking OK?',\n",
       "   'are the VAV boxes OK?',\n",
       "   'are the zones OK?',\n",
       "   'are occupants space areas at zone temperature setpoints?'],\n",
       "  'answer': ['Checking to see how the zones and vav boxes are doing...']},\n",
       " 'check_chiller_plant': {'question': ['hows the chiller central plant looking?',\n",
       "   'are we cooling the building at all?',\n",
       "   'are we getting chilled water?'],\n",
       "  'answer': ['Checking central plant for cooling verification...']},\n",
       " 'check_boiler_plant': {'question': ['hows the boilers looking?',\n",
       "   'are we making steam hot water?',\n",
       "   'how has the boiler system temps been looking today?'],\n",
       "  'answer': ['Checking central plant for cooling verification...']},\n",
       " 'check_runtime': {'question': ['what has been the equipment runtime today?',\n",
       "   'Did the optimal start logic work at all this morning?',\n",
       "   'How many hours did the AHU equipment run today?'],\n",
       "  'answer': ['Calculating todays equipment runtime on the air side equipment...']},\n",
       " 'check_power': {'question': ['How has the building power been looking today?',\n",
       "   'are there big spikes in the electricity kW?',\n",
       "   'Has the intelligent load control algorithm ILC been working OK?'],\n",
       "  'answer': ['Verifying that the power patterns for the building seem in check...']},\n",
       " 'check_energy': {'question': ['How has our fuel use been looking?',\n",
       "   'Has our fuel use been going up or down?',\n",
       "   'Has the electricity consumption in energy kWh good or bad?'],\n",
       "  'answer': ['Verifying that the energy consumption is in check...']},\n",
       " 'check_future_weather': {'question': ['Is the weather supposed to get cold or warmer?',\n",
       "   'what should I do with the HVAC with the weather cold warm front moving in?'],\n",
       "  'answer': ['Checking weather forecast...']},\n",
       " 'check_how_it_should_all_work': {'question': ['what should the HVAC be doing?',\n",
       "   'how should the AHU central plant be running?',\n",
       "   'How should equipment be running in this weather?'],\n",
       "  'answer': ['Checking current conditions outside and mechanical run data to recommend what I think the HVAC should be doing...']}}"
      ]
     },
     "execution_count": 4,
     "metadata": {},
     "output_type": "execute_result"
    }
   ],
   "source": [
    "hvac_world"
   ]
  },
  {
   "cell_type": "code",
   "execution_count": 5,
   "metadata": {},
   "outputs": [],
   "source": [
    "just_checking = hvac_world.get('check_how_it_should_all_work', None)"
   ]
  },
  {
   "cell_type": "code",
   "execution_count": 6,
   "metadata": {},
   "outputs": [
    {
     "data": {
      "text/plain": [
       "{'question': ['what should the HVAC be doing?',\n",
       "  'how should the AHU central plant be running?',\n",
       "  'How should equipment be running in this weather?'],\n",
       " 'answer': ['Checking current conditions outside and mechanical run data to recommend what I think the HVAC should be doing...']}"
      ]
     },
     "execution_count": 6,
     "metadata": {},
     "output_type": "execute_result"
    }
   ],
   "source": [
    "just_checking"
   ]
  },
  {
   "cell_type": "code",
   "execution_count": 7,
   "metadata": {},
   "outputs": [
    {
     "data": {
      "text/plain": [
       "['Checking current conditions outside and mechanical run data to recommend what I think the HVAC should be doing...']"
      ]
     },
     "execution_count": 7,
     "metadata": {},
     "output_type": "execute_result"
    }
   ],
   "source": [
    "just_checking['answer']"
   ]
  }
 ],
 "metadata": {
  "kernelspec": {
   "display_name": "Python 3",
   "language": "python",
   "name": "python3"
  },
  "language_info": {
   "codemirror_mode": {
    "name": "ipython",
    "version": 3
   },
   "file_extension": ".py",
   "mimetype": "text/x-python",
   "name": "python",
   "nbconvert_exporter": "python",
   "pygments_lexer": "ipython3",
   "version": "3.8.5"
  }
 },
 "nbformat": 4,
 "nbformat_minor": 4
}
