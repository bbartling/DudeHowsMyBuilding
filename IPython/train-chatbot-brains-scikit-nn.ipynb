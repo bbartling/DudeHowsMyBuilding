{
 "cells": [
  {
   "cell_type": "code",
   "execution_count": 1,
   "metadata": {},
   "outputs": [],
   "source": [
    "import nltk\n",
    "from nltk.stem.lancaster import LancasterStemmer\n",
    "stemmer = LancasterStemmer()\n",
    "\n",
    "from sklearn.neural_network import MLPClassifier\n",
    "import pickle\n",
    "\n",
    "from operator import itemgetter\n",
    "import pandas as pd\n",
    "import numpy as np\n",
    "import random\n",
    "import json"
   ]
  },
  {
   "cell_type": "code",
   "execution_count": 2,
   "metadata": {},
   "outputs": [],
   "source": [
    "# TRAINING DATA\n",
    "with open('hvac_babble.json') as json_data:\n",
    "    hvac_world = json.load(json_data)"
   ]
  },
  {
   "cell_type": "code",
   "execution_count": 3,
   "metadata": {},
   "outputs": [],
   "source": [
    "words = []\n",
    "classes = []\n",
    "answers = []\n",
    "documents = []\n",
    "ignore_words = ['?','!','{','|','}','~','£','¥', '©', '«','´','·','»', '¿','á','ç','é','ï','ø','ı', 'ıs', 'ליפול', '؟', '–','‘', '’', '“', '”', '…', '☺', '♣','♥', '「」', '加油喔', '釋股','___________']"
   ]
  },
  {
   "cell_type": "code",
   "execution_count": 4,
   "metadata": {},
   "outputs": [],
   "source": [
    "#for (category, q_a) in hvac_world.items():\n",
    "   #print(\"Category: \" + category)\n",
    "   #print(\"Q & A: \" + str(q_a))\n",
    "    #print(q_a['question'])\n",
    "    #print(q_a['answer'][0])"
   ]
  },
  {
   "cell_type": "code",
   "execution_count": 5,
   "metadata": {},
   "outputs": [],
   "source": [
    "for (category, q_a) in hvac_world.items():\n",
    "    # tokenize each word in the sentence\n",
    "    w = nltk.word_tokenize(q_a['answer'][0])\n",
    "    # add to our words list\n",
    "    words.extend(w)\n",
    "    # add to documents in our corpus\n",
    "    documents.append((w, category))\n",
    "    # add to our classes list\n",
    "    if category not in classes:\n",
    "        classes.append(category)"
   ]
  },
  {
   "cell_type": "code",
   "execution_count": 6,
   "metadata": {},
   "outputs": [
    {
     "name": "stdout",
     "output_type": "stream",
     "text": [
      "16 documents\n",
      "16 classes ['check_ahu', 'check_all_hvac', 'check_boiler_plant', 'check_chiller_plant', 'check_energy', 'check_future_weather', 'check_how_it_should_all_work', 'check_power', 'check_runtime', 'check_zone_temps', 'goodbye', 'greeting', 'noanswer', 'options', 'thanks', 'what_to_do']\n",
      "81 unique stemmed words [',', '...', 'a', 'ah', 'air', 'and', 'ar', 'ask', 'at', 'be', 'box', 'build', 'ca', 'calc', 'can', 'cent', 'check', 'condit', 'consum', 'contract', 'control', 'cool', 'cur', 'dat', 'doing', 'energy', 'equip', 'for', 'forecast', 'get', 'handl', 'happy', 'hello', 'help', 'hold', 'how', 'hvac', 'i', 'if', 'in', 'is', 'lik', 'loc', 'look', 'mech', \"n't\", 'of', 'ok', 'on', 'op', 'or', 'outsid', 'pattern', 'plant', 'pow', 'recommend', 'run', 'runtim', 'see', 'seem', 'should', 'sid', 'someon', 'sorry', 'system', 'temp', 'thank', 'that', 'the', 'think', 'to', 'today', 'understand', 'us', 'vav', 'ver', 'we', 'weath', 'what', 'you', 'zon']\n"
     ]
    }
   ],
   "source": [
    "# stem and lower each word and remove duplicates\n",
    "words = [stemmer.stem(w.lower()) for w in words if w not in ignore_words]\n",
    "words = sorted(list(set(words)))\n",
    "\n",
    "# sort classes\n",
    "classes = sorted(list(set(classes)))\n",
    "\n",
    "# documents = combination between patterns and intents\n",
    "print(len(documents), \"documents\")\n",
    "\n",
    "# classes = intents\n",
    "print(len(classes), \"classes\", classes)\n",
    "\n",
    "# words = all words, vocabulary\n",
    "print(len(words), \"unique stemmed words\", words)"
   ]
  },
  {
   "cell_type": "code",
   "execution_count": 7,
   "metadata": {},
   "outputs": [],
   "source": [
    "# create our training data\n",
    "training = []\n",
    "# create an empty array for our output\n",
    "output_empty = [0] * len(classes)\n",
    "\n",
    "# training set, bag of words for each sentence\n",
    "for doc in documents:\n",
    "    \n",
    "    # initialize our bag of words\n",
    "    bag = []\n",
    "    \n",
    "    # list of tokenized words for the pattern\n",
    "    pattern_words = doc[0]\n",
    "    \n",
    "    # stem each word - create base word, in attempt to represent related words\n",
    "    pattern_words = [stemmer.stem(word.lower()) for word in pattern_words]\n",
    "    \n",
    "    # create our bag of words array with 1, if word match found in current pattern\n",
    "    for w in words:\n",
    "        bag.append(1) if w in pattern_words else bag.append(0)\n",
    "    \n",
    "    # output is a '0' for each tag and '1' for current tag (for each pattern)\n",
    "    output_row = list(output_empty)\n",
    "    output_row[classes.index(doc[1])] = 1\n",
    "    \n",
    "    training.append([bag, output_row])\n"
   ]
  },
  {
   "cell_type": "code",
   "execution_count": 8,
   "metadata": {},
   "outputs": [
    {
     "name": "stderr",
     "output_type": "stream",
     "text": [
      "<ipython-input-8-cef9dfb4f31a>:3: VisibleDeprecationWarning: Creating an ndarray from ragged nested sequences (which is a list-or-tuple of lists-or-tuples-or ndarrays with different lengths or shapes) is deprecated. If you meant to do this, you must specify 'dtype=object' when creating the ndarray\n",
      "  training = np.array(training)\n"
     ]
    }
   ],
   "source": [
    "# shuffle our features and turn into np.array\n",
    "#random.shuffle(training)\n",
    "training = np.array(training)"
   ]
  },
  {
   "cell_type": "code",
   "execution_count": 9,
   "metadata": {},
   "outputs": [
    {
     "data": {
      "text/plain": [
       "numpy.ndarray"
      ]
     },
     "execution_count": 9,
     "metadata": {},
     "output_type": "execute_result"
    }
   ],
   "source": [
    "type(training)"
   ]
  },
  {
   "cell_type": "code",
   "execution_count": 10,
   "metadata": {},
   "outputs": [
    {
     "data": {
      "text/plain": [
       "(16, 2)"
      ]
     },
     "execution_count": 10,
     "metadata": {},
     "output_type": "execute_result"
    }
   ],
   "source": [
    "training.shape"
   ]
  },
  {
   "cell_type": "code",
   "execution_count": 11,
   "metadata": {},
   "outputs": [],
   "source": [
    "# create train and test lists. X - patterns, Y - intents\n",
    "train_x = list(training[:,0])\n",
    "train_y = list(training[:,1])\n",
    "\n",
    "#train_y"
   ]
  },
  {
   "cell_type": "code",
   "execution_count": 12,
   "metadata": {},
   "outputs": [],
   "source": [
    "model = MLPClassifier(learning_rate_init=0.0001,max_iter=9000,shuffle=True).fit(train_x, train_y)"
   ]
  },
  {
   "cell_type": "code",
   "execution_count": 13,
   "metadata": {},
   "outputs": [],
   "source": [
    "def clean_up_sentence(sentence):\n",
    "    # tokenize the pattern - split words into array\n",
    "    sentence_words = nltk.word_tokenize(sentence)\n",
    "    # stem each word - create short form for word\n",
    "    sentence_words = [stemmer.stem(word.lower()) for word in sentence_words]\n",
    "    return sentence_words\n",
    "\n",
    "\n",
    "# return bag of words array: 0 or 1 for each word in the bag that exists in the sentence\n",
    "def bow(sentence, words, show_details=True):\n",
    "    # tokenize the pattern\n",
    "    sentence_words = clean_up_sentence(sentence)\n",
    "    # bag of words - matrix of N words, vocabulary matrix\n",
    "    bag = [0]*len(words)  \n",
    "    for s in sentence_words:\n",
    "        for i,w in enumerate(words):\n",
    "            if w == s: \n",
    "                # assign 1 if current word is in the vocabulary position\n",
    "                bag[i] = 1\n",
    "                if show_details:\n",
    "                    print (\"found in bag: %s\" % w)\n",
    "    return(np.array(bag))\n",
    "    \n",
    "\n",
    "def classify_local(sentence):\n",
    "    \n",
    "    # generate probabilities from the model\n",
    "    input_data = pd.DataFrame([bow(sentence, words)], dtype=float, index=['input']) \n",
    "    results = model.predict_proba(input_data)[0]\n",
    "    \n",
    "    results =  np.round(results,4).tolist()\n",
    "   \n",
    "    probs_and_classes = list(zip(classes,results))\n",
    "    print(probs_and_classes)\n",
    "    \n",
    "    best_result = max(probs_and_classes,key=itemgetter(1))[0]\n",
    "    \n",
    "    # return tuple of intent and probability\n",
    "    return best_result"
   ]
  },
  {
   "cell_type": "code",
   "execution_count": 14,
   "metadata": {},
   "outputs": [
    {
     "name": "stdout",
     "output_type": "stream",
     "text": [
      "found in bag: hvac\n",
      "found in bag: is\n",
      "found in bag: a\n",
      "found in bag: mech\n",
      "found in bag: system\n",
      "found in bag: in\n",
      "found in bag: a\n",
      "found in bag: build\n",
      "found in bag: i\n",
      "found in bag: think\n",
      "[0 0 1 0 0 0 0 0 0 0 0 1 0 0 0 0 0 0 0 0 0 0 0 0 0 0 0 0 0 0 0 0 0 0 0 0 1\n",
      " 1 0 1 1 0 0 0 1 0 0 0 0 0 0 0 0 0 0 0 0 0 0 0 0 0 0 0 1 0 0 0 0 1 0 0 0 0\n",
      " 0 0 0 0 0 0 0]\n",
      "['check_ahu', 'check_all_hvac', 'check_boiler_plant', 'check_chiller_plant', 'check_energy', 'check_future_weather', 'check_how_it_should_all_work', 'check_power', 'check_runtime', 'check_zone_temps', 'goodbye', 'greeting', 'noanswer', 'options', 'thanks', 'what_to_do']\n",
      "[[0.00555716 0.0820922  0.00387896 0.00506481 0.02778849 0.00454313\n",
      "  0.08677212 0.03427276 0.0063824  0.00324175 0.01533694 0.00372896\n",
      "  0.01391959 0.03422364 0.00717254 0.18522253]]\n"
     ]
    }
   ],
   "source": [
    "p = bow(\"HVAC is a mechanical system in a building I think\", words)\n",
    "\n",
    "print(p)\n",
    "print(classes)\n",
    "\n",
    "inputvar = pd.DataFrame([p], dtype=float, index=['input'])\n",
    "print(model.predict_proba(inputvar))"
   ]
  },
  {
   "cell_type": "code",
   "execution_count": 15,
   "metadata": {},
   "outputs": [
    {
     "name": "stdout",
     "output_type": "stream",
     "text": [
      "found in bag: hello\n",
      "found in bag: ,\n",
      "[('check_ahu', 0.0288), ('check_all_hvac', 0.0498), ('check_boiler_plant', 0.0596), ('check_chiller_plant', 0.0494), ('check_energy', 0.0455), ('check_future_weather', 0.0495), ('check_how_it_should_all_work', 0.0293), ('check_power', 0.0409), ('check_runtime', 0.0608), ('check_zone_temps', 0.0316), ('goodbye', 0.079), ('greeting', 0.5956), ('noanswer', 0.115), ('options', 0.0638), ('thanks', 0.1052), ('what_to_do', 0.0373)]\n",
      "greeting\n"
     ]
    },
    {
     "data": {
      "text/plain": [
       "['Hello, thanks for asking',\n",
       " 'Good to see you again',\n",
       " 'Hi there, how can I help?']"
      ]
     },
     "execution_count": 15,
     "metadata": {},
     "output_type": "execute_result"
    }
   ],
   "source": [
    "class_info = classify_local('Hello, good day!')\n",
    "print(class_info)\n",
    "\n",
    "responce = hvac_world.get(class_info, None)\n",
    "responce['answer']"
   ]
  },
  {
   "cell_type": "code",
   "execution_count": 16,
   "metadata": {},
   "outputs": [
    {
     "name": "stdout",
     "output_type": "stream",
     "text": [
      "found in bag: how\n",
      "found in bag: you\n",
      "found in bag: can\n",
      "[('check_ahu', 0.0709), ('check_all_hvac', 0.1812), ('check_boiler_plant', 0.0418), ('check_chiller_plant', 0.0305), ('check_energy', 0.0203), ('check_future_weather', 0.0565), ('check_how_it_should_all_work', 0.0422), ('check_power', 0.0394), ('check_runtime', 0.0237), ('check_zone_temps', 0.0655), ('goodbye', 0.5239), ('greeting', 0.0669), ('noanswer', 0.1523), ('options', 0.0745), ('thanks', 0.0556), ('what_to_do', 0.0674)]\n",
      "goodbye\n"
     ]
    },
    {
     "data": {
      "text/plain": [
       "['See you!', 'Have a nice day', 'Bye! Come back again soon.']"
      ]
     },
     "execution_count": 16,
     "metadata": {},
     "output_type": "execute_result"
    }
   ],
   "source": [
    "class_info = classify_local('How you can assist me?')\n",
    "print(class_info)\n",
    "\n",
    "responce = hvac_world.get(class_info, None)\n",
    "responce['answer']"
   ]
  },
  {
   "cell_type": "code",
   "execution_count": 17,
   "metadata": {},
   "outputs": [
    {
     "name": "stdout",
     "output_type": "stream",
     "text": [
      "found in bag: what\n",
      "found in bag: is\n",
      "found in bag: mech\n",
      "found in bag: system\n",
      "found in bag: doing\n",
      "[('check_ahu', 0.0242), ('check_all_hvac', 0.1784), ('check_boiler_plant', 0.0325), ('check_chiller_plant', 0.0352), ('check_energy', 0.1223), ('check_future_weather', 0.0772), ('check_how_it_should_all_work', 0.3706), ('check_power', 0.0209), ('check_runtime', 0.0561), ('check_zone_temps', 0.1538), ('goodbye', 0.1517), ('greeting', 0.0658), ('noanswer', 0.0886), ('options', 0.206), ('thanks', 0.0354), ('what_to_do', 0.1562)]\n",
      "goodbye\n"
     ]
    },
    {
     "data": {
      "text/plain": [
       "['See you!', 'Have a nice day', 'Bye! Come back again soon.']"
      ]
     },
     "execution_count": 17,
     "metadata": {},
     "output_type": "execute_result"
    }
   ],
   "source": [
    "classify_local('what is my mechanical system doing?')\n",
    "print(class_info)\n",
    "\n",
    "responce = hvac_world.get(class_info, None)\n",
    "responce['answer']"
   ]
  },
  {
   "cell_type": "code",
   "execution_count": 18,
   "metadata": {},
   "outputs": [
    {
     "name": "stdout",
     "output_type": "stream",
     "text": [
      "found in bag: ar\n",
      "found in bag: at\n",
      "[('check_ahu', 0.3514), ('check_all_hvac', 0.1308), ('check_boiler_plant', 0.1188), ('check_chiller_plant', 0.1372), ('check_energy', 0.1106), ('check_future_weather', 0.1677), ('check_how_it_should_all_work', 0.134), ('check_power', 0.0956), ('check_runtime', 0.0595), ('check_zone_temps', 0.2217), ('goodbye', 0.3278), ('greeting', 0.1051), ('noanswer', 0.1403), ('options', 0.0871), ('thanks', 0.18), ('what_to_do', 0.2758)]\n",
      "check_ahu\n"
     ]
    },
    {
     "data": {
      "text/plain": [
       "['Checking to see how the air handlers are looking...']"
      ]
     },
     "execution_count": 18,
     "metadata": {},
     "output_type": "execute_result"
    }
   ],
   "source": [
    "class_info = classify_local('are people complaining at all?')\n",
    "print(class_info)\n",
    "\n",
    "responce = hvac_world.get(class_info, None)\n",
    "responce['answer']"
   ]
  },
  {
   "cell_type": "code",
   "execution_count": 19,
   "metadata": {},
   "outputs": [
    {
     "name": "stdout",
     "output_type": "stream",
     "text": [
      "found in bag: how\n",
      "found in bag: is\n",
      "found in bag: the\n",
      "found in bag: hvac\n",
      "found in bag: run\n",
      "[('check_ahu', 0.0911), ('check_all_hvac', 0.8161), ('check_boiler_plant', 0.0182), ('check_chiller_plant', 0.0131), ('check_energy', 0.0594), ('check_future_weather', 0.0566), ('check_how_it_should_all_work', 0.1962), ('check_power', 0.0424), ('check_runtime', 0.0502), ('check_zone_temps', 0.0563), ('goodbye', 0.0333), ('greeting', 0.0491), ('noanswer', 0.0688), ('options', 0.0403), ('thanks', 0.0414), ('what_to_do', 0.0687)]\n",
      "check_all_hvac\n"
     ]
    },
    {
     "data": {
      "text/plain": [
       "['Checking to see how the HVAC is operating...']"
      ]
     },
     "execution_count": 19,
     "metadata": {},
     "output_type": "execute_result"
    }
   ],
   "source": [
    "class_info = classify_local('how is the HVAC running?')\n",
    "print(class_info)\n",
    "\n",
    "responce = hvac_world.get(class_info, None)\n",
    "responce['answer']"
   ]
  },
  {
   "cell_type": "code",
   "execution_count": 20,
   "metadata": {},
   "outputs": [
    {
     "name": "stdout",
     "output_type": "stream",
     "text": [
      "found in bag: the\n",
      "found in bag: pow\n",
      "found in bag: us\n",
      "found in bag: for\n",
      "found in bag: the\n",
      "found in bag: build\n",
      "[('check_ahu', 0.0609), ('check_all_hvac', 0.0323), ('check_boiler_plant', 0.0271), ('check_chiller_plant', 0.0288), ('check_energy', 0.0056), ('check_future_weather', 0.0064), ('check_how_it_should_all_work', 0.0255), ('check_power', 0.529), ('check_runtime', 0.0353), ('check_zone_temps', 0.0176), ('goodbye', 0.0236), ('greeting', 0.0753), ('noanswer', 0.0485), ('options', 0.1116), ('thanks', 0.0394), ('what_to_do', 0.0443)]\n",
      "check_power\n"
     ]
    },
    {
     "data": {
      "text/plain": [
       "['Verifying that the power patterns for the building seem in check...']"
      ]
     },
     "execution_count": 20,
     "metadata": {},
     "output_type": "execute_result"
    }
   ],
   "source": [
    "class_info = classify_local('has the power use for the building been bad?')\n",
    "print(class_info)\n",
    "\n",
    "responce = hvac_world.get(class_info, None)\n",
    "responce['answer']"
   ]
  },
  {
   "cell_type": "code",
   "execution_count": 21,
   "metadata": {},
   "outputs": [
    {
     "name": "stdout",
     "output_type": "stream",
     "text": [
      "found in bag: ar\n",
      "found in bag: we\n",
      "found in bag: get\n",
      "found in bag: cool\n",
      "found in bag: or\n",
      "found in bag: us\n",
      "found in bag: mech\n",
      "found in bag: cool\n",
      "[('check_ahu', 0.0646), ('check_all_hvac', 0.0116), ('check_boiler_plant', 0.0497), ('check_chiller_plant', 0.0483), ('check_energy', 0.013), ('check_future_weather', 0.0245), ('check_how_it_should_all_work', 0.028), ('check_power', 0.0316), ('check_runtime', 0.0084), ('check_zone_temps', 0.0576), ('goodbye', 0.137), ('greeting', 0.0091), ('noanswer', 0.0175), ('options', 0.0699), ('thanks', 0.0323), ('what_to_do', 0.2757)]\n",
      "what_to_do\n"
     ]
    },
    {
     "data": {
      "text/plain": [
       "['I think we should get a hold of someone at the building or a local mechanical contractor']"
      ]
     },
     "execution_count": 21,
     "metadata": {},
     "output_type": "execute_result"
    }
   ],
   "source": [
    "class_info = classify_local('are we getting any free cooling or using mechanical cooling?')\n",
    "print(class_info)\n",
    "\n",
    "responce = hvac_world.get(class_info, None)\n",
    "responce['answer']"
   ]
  },
  {
   "cell_type": "code",
   "execution_count": 22,
   "metadata": {},
   "outputs": [
    {
     "name": "stdout",
     "output_type": "stream",
     "text": [
      "found in bag: that\n",
      "found in bag: seem\n",
      "found in bag: lik\n",
      "[('check_ahu', 0.1246), ('check_all_hvac', 0.0988), ('check_boiler_plant', 0.0819), ('check_chiller_plant', 0.0889), ('check_energy', 0.1611), ('check_future_weather', 0.1141), ('check_how_it_should_all_work', 0.0788), ('check_power', 0.6012), ('check_runtime', 0.0412), ('check_zone_temps', 0.0541), ('goodbye', 0.1217), ('greeting', 0.0829), ('noanswer', 0.112), ('options', 0.1262), ('thanks', 0.1024), ('what_to_do', 0.1049)]\n",
      "check_power\n"
     ]
    },
    {
     "data": {
      "text/plain": [
       "['Verifying that the power patterns for the building seem in check...']"
      ]
     },
     "execution_count": 22,
     "metadata": {},
     "output_type": "execute_result"
    }
   ],
   "source": [
    "class_info = classify_local('does that seem like its working correctly?')\n",
    "print(class_info)\n",
    "\n",
    "responce = hvac_world.get(class_info, None)\n",
    "responce['answer']"
   ]
  },
  {
   "cell_type": "code",
   "execution_count": 23,
   "metadata": {},
   "outputs": [
    {
     "name": "stdout",
     "output_type": "stream",
     "text": [
      "found in bag: ar\n",
      "found in bag: of\n",
      "found in bag: the\n",
      "found in bag: vav\n",
      "found in bag: box\n",
      "found in bag: air\n",
      "[('check_ahu', 0.1584), ('check_all_hvac', 0.0177), ('check_boiler_plant', 0.0162), ('check_chiller_plant', 0.0166), ('check_energy', 0.0162), ('check_future_weather', 0.0167), ('check_how_it_should_all_work', 0.0343), ('check_power', 0.0159), ('check_runtime', 0.055), ('check_zone_temps', 0.6266), ('goodbye', 0.0381), ('greeting', 0.0236), ('noanswer', 0.0306), ('options', 0.0278), ('thanks', 0.0215), ('what_to_do', 0.0321)]\n",
      "check_zone_temps\n"
     ]
    },
    {
     "data": {
      "text/plain": [
       "['Checking to see how the zones and vav boxes are doing...']"
      ]
     },
     "execution_count": 23,
     "metadata": {},
     "output_type": "execute_result"
    }
   ],
   "source": [
    "class_info = classify_local('are any of the vav boxes not moving air?')\n",
    "print(class_info)\n",
    "\n",
    "responce = hvac_world.get(class_info, None)\n",
    "responce['answer']"
   ]
  },
  {
   "cell_type": "code",
   "execution_count": 24,
   "metadata": {},
   "outputs": [
    {
     "name": "stdout",
     "output_type": "stream",
     "text": [
      "found in bag: what\n",
      "found in bag: ar\n",
      "found in bag: the\n",
      "found in bag: temp\n",
      "found in bag: look\n",
      "found in bag: lik\n",
      "found in bag: on\n",
      "found in bag: the\n",
      "found in bag: vav\n",
      "found in bag: box\n",
      "[('check_ahu', 0.1785), ('check_all_hvac', 0.0098), ('check_boiler_plant', 0.0071), ('check_chiller_plant', 0.0085), ('check_energy', 0.0082), ('check_future_weather', 0.0174), ('check_how_it_should_all_work', 0.0384), ('check_power', 0.0145), ('check_runtime', 0.0604), ('check_zone_temps', 0.7196), ('goodbye', 0.0364), ('greeting', 0.0239), ('noanswer', 0.0287), ('options', 0.1178), ('thanks', 0.0179), ('what_to_do', 0.0185)]\n",
      "check_zone_temps\n"
     ]
    },
    {
     "data": {
      "text/plain": [
       "['Checking to see how the zones and vav boxes are doing...']"
      ]
     },
     "execution_count": 24,
     "metadata": {},
     "output_type": "execute_result"
    }
   ],
   "source": [
    "class_info = classify_local('what are the discharge temps looking like on the reheat vav box coils?')\n",
    "print(class_info)\n",
    "\n",
    "responce = hvac_world.get(class_info, None)\n",
    "responce['answer']"
   ]
  },
  {
   "cell_type": "code",
   "execution_count": 25,
   "metadata": {},
   "outputs": [
    {
     "name": "stdout",
     "output_type": "stream",
     "text": [
      "found in bag: how\n",
      "found in bag: is\n",
      "found in bag: energy\n",
      "found in bag: us\n",
      "[('check_ahu', 0.0877), ('check_all_hvac', 0.2967), ('check_boiler_plant', 0.0527), ('check_chiller_plant', 0.0395), ('check_energy', 0.4014), ('check_future_weather', 0.1126), ('check_how_it_should_all_work', 0.0909), ('check_power', 0.0248), ('check_runtime', 0.0568), ('check_zone_temps', 0.0862), ('goodbye', 0.139), ('greeting', 0.0724), ('noanswer', 0.0652), ('options', 0.1624), ('thanks', 0.0772), ('what_to_do', 0.1025)]\n",
      "check_energy\n"
     ]
    },
    {
     "data": {
      "text/plain": [
       "['Verifying that the energy consumption is in check...']"
      ]
     },
     "execution_count": 25,
     "metadata": {},
     "output_type": "execute_result"
    }
   ],
   "source": [
    "class_info = classify_local('How is your energy use been past 10 days?')\n",
    "print(class_info)\n",
    "\n",
    "responce = hvac_world.get(class_info, None)\n",
    "responce['answer']"
   ]
  },
  {
   "cell_type": "code",
   "execution_count": 26,
   "metadata": {},
   "outputs": [
    {
     "name": "stdout",
     "output_type": "stream",
     "text": [
      "found in bag: energy\n",
      "[('check_ahu', 0.088), ('check_all_hvac', 0.1193), ('check_boiler_plant', 0.1757), ('check_chiller_plant', 0.1865), ('check_energy', 0.4099), ('check_future_weather', 0.2664), ('check_how_it_should_all_work', 0.1564), ('check_power', 0.0929), ('check_runtime', 0.1611), ('check_zone_temps', 0.1164), ('goodbye', 0.2903), ('greeting', 0.1448), ('noanswer', 0.1512), ('options', 0.142), ('thanks', 0.222), ('what_to_do', 0.1436)]\n",
      "check_energy\n"
     ]
    },
    {
     "data": {
      "text/plain": [
       "['Verifying that the energy consumption is in check...']"
      ]
     },
     "execution_count": 26,
     "metadata": {},
     "output_type": "execute_result"
    }
   ],
   "source": [
    "class_info = classify_local('energy')\n",
    "print(class_info)\n",
    "\n",
    "responce = hvac_world.get(class_info, None)\n",
    "responce['answer']"
   ]
  },
  {
   "cell_type": "code",
   "execution_count": 27,
   "metadata": {},
   "outputs": [
    {
     "name": "stdout",
     "output_type": "stream",
     "text": [
      "found in bag: pow\n",
      "[('check_ahu', 0.1793), ('check_all_hvac', 0.167), ('check_boiler_plant', 0.2238), ('check_chiller_plant', 0.174), ('check_energy', 0.0934), ('check_future_weather', 0.1744), ('check_how_it_should_all_work', 0.184), ('check_power', 0.4019), ('check_runtime', 0.1258), ('check_zone_temps', 0.1205), ('goodbye', 0.2353), ('greeting', 0.159), ('noanswer', 0.2345), ('options', 0.1845), ('thanks', 0.2234), ('what_to_do', 0.1886)]\n",
      "check_power\n"
     ]
    },
    {
     "data": {
      "text/plain": [
       "['Verifying that the power patterns for the building seem in check...']"
      ]
     },
     "execution_count": 27,
     "metadata": {},
     "output_type": "execute_result"
    }
   ],
   "source": [
    "class_info = classify_local('power')\n",
    "print(class_info)\n",
    "\n",
    "responce = hvac_world.get(class_info, None)\n",
    "responce['answer']"
   ]
  },
  {
   "cell_type": "code",
   "execution_count": 28,
   "metadata": {},
   "outputs": [
    {
     "name": "stdout",
     "output_type": "stream",
     "text": [
      "[('check_ahu', 0.1593), ('check_all_hvac', 0.2368), ('check_boiler_plant', 0.2677), ('check_chiller_plant', 0.2796), ('check_energy', 0.1896), ('check_future_weather', 0.3278), ('check_how_it_should_all_work', 0.1971), ('check_power', 0.1873), ('check_runtime', 0.1476), ('check_zone_temps', 0.1606), ('goodbye', 0.3733), ('greeting', 0.256), ('noanswer', 0.2725), ('options', 0.141), ('thanks', 0.3222), ('what_to_do', 0.2294)]\n",
      "goodbye\n"
     ]
    },
    {
     "data": {
      "text/plain": [
       "['See you!', 'Have a nice day', 'Bye! Come back again soon.']"
      ]
     },
     "execution_count": 28,
     "metadata": {},
     "output_type": "execute_result"
    }
   ],
   "source": [
    "class_info = classify_local('boiler')\n",
    "print(class_info)\n",
    "\n",
    "responce = hvac_world.get(class_info, None)\n",
    "responce['answer']"
   ]
  },
  {
   "cell_type": "code",
   "execution_count": 29,
   "metadata": {},
   "outputs": [
    {
     "name": "stdout",
     "output_type": "stream",
     "text": [
      "[('check_ahu', 0.1593), ('check_all_hvac', 0.2368), ('check_boiler_plant', 0.2677), ('check_chiller_plant', 0.2796), ('check_energy', 0.1896), ('check_future_weather', 0.3278), ('check_how_it_should_all_work', 0.1971), ('check_power', 0.1873), ('check_runtime', 0.1476), ('check_zone_temps', 0.1606), ('goodbye', 0.3733), ('greeting', 0.256), ('noanswer', 0.2725), ('options', 0.141), ('thanks', 0.3222), ('what_to_do', 0.2294)]\n",
      "goodbye\n"
     ]
    },
    {
     "data": {
      "text/plain": [
       "['See you!', 'Have a nice day', 'Bye! Come back again soon.']"
      ]
     },
     "execution_count": 29,
     "metadata": {},
     "output_type": "execute_result"
    }
   ],
   "source": [
    "class_info = classify_local('chiller')\n",
    "print(class_info)\n",
    "\n",
    "responce = hvac_world.get(class_info, None)\n",
    "responce['answer']"
   ]
  },
  {
   "cell_type": "code",
   "execution_count": 30,
   "metadata": {},
   "outputs": [
    {
     "name": "stdout",
     "output_type": "stream",
     "text": [
      "found in bag: vav\n",
      "found in bag: box\n",
      "[('check_ahu', 0.067), ('check_all_hvac', 0.103), ('check_boiler_plant', 0.1401), ('check_chiller_plant', 0.1405), ('check_energy', 0.073), ('check_future_weather', 0.1182), ('check_how_it_should_all_work', 0.1045), ('check_power', 0.0553), ('check_runtime', 0.0891), ('check_zone_temps', 0.6966), ('goodbye', 0.2005), ('greeting', 0.1319), ('noanswer', 0.1484), ('options', 0.0864), ('thanks', 0.1055), ('what_to_do', 0.107)]\n",
      "check_zone_temps\n"
     ]
    },
    {
     "data": {
      "text/plain": [
       "['Checking to see how the zones and vav boxes are doing...']"
      ]
     },
     "execution_count": 30,
     "metadata": {},
     "output_type": "execute_result"
    }
   ],
   "source": [
    "class_info = classify_local('vav boxes')\n",
    "print(class_info)\n",
    "\n",
    "responce = hvac_world.get(class_info, None)\n",
    "responce['answer']"
   ]
  },
  {
   "cell_type": "code",
   "execution_count": 31,
   "metadata": {},
   "outputs": [
    {
     "name": "stdout",
     "output_type": "stream",
     "text": [
      "found in bag: zon\n",
      "found in bag: temp\n",
      "[('check_ahu', 0.0794), ('check_all_hvac', 0.1084), ('check_boiler_plant', 0.1633), ('check_chiller_plant', 0.1729), ('check_energy', 0.103), ('check_future_weather', 0.242), ('check_how_it_should_all_work', 0.1296), ('check_power', 0.0826), ('check_runtime', 0.1329), ('check_zone_temps', 0.259), ('goodbye', 0.285), ('greeting', 0.1848), ('noanswer', 0.1981), ('options', 0.2936), ('thanks', 0.2185), ('what_to_do', 0.1234)]\n",
      "options\n"
     ]
    },
    {
     "data": {
      "text/plain": [
       "['I can help to check and see if the building temperature control system is OK, like zone temps, AHUs, central plant, power, or energy use',\n",
       " 'What sort of system in your building do you want to check?']"
      ]
     },
     "execution_count": 31,
     "metadata": {},
     "output_type": "execute_result"
    }
   ],
   "source": [
    "class_info = classify_local('zone temps')\n",
    "print(class_info)\n",
    "\n",
    "responce = hvac_world.get(class_info, None)\n",
    "responce['answer']"
   ]
  },
  {
   "cell_type": "code",
   "execution_count": null,
   "metadata": {},
   "outputs": [],
   "source": []
  },
  {
   "cell_type": "code",
   "execution_count": 32,
   "metadata": {},
   "outputs": [],
   "source": [
    "# save the model to disk\n",
    "hvacmodel = 'hvac_model.sav'\n",
    "pickle.dump(model, open(hvacmodel, 'wb'))"
   ]
  },
  {
   "cell_type": "code",
   "execution_count": 33,
   "metadata": {},
   "outputs": [],
   "source": [
    "# load the model from disk\n",
    "loaded_model = pickle.load(open(hvacmodel, 'rb'))"
   ]
  },
  {
   "cell_type": "code",
   "execution_count": null,
   "metadata": {},
   "outputs": [],
   "source": []
  },
  {
   "cell_type": "code",
   "execution_count": null,
   "metadata": {},
   "outputs": [],
   "source": []
  }
 ],
 "metadata": {
  "kernelspec": {
   "display_name": "Python 3",
   "language": "python",
   "name": "python3"
  },
  "language_info": {
   "codemirror_mode": {
    "name": "ipython",
    "version": 3
   },
   "file_extension": ".py",
   "mimetype": "text/x-python",
   "name": "python",
   "nbconvert_exporter": "python",
   "pygments_lexer": "ipython3",
   "version": "3.8.5"
  }
 },
 "nbformat": 4,
 "nbformat_minor": 4
}
